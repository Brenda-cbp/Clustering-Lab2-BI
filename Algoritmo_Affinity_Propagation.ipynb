{
 "cells": [
  {
   "cell_type": "markdown",
   "metadata": {},
   "source": [
    "### Alvaro Plata (201820098), Brenda Barahona (201812721) , Sofía Álvarez (201729031)"
   ]
  },
  {
   "cell_type": "markdown",
   "metadata": {},
   "source": [
    "<h1 align='center'>Laboratorio 2: Inteligencia de Negocios</h1>\n",
    "\n",
    "BancAlpes es una entidad bancaria que está realizando una campaña de fidelización para aumentar la retención de clientes. En concreto, con su estrategía busca fidelizar especialmente a las personas que poseen tarjetas de crédito.\n",
    "Esta campaña busca ofrecer los mejores productos, servicios y recomendaciones a sus clientes de acuerdo con sus características.\n",
    "Por esta razón, ha recurrido a ustedes como consultores para que le entreguen al equipo de marketing información que pueda ayudarlos a orientar mejor sus campañas.\n",
    "En particular, el equipo de marketing espera que le provean grupos a los cuales pueden dirigir sus campañas y las caracteristicas de los clientes en dichos grupos.\n",
    "BancAlpes considera que esta nueva estrategia de marketing le permitirá aumentar el consumo de productos y servicios y por supuesto, aumentar la retención de clientes."
   ]
  },
  {
   "cell_type": "markdown",
   "metadata": {},
   "source": [
    "## 0. Librerias."
   ]
  },
  {
   "cell_type": "code",
   "execution_count": 1,
   "metadata": {},
   "outputs": [],
   "source": [
    "# ESAI\n",
    "# Importamos todas las librerias necesarias para el laboratorio.\n",
    "import re\n",
    "import numpy as np\n",
    "import pandas as pd\n",
    "import seaborn as sns\n",
    "from sklearn import tree\n",
    "from joblib import dump, load\n",
    "import matplotlib.pyplot as plt\n",
    "from sklearn.impute import SimpleImputer\n",
    "from imblearn.over_sampling import SMOTE\n",
    "from pandas_profiling import ProfileReport\n",
    "from sklearn.pipeline import Pipeline, FeatureUnion\n",
    "from imblearn.pipeline import Pipeline as imbpipeline\n",
    "from sklearn.metrics import recall_score, make_scorer\n",
    "from sklearn.metrics import classification_report, plot_confusion_matrix\n",
    "from sklearn.preprocessing import OneHotEncoder, MinMaxScaler, StandardScaler\n",
    "from sklearn.model_selection import train_test_split, GridSearchCV, StratifiedKFold\n",
    "from sklearn.cluster import AffinityPropagation\n",
    "from sklearn import metrics\n",
    "from sklearn.metrics import silhouette_samples, silhouette_score\n",
    "from matplotlib import cm\n",
    "%matplotlib inline"
   ]
  },
  {
   "cell_type": "markdown",
   "metadata": {},
   "source": [
    "## 1. Análisis exploratorio y perfilamiento de los datos.\n",
    "\n",
    "En esta etapa sabremos cuántos datos tenemos (filas y columnas), el tipo de datos de las columnas, cual es la integridad de los datos, cuál es su distribución (discreta o continua). Ademas, para el caso de las columnas numéricas, usaremos estadística descriptiva sobre los datos, y señalaremos sus principales estadísticos: media, varianza, desviación estándar, etc.  En caso de datos categóricos conoceremos las categorías, los números de registro por categoría, en especial para las categorías con mayor representación en los datos.\n",
    "\n",
    "Primero leemos los datos y sacamos una muestra, como se ve a continuación:"
   ]
  },
  {
   "cell_type": "code",
   "execution_count": 2,
   "metadata": {},
   "outputs": [
    {
     "data": {
      "text/html": [
       "<div>\n",
       "<style scoped>\n",
       "    .dataframe tbody tr th:only-of-type {\n",
       "        vertical-align: middle;\n",
       "    }\n",
       "\n",
       "    .dataframe tbody tr th {\n",
       "        vertical-align: top;\n",
       "    }\n",
       "\n",
       "    .dataframe thead th {\n",
       "        text-align: right;\n",
       "    }\n",
       "</style>\n",
       "<table border=\"1\" class=\"dataframe\">\n",
       "  <thead>\n",
       "    <tr style=\"text-align: right;\">\n",
       "      <th></th>\n",
       "      <th>CUST_ID</th>\n",
       "      <th>GENDER</th>\n",
       "      <th>BALANCE</th>\n",
       "      <th>PURCHASES</th>\n",
       "      <th>BALANCE_FREQUENCY</th>\n",
       "      <th>CASH_ADVANCE</th>\n",
       "      <th>CASH_ADVANCE_TRX</th>\n",
       "      <th>PURCHASES_FREQUENCY</th>\n",
       "      <th>PURCHASES_TRX</th>\n",
       "      <th>ONEOFF_PURCHASES_FREQUENCY</th>\n",
       "      <th>CASH_ADVANCE_FREQUENCY</th>\n",
       "      <th>CREDIT_LIMIT</th>\n",
       "      <th>PAYMENTS</th>\n",
       "      <th>MINIMUM_PAYMENTS</th>\n",
       "      <th>TENURE</th>\n",
       "    </tr>\n",
       "  </thead>\n",
       "  <tbody>\n",
       "    <tr>\n",
       "      <th>1206</th>\n",
       "      <td>C10372</td>\n",
       "      <td>NaN</td>\n",
       "      <td>601.920370</td>\n",
       "      <td>983.77</td>\n",
       "      <td>1.0</td>\n",
       "      <td>0.0</td>\n",
       "      <td>0.0</td>\n",
       "      <td>0.666667</td>\n",
       "      <td>15</td>\n",
       "      <td>0.416667</td>\n",
       "      <td>0.000000</td>\n",
       "      <td>2400.0</td>\n",
       "      <td>389.411161</td>\n",
       "      <td>219.465695</td>\n",
       "      <td>12</td>\n",
       "    </tr>\n",
       "    <tr>\n",
       "      <th>1880</th>\n",
       "      <td>C14816</td>\n",
       "      <td>NaN</td>\n",
       "      <td>2122.066396</td>\n",
       "      <td>0.00</td>\n",
       "      <td>1.0</td>\n",
       "      <td>1048.972729</td>\n",
       "      <td>9.0</td>\n",
       "      <td>0.000000</td>\n",
       "      <td>0</td>\n",
       "      <td>NaN</td>\n",
       "      <td>NaN</td>\n",
       "      <td>3000.0</td>\n",
       "      <td>548.182704</td>\n",
       "      <td>515.520727</td>\n",
       "      <td>12</td>\n",
       "    </tr>\n",
       "    <tr>\n",
       "      <th>3033</th>\n",
       "      <td>C15399</td>\n",
       "      <td>NaN</td>\n",
       "      <td>1121.018433</td>\n",
       "      <td>0.00</td>\n",
       "      <td>1.0</td>\n",
       "      <td>410.041428</td>\n",
       "      <td>2.0</td>\n",
       "      <td>0.000000</td>\n",
       "      <td>0</td>\n",
       "      <td>NaN</td>\n",
       "      <td>0.083333</td>\n",
       "      <td>1500.0</td>\n",
       "      <td>858.248769</td>\n",
       "      <td>296.752391</td>\n",
       "      <td>12</td>\n",
       "    </tr>\n",
       "    <tr>\n",
       "      <th>5254</th>\n",
       "      <td>C19068</td>\n",
       "      <td>NaN</td>\n",
       "      <td>30.175490</td>\n",
       "      <td>235.71</td>\n",
       "      <td>1.0</td>\n",
       "      <td>0.0</td>\n",
       "      <td>0.0</td>\n",
       "      <td>1.000000</td>\n",
       "      <td>9</td>\n",
       "      <td>NaN</td>\n",
       "      <td>0.000000</td>\n",
       "      <td>1500.0</td>\n",
       "      <td>171.066972</td>\n",
       "      <td>128.961432</td>\n",
       "      <td>9</td>\n",
       "    </tr>\n",
       "    <tr>\n",
       "      <th>2649</th>\n",
       "      <td>C17073</td>\n",
       "      <td>NaN</td>\n",
       "      <td>1728.280785</td>\n",
       "      <td>0.00</td>\n",
       "      <td>1.0</td>\n",
       "      <td>2552.869584</td>\n",
       "      <td>20.0</td>\n",
       "      <td>0.000000</td>\n",
       "      <td>0</td>\n",
       "      <td>0.000000</td>\n",
       "      <td>0.500000</td>\n",
       "      <td>2500.0</td>\n",
       "      <td>1028.314286</td>\n",
       "      <td>1175.17299</td>\n",
       "      <td>12</td>\n",
       "    </tr>\n",
       "  </tbody>\n",
       "</table>\n",
       "</div>"
      ],
      "text/plain": [
       "     CUST_ID GENDER      BALANCE  PURCHASES  BALANCE_FREQUENCY CASH_ADVANCE  \\\n",
       "1206  C10372    NaN   601.920370     983.77                1.0          0.0   \n",
       "1880  C14816    NaN  2122.066396       0.00                1.0  1048.972729   \n",
       "3033  C15399    NaN  1121.018433       0.00                1.0   410.041428   \n",
       "5254  C19068    NaN    30.175490     235.71                1.0          0.0   \n",
       "2649  C17073    NaN  1728.280785       0.00                1.0  2552.869584   \n",
       "\n",
       "      CASH_ADVANCE_TRX  PURCHASES_FREQUENCY PURCHASES_TRX  \\\n",
       "1206               0.0             0.666667            15   \n",
       "1880               9.0             0.000000             0   \n",
       "3033               2.0             0.000000             0   \n",
       "5254               0.0             1.000000             9   \n",
       "2649              20.0             0.000000             0   \n",
       "\n",
       "      ONEOFF_PURCHASES_FREQUENCY  CASH_ADVANCE_FREQUENCY  CREDIT_LIMIT  \\\n",
       "1206                    0.416667                0.000000        2400.0   \n",
       "1880                         NaN                     NaN        3000.0   \n",
       "3033                         NaN                0.083333        1500.0   \n",
       "5254                         NaN                0.000000        1500.0   \n",
       "2649                    0.000000                0.500000        2500.0   \n",
       "\n",
       "         PAYMENTS MINIMUM_PAYMENTS TENURE  \n",
       "1206   389.411161       219.465695     12  \n",
       "1880   548.182704       515.520727     12  \n",
       "3033   858.248769       296.752391     12  \n",
       "5254   171.066972       128.961432      9  \n",
       "2649  1028.314286       1175.17299     12  "
      ]
     },
     "execution_count": 2,
     "metadata": {},
     "output_type": "execute_result"
    }
   ],
   "source": [
    "datos = pd.read_csv('202210_Laboratorio2_data_202210_Lab2_BancAlpes_CC_data.csv', delimiter=',')\n",
    "datos.sample(5)"
   ]
  },
  {
   "cell_type": "markdown",
   "metadata": {},
   "source": [
    "Veamos, ahora, el número de filas y columnas que tenemos en nuestro conjunto de datos:"
   ]
  },
  {
   "cell_type": "code",
   "execution_count": 3,
   "metadata": {},
   "outputs": [
    {
     "name": "stdout",
     "output_type": "stream",
     "text": [
      "Número de filas o datos: 5530\n",
      "Número de columnas o variables: 15\n"
     ]
    }
   ],
   "source": [
    "print(\"Número de filas o datos: {}\".format(len(datos)))\n",
    "print(\"Número de columnas o variables: {}\".format(len(datos.columns)))"
   ]
  },
  {
   "cell_type": "markdown",
   "metadata": {},
   "source": [
    "Vemos que tenemos 5530 datos (filas) y 15 columnas (variables). Comparando con el diccionario de datos, vemos que el negocio nos entregó 15 columnas también.\n",
    "\n",
    "Para ver una exploración más exhaustiva, hicimos un <code>pandas profiling</code> de los datos que nos fueron entregados: "
   ]
  },
  {
   "cell_type": "code",
   "execution_count": 4,
   "metadata": {},
   "outputs": [],
   "source": [
    "# profiling = ProfileReport(datos)\n",
    "# profiling.to_file(output_file=\"pandas_profiling.html\")\n",
    "# profiling"
   ]
  },
  {
   "cell_type": "markdown",
   "metadata": {},
   "source": [
    "Haciendo un perfilamiento y análisis exploratorio sobre los datos, encontramos lo siguiente:\n",
    "\n",
    "<b>Estadísticas generales</b>: Primero, tenemos 5933 celdas con ausencias, lo que corresponde al 7.2% del total del dataset. Para ellas, más adelante, debe implementarse una estrategia de imputación o eliminación, según sea el caso, como se verá más adelante. Asimismo, vemos que no tenemos filas duplicadas.\n",
    "\n",
    "Las variables que tienen valores vacios son: \n",
    "* **OneOffPurchases_frequency** con 2740 celdas vacías (i.e. 49.5%).\n",
    "* **Gender** con 2714 celdas vacías (i.e. 49.1%).\n",
    "* **Cash_advance_frequency** con 166 celdas vacías (i.e. 3%).\n",
    "* **Tenure** con 163 celdas vacías (i.e. 2.9%).\n",
    "* **Cash_Advance_Trx** con 150 celdas vacías (i.e. 2.7%).\n",
    "\n",
    "Preliminarmente, podemos ver que las dos primeras variables descritas tienen casi la mitad de ausencias y, posiblemente, deban ser eliminadas del análisis. \n",
    "\n",
    "Asimismo, se tienen 9 variables numéricas y 6 categóricas. Esto NO concuerda con el diccionario dado por BancAlpes. Encontramos que el tipo de dato identificado por pandas profiling es incorrecto para las siguientes variables, según lo indicado por el documento del diccionario, pues estas variable deben ser numéricas y fueron clasificadas como categóricas: \n",
    "* **CashAdvance:** De acuerdo con el diccionario de datos, es numérica. No obstante, pandas profiling la determina como categórica por la presencia de valores como ?? u otros, en teoría numéricos, que finalizan con ?ñ, como 00.?ñ. Esto debe tratarse en la limpieza de datos, seguramente asumiéndolos como errores de tipeo. \n",
    "* **PurchasesTrx:** En este caso, la variable debe ser numérica también. Por tener caracteres con ?, pandas profiling la etiqueta como categórica. Esto debe tratarse en la limpieza de datos, seguramente asumiéndolos como errores de tipeo.\n",
    "* **Minimum_payments:** Debe ser numérica y es catalogada como categórica por la presencia de caracteres como ??, ñ?, ?. De nuevo, esto será tratado más adelante.\n",
    "* **Tenure:** Debe ser numérica y, por caracteres extraños como ?, ñ en algunas celdas (o acompañando a ciertos valores numéricos), es definida como categórica.\n",
    "\n",
    "Para todas estas variables, hay algunos datos con inconsistencias o datos atípicos y, por tanto, deben ser procesados más adelante. \n",
    "\n",
    "Ahora, de las variables catalogadas como numéricas, tenemos que las que tienen una distribución continua son:\n",
    "* **Balance:** Es una variable real distribuida en el rango [-4587.892398, 7390.19856]. De acuerdo con el diccionario y los expertos, esta debe ser siempre positiva y estar en el rango [0, 5000].\n",
    "* **Balance_frequency:** De acuerdo con el negocio, debe estar distribuida entre 0 y 1. Vemos algunos outliers en 1000.\n",
    "* **Purchases:** Es una variable real distribuida en el rango [0, 9661.37]. De acuerdo con el negocio, debe estar distribuida entre [0, 15000], por lo que concluimos que los valores se encuentran en el rango definido. Nos parece curioso que haya valores decimales, pues según Bancalpes, esta variable representa la cantidad de compras realizadas por los clientes, y estas deberían ser números enteros. Suponemos, entonces, que se refiere al número promedio de compras realizadas por una cuenta en un intervalo de tiempo determinado.\n",
    "* **OneOffPurchasesFrequency:** Tiene una distribución continua entre 0 y 1, como es de esperarse de acuerdo con los expertos.\n",
    "* **Purchases_frequency:** De acuerdo con el negocio, debe estar distribuida entre 0 y 1. Vemos algunos outliers en 1000.\n",
    "\n",
    "* **Cash_advance_frequency:** Tiene una distribución continua entre 0 y 1.5, cuando su valor máximo debería ser 1. Vemos entonces que hay datos fuera de rango.\n",
    "* **Credit_limit:** Es una variable con distribución continua en el rango [50, 12500]. De acuerdo con el negocio, esta variable, que representa límite de crédito por usuario, debe estar distribuida entre [0, 10000]. Vemos que hay algunos pocos valores que se salen del límite superior. No obstante, puede tener sentido que algunos usuarios tengan un límite crediticio entre [10000, 12500]. Este tipo de decisiones las trataremos más adelante.  \n",
    "* **Payments:** Cantidad pagada por el usuario, debe estar distribuida entre [0, 10000] y se encuentra en el rango [0.056466, 9933.62261]. Está adecuadamente distribuida según el negocio.\n",
    "\n",
    "Además de las variables antes mencionadas, encontramos que hay otras que tambien siguen una distribución continua y que, debido a los outliers y los valores corruptos (i.e. con ñ), no se evidenciaba una clara distribucion de los datos, ya que los rangos con los que pandas contruyó el histograma eran muy grandes.\n",
    "\n",
    "Por otro lado, vemos que las variables numéricas con distribución discreta son:\n",
    "* **CashAdvanceTrx:** Parece ser que tiene una distribución discreta, lo cual concuerda con la descripción dada en el diccionario. No obstante, tiene muchos outliers y es difícil saberlo.\n",
    "* **PurchasesTrx:** Sucede algo similar que con CashAdvanceTrx. \n",
    "\n",
    "Un análisis más detallado de las variables numéricas se hará más adelante.\n",
    "\n",
    "Asimismo, las variables (realmente) categóricas son:\n",
    "* **CustID:** La identificación del cliente, en que todos los valores son únicos. No da información relevante para el modelo de agrupación.\n",
    "* **Gender:** Representa el género de la persona. Tiene muchas ausencias, como se mencionó previamente. Una distribución de esta variable la veremos más adelante.\n",
    "\n",
    "Vemos entonces que la calidad de los datos, en general, no es muy buena. No sólo hay variables con datos fuera de rango según lo definido por el negocio; sino que, además, hay algunos datos inconsistentes (con ?, ñ?, ??, por ejemplo) o nulos (vacíos). Para poder implementar los modelos, es necesario corregir estas inconsistencias en los datos. "
   ]
  },
  {
   "cell_type": "markdown",
   "metadata": {},
   "source": [
    "##### Variables numéricas:\n",
    "Veamos estadísticas descriptivas sobre los datos numéricos:"
   ]
  },
  {
   "cell_type": "code",
   "execution_count": 5,
   "metadata": {},
   "outputs": [
    {
     "data": {
      "text/html": [
       "<div>\n",
       "<style scoped>\n",
       "    .dataframe tbody tr th:only-of-type {\n",
       "        vertical-align: middle;\n",
       "    }\n",
       "\n",
       "    .dataframe tbody tr th {\n",
       "        vertical-align: top;\n",
       "    }\n",
       "\n",
       "    .dataframe thead th {\n",
       "        text-align: right;\n",
       "    }\n",
       "</style>\n",
       "<table border=\"1\" class=\"dataframe\">\n",
       "  <thead>\n",
       "    <tr style=\"text-align: right;\">\n",
       "      <th></th>\n",
       "      <th>BALANCE</th>\n",
       "      <th>PURCHASES</th>\n",
       "      <th>BALANCE_FREQUENCY</th>\n",
       "      <th>CASH_ADVANCE_TRX</th>\n",
       "      <th>PURCHASES_FREQUENCY</th>\n",
       "      <th>ONEOFF_PURCHASES_FREQUENCY</th>\n",
       "      <th>CASH_ADVANCE_FREQUENCY</th>\n",
       "      <th>CREDIT_LIMIT</th>\n",
       "      <th>PAYMENTS</th>\n",
       "    </tr>\n",
       "  </thead>\n",
       "  <tbody>\n",
       "    <tr>\n",
       "      <th>count</th>\n",
       "      <td>5530.000000</td>\n",
       "      <td>5530.000000</td>\n",
       "      <td>5530.000000</td>\n",
       "      <td>5380.000000</td>\n",
       "      <td>5530.000000</td>\n",
       "      <td>2790.000000</td>\n",
       "      <td>5364.000000</td>\n",
       "      <td>5530.000000</td>\n",
       "      <td>5530.000000</td>\n",
       "    </tr>\n",
       "    <tr>\n",
       "      <th>mean</th>\n",
       "      <td>1041.700463</td>\n",
       "      <td>534.577103</td>\n",
       "      <td>26.482552</td>\n",
       "      <td>49.115428</td>\n",
       "      <td>12.206006</td>\n",
       "      <td>0.148298</td>\n",
       "      <td>0.119005</td>\n",
       "      <td>3588.095256</td>\n",
       "      <td>1107.989817</td>\n",
       "    </tr>\n",
       "    <tr>\n",
       "      <th>std</th>\n",
       "      <td>1353.093044</td>\n",
       "      <td>773.488745</td>\n",
       "      <td>152.899316</td>\n",
       "      <td>573.817771</td>\n",
       "      <td>93.757671</td>\n",
       "      <td>0.241687</td>\n",
       "      <td>0.173206</td>\n",
       "      <td>2640.396238</td>\n",
       "      <td>1270.892564</td>\n",
       "    </tr>\n",
       "    <tr>\n",
       "      <th>min</th>\n",
       "      <td>-4587.892398</td>\n",
       "      <td>0.000000</td>\n",
       "      <td>0.000000</td>\n",
       "      <td>0.000000</td>\n",
       "      <td>0.000000</td>\n",
       "      <td>0.000000</td>\n",
       "      <td>0.000000</td>\n",
       "      <td>50.000000</td>\n",
       "      <td>0.056466</td>\n",
       "    </tr>\n",
       "    <tr>\n",
       "      <th>25%</th>\n",
       "      <td>74.060304</td>\n",
       "      <td>0.000000</td>\n",
       "      <td>0.833333</td>\n",
       "      <td>0.000000</td>\n",
       "      <td>0.000000</td>\n",
       "      <td>0.000000</td>\n",
       "      <td>0.000000</td>\n",
       "      <td>1500.000000</td>\n",
       "      <td>345.431102</td>\n",
       "    </tr>\n",
       "    <tr>\n",
       "      <th>50%</th>\n",
       "      <td>632.743634</td>\n",
       "      <td>269.130000</td>\n",
       "      <td>1.000000</td>\n",
       "      <td>0.000000</td>\n",
       "      <td>0.363636</td>\n",
       "      <td>0.000000</td>\n",
       "      <td>0.000000</td>\n",
       "      <td>2900.000000</td>\n",
       "      <td>671.001700</td>\n",
       "    </tr>\n",
       "    <tr>\n",
       "      <th>75%</th>\n",
       "      <td>1545.808455</td>\n",
       "      <td>723.700000</td>\n",
       "      <td>1.000000</td>\n",
       "      <td>3.000000</td>\n",
       "      <td>0.833333</td>\n",
       "      <td>0.166667</td>\n",
       "      <td>0.166667</td>\n",
       "      <td>5000.000000</td>\n",
       "      <td>1354.931507</td>\n",
       "    </tr>\n",
       "    <tr>\n",
       "      <th>max</th>\n",
       "      <td>7390.198560</td>\n",
       "      <td>9661.370000</td>\n",
       "      <td>1000.000000</td>\n",
       "      <td>18000.000000</td>\n",
       "      <td>1000.000000</td>\n",
       "      <td>1.000000</td>\n",
       "      <td>1.500000</td>\n",
       "      <td>12500.000000</td>\n",
       "      <td>9933.622610</td>\n",
       "    </tr>\n",
       "  </tbody>\n",
       "</table>\n",
       "</div>"
      ],
      "text/plain": [
       "           BALANCE    PURCHASES  BALANCE_FREQUENCY  CASH_ADVANCE_TRX  \\\n",
       "count  5530.000000  5530.000000        5530.000000       5380.000000   \n",
       "mean   1041.700463   534.577103          26.482552         49.115428   \n",
       "std    1353.093044   773.488745         152.899316        573.817771   \n",
       "min   -4587.892398     0.000000           0.000000          0.000000   \n",
       "25%      74.060304     0.000000           0.833333          0.000000   \n",
       "50%     632.743634   269.130000           1.000000          0.000000   \n",
       "75%    1545.808455   723.700000           1.000000          3.000000   \n",
       "max    7390.198560  9661.370000        1000.000000      18000.000000   \n",
       "\n",
       "       PURCHASES_FREQUENCY  ONEOFF_PURCHASES_FREQUENCY  \\\n",
       "count          5530.000000                 2790.000000   \n",
       "mean             12.206006                    0.148298   \n",
       "std              93.757671                    0.241687   \n",
       "min               0.000000                    0.000000   \n",
       "25%               0.000000                    0.000000   \n",
       "50%               0.363636                    0.000000   \n",
       "75%               0.833333                    0.166667   \n",
       "max            1000.000000                    1.000000   \n",
       "\n",
       "       CASH_ADVANCE_FREQUENCY  CREDIT_LIMIT     PAYMENTS  \n",
       "count             5364.000000   5530.000000  5530.000000  \n",
       "mean                 0.119005   3588.095256  1107.989817  \n",
       "std                  0.173206   2640.396238  1270.892564  \n",
       "min                  0.000000     50.000000     0.056466  \n",
       "25%                  0.000000   1500.000000   345.431102  \n",
       "50%                  0.000000   2900.000000   671.001700  \n",
       "75%                  0.166667   5000.000000  1354.931507  \n",
       "max                  1.500000  12500.000000  9933.622610  "
      ]
     },
     "execution_count": 5,
     "metadata": {},
     "output_type": "execute_result"
    }
   ],
   "source": [
    "datos.describe()"
   ]
  },
  {
   "cell_type": "markdown",
   "metadata": {},
   "source": [
    "En este punto, podemos obtener información más detallada sobre las variables numéricas. Veamos:\n",
    "* **BALANCE:** Como se dijo previamente, los valores de esta variable están fuera del rango, tanto inferior (0) como superior (5000), definido por el negocio. Vemos que el valor mínimo es -4587; no obstante, son poquitos los datos negativos porque, por lo menos, el percentil 25 está en 74.06. Ahora, el máximo es 7390; pero, de igual forma, el percentil 75 está en 1545, tal que no hay muchos datos que superen el límite superior. Esto se verá con más detalle en el preprocesamiento de los datos.\n",
    "* **PURCHASES:** Es una variable real distribuida en el rango [0, 9661.37]. De acuerdo con el negocio, debe estar distribuida entre [0, 15000], por lo que concluimos que los valores se encuentran en el rango definido. Nos parece curioso que haya valores decimales, pues según Bancalpes, esta variable representa la cantidad de compras realizadas por los clientes, y estas deberían ser números enteros. Suponemos, entonces, que se refiere al número promedio de compras realizadas por una cuenta en un intervalo de tiempo determinado.\n",
    "* **BALANCE_FREQUENCY:** De acuerdo con el negocio, debe estar distribuida entre 0 y 1. Vemos algunos outliers en 1000 (el valor máximo), que pueden ser producto de errores de tipeo (1000 en lugar de 1). Son pocos, pues por lo menos el 75% de los datos es menor o igual a 1 y mayor o igual a 0. Más adelante, trataremos esto. \n",
    "* **CASH_ADVANCE_TRX:** Parece ser que tiene una distribución discreta, lo cual concuerda con la descripción dada en el diccionario. No obstante, tiene muchos outliers y es difícil saberlo. Confimamos que el valor máximo es 18000, bastante alejado del valor máximo que, en este caso, es 15. Por estos outliers, la media está muy desplazada. En este caso, se encuentra en 49.1 (pues la media es un estadístico sensible a valores extremos). A diferencia de las anteriores, tiene 150 valores nulos.\n",
    "* **PURCHASES_FREQUENCY:** Similar A BALANCE_FREQUENCY, debería estar distribuida entre 0 y 1 pero tiene outliers en 1000 (el valor máximo), que pueden ser producto de errores de tipeo (1000 en lugar de 1). Son pocos, pues por lo menos el 75% de los datos es menor o igual a 1 y mayor o igual a 0. Más adelante, trataremos esto.\n",
    "* **ONEOFF_PURCHASES_FREQUENCY:** Esta variable tiene casi la mitad de valores nulos; por lo tanto, es difícil dar información sobre ella. Vemos que los valores están en el rango [0,1] definido por el negocio. Consideramos que no es tan relevante para el negocio dada la cantidad de valores nulos.\n",
    "* **CASH_ADVANCE_FREQUENCY:** Tiene una distribución continua entre 0 y 1.5, cuando su valor máximo debería ser 1. Vemos entonces que hay datos fuera de rango. No obstante, deben ser pocos; pues el percentil 75 se encuentra en 0.166. Tiene ciertos valores nulos, que deberán tratarse más adelante.\n",
    "* **CREDIT_LIMIT:** Es una variable con distribución continua en el rango [50, 12500]. De acuerdo con el negocio, esta variable, que representa límite de crédito por usuario, debe estar distribuida entre [0, 10000]. Vemos que hay algunos pocos valores que se salen del límite superior. No obstante, puede tener sentido que algunos usuarios tengan un límite crediticio entre [10000, 12500]; además de que, como vemos, el percentil 75 está en 5000 (no deben ser muchos los datos por encima del rango). De acuerdo con su media (3588) y desviación estándar (2640), vemos que los datos están dispersos.\n",
    "* **PAYMENTS:** Cantidad pagada por el usuario, debe estar distribuida entre [0, 10000] y se encuentra en el rango [0.056466, 9933.62261]. Está adecuadamente distribuida según el negocio. Todos los datos están completos, su media está en 1107 y su desviación estándar en 1270. Los datos son, entonces, bastante dispersos.\n",
    "\n",
    "Note que en este análisis no es posible hablar de las variables numéricas con datos atípicos o inconsistencias (?, ñ?, por ejemplo), porque no se detectan como valores numéricos por python. \n",
    "\n",
    "Finalmente, dependiendo del algoritmo a utilizar, se hace a veces necesario entender la correlación entre las distintas variables. Veamos un mapa de correlación entre las variables numéricas:"
   ]
  },
  {
   "cell_type": "code",
   "execution_count": 6,
   "metadata": {},
   "outputs": [
    {
     "data": {
      "image/png": "[encoded data removed]",
      "text/plain": [
       "<Figure size 360x360 with 2 Axes>"
      ]
     },
     "metadata": {
      "needs_background": "light"
     },
     "output_type": "display_data"
    }
   ],
   "source": [
    "corr = datos.corr()\n",
    "\n",
    "plt.figure(figsize=(5,5))\n",
    "sns.heatmap(corr, \n",
    "        xticklabels=corr.columns,\n",
    "        yticklabels=corr.columns)\n",
    "plt.title('Matriz de correlación entre las columnas del dataset')\n",
    "plt.show()"
   ]
  },
  {
   "cell_type": "markdown",
   "metadata": {},
   "source": [
    "Podemos ver que no hay correlaciones ni positivas ni negativas muy fuertes entre los datos. La correlación positiva más alta, de alrededor de 0.6, es entre PURCHASES_FREQUENCY y ONEOFF_PURCHASES_FREQUENCY. Quizá podría pensarse en eliminarse alguna de estas columnas, pero estas son decisiones que deben tomarse más adelante."
   ]
  },
  {
   "cell_type": "markdown",
   "metadata": {},
   "source": [
    "##### Variables categóricas:\n",
    "En caso de datos categóricos según el diccionario conoceremos las categorías, los números de registro por categoría, en especial para las categorías con mayor representación en los datos. En este caso, veremos sólo la distribución de género; pues de acuerdo con el pandas profiling, los datos de los IDs de los consumidores son únicos."
   ]
  },
  {
   "cell_type": "code",
   "execution_count": 7,
   "metadata": {},
   "outputs": [
    {
     "data": {
      "image/png": "[encoded data removed]",
      "text/plain": [
       "<Figure size 432x288 with 1 Axes>"
      ]
     },
     "metadata": {
      "needs_background": "light"
     },
     "output_type": "display_data"
    },
    {
     "name": "stdout",
     "output_type": "stream",
     "text": [
      "Veamos la cantidad de datos en cada clase: \n"
     ]
    },
    {
     "data": {
      "text/html": [
       "<div>\n",
       "<style scoped>\n",
       "    .dataframe tbody tr th:only-of-type {\n",
       "        vertical-align: middle;\n",
       "    }\n",
       "\n",
       "    .dataframe tbody tr th {\n",
       "        vertical-align: top;\n",
       "    }\n",
       "\n",
       "    .dataframe thead th {\n",
       "        text-align: right;\n",
       "    }\n",
       "</style>\n",
       "<table border=\"1\" class=\"dataframe\">\n",
       "  <thead>\n",
       "    <tr style=\"text-align: right;\">\n",
       "      <th></th>\n",
       "      <th>GENDER</th>\n",
       "    </tr>\n",
       "  </thead>\n",
       "  <tbody>\n",
       "    <tr>\n",
       "      <th>F</th>\n",
       "      <td>1443</td>\n",
       "    </tr>\n",
       "    <tr>\n",
       "      <th>M</th>\n",
       "      <td>1373</td>\n",
       "    </tr>\n",
       "  </tbody>\n",
       "</table>\n",
       "</div>"
      ],
      "text/plain": [
       "   GENDER\n",
       "F    1443\n",
       "M    1373"
      ]
     },
     "execution_count": 7,
     "metadata": {},
     "output_type": "execute_result"
    }
   ],
   "source": [
    "val_counts_gender = datos['GENDER'].value_counts()\n",
    "plt.bar(range(len(val_counts_gender)), val_counts_gender.values, align='center',color='orchid')\n",
    "plt.xticks(range(len(val_counts_gender)), val_counts_gender.index.values, size='small')\n",
    "plt.title('División de las clases de la variable género')\n",
    "plt.show()\n",
    "print('Veamos la cantidad de datos en cada clase: ')\n",
    "datos['GENDER'].value_counts().to_frame()"
   ]
  },
  {
   "cell_type": "markdown",
   "metadata": {},
   "source": [
    "Podemos ver que hay una cantidad de datos de cada categoría muy parecida; no obstante, teniendo en cuenta la cantidad total de datos del dataset, podemos ver que hay ciertos valores nulos (la totalidad de ambas categorías no suma el total de datos).\n",
    "\n",
    "**NOTA:** Es importante mencionar que, en el contexto de las tareas por agrupación y dado el enunciado, no es necesario hacer una partición train-test de los datos. "
   ]
  },
  {
   "cell_type": "markdown",
   "metadata": {},
   "source": [
    "## 2. Preparación de datos.\n",
    "\n",
    "Realizaremos el proceso para garantizar la calidad de los datos antes de correr los algoritmos.\n",
    "\n",
    "### Eliminación de columnas \n",
    "\n",
    "La columna CUSTID es la identificacion de la tarjeta de crédito. Como esta columna no representa ningún dato significativo para el proceso de la creación del modelo, procedemos a eliminarla. Esto se debe a que los IDs no son relevantes en la mayoría de trabajos de aprendizaje automático. \n",
    "\n",
    "Como se indicó en el perfilamiento de los datos, las columnas OneOffPurchases_frecuency y Gender cuentan con un porcentaje de celdas faltantes significativo: 49.5% y 49.1%, respectivamente. Por esta razón si realizamos imputación de datos para estas columnas, estaríamos sesgando los datos, por lo que también serán eliminadas."
   ]
  },
  {
   "cell_type": "code",
   "execution_count": 8,
   "metadata": {},
   "outputs": [
    {
     "name": "stdout",
     "output_type": "stream",
     "text": [
      "Número de filas o datos: 5530\n",
      "Número de columnas o variables: 12\n"
     ]
    }
   ],
   "source": [
    "datos.drop([\"GENDER\", \"CUST_ID\", \"ONEOFF_PURCHASES_FREQUENCY\"], axis=1, inplace=True)\n",
    "print(\"Número de filas o datos: {}\".format(len(datos)))\n",
    "print(\"Número de columnas o variables: {}\".format(len(datos.columns)))"
   ]
  },
  {
   "cell_type": "markdown",
   "metadata": {},
   "source": [
    "### Manejo de valores atipicos / no válidos\n",
    "Primero, revisaremos cuales son los datos no válidos que tenemos en los datos, como los que identificamos con ??, ñ? en el perfilamiento."
   ]
  },
  {
   "cell_type": "code",
   "execution_count": 9,
   "metadata": {},
   "outputs": [],
   "source": [
    "def get_not_numeric_values(datos):\n",
    "    # Vemos todos los valores distintos (únicos) que tiene el dataframe.\n",
    "    valores_distintos = list(datos.apply(pd.value_counts).index)\n",
    "    valores_no_numericos = []\n",
    "    # Interamos sobre los valores distintos\n",
    "    for val in valores_distintos:\n",
    "        try:\n",
    "            # Intentamos hacer el cast a float\n",
    "            numero = float(val)\n",
    "        except:\n",
    "            # Si hay datos no numericos, los agregamos a la lista\n",
    "            valores_no_numericos.append(val)\n",
    "    return valores_no_numericos"
   ]
  },
  {
   "cell_type": "code",
   "execution_count": 10,
   "metadata": {},
   "outputs": [
    {
     "name": "stdout",
     "output_type": "stream",
     "text": [
      "Los valores no numéricos son:\n",
      " 0.0?ñ, 0?ñ, 1.721007?ñ, 1090.811625?ñ, 10?ñ, 1117.265123?ñ, 117.258435?ñ, 11?ñ, 120.178123?ñ, 1210.778254?ñ, 1222.355238?ñ, 1227.092304?ñ, 1232.547913?ñ, 1253.401339?ñ, 1254.849545?ñ, 1265.552953?ñ, 127.542299?ñ, 1297.077512?ñ, 1299.253842?ñ, 12?ñ, 130.626533?ñ, 1344.577203?ñ, 135.26688?ñ, 139.382867?ñ, 1414.866215?ñ, 1452.265916?ñ, 1454.215974?ñ, 1460.777849?ñ, 147.347019?ñ, 1480.171443?ñ, 149.110815?ñ, 14?ñ, 1516.892745?ñ, 158.851964?ñ, 15?ñ, 162.269258?ñ, 162.941232?ñ, 163.353616?ñ, 167.584529?ñ, 168.805075?ñ, 1708.514116?ñ, 172.574308?ñ, 175.755159?ñ, 178.143055?ñ, 178.313275?ñ, 17?ñ, 18.904244?ñ, 183.230915?ñ, 184.288462?ñ, 185.805592?ñ, 1863.759832?ñ, 188.591146?ñ, 1983.897997?ñ, 19?ñ, 1?ñ, 200.254118?ñ, 202.991548?ñ, 216.195821?ñ, 21?ñ, 229.289946?ñ, 229.94082?ñ, 22?ñ, 233.788637?ñ, 234.095576?ñ, 237.378894?ñ, 239.606651?ñ, 23?ñ, 247.32444?ñ, 254.022569?ñ, 2555.103715?ñ, 25?ñ, 2625.644609?ñ, 269.655125?ñ, 26?ñ, 2705.839993?ñ, 271.370767?ñ, 273.52542?ñ, 276.463002?ñ, 277.7637?ñ, 28000?ñ, 288.284812?ñ, 29.485897?ñ, 2?ñ, 304.225119?ñ, 30?ñ, 3122.99024?ñ, 3172.729359?ñ, 319.086971?ñ, 3221.755751?ñ, 325.379938?ñ, 348.436666?ñ, 353.421122?ñ, 360.158214?ñ, 372.930377?ñ, 373.912056?ñ, 381.780101?ñ, 39.762754?ñ, 397.992799?ñ, 3?ñ, 411.828101?ñ, 424.623595?ñ, 433.039278?ñ, 4510.237702?ñ, 473.598415?ñ, 476.302544?ñ, 4815.112874?ñ, 4?ñ, 50.283744?ñ, 515.450846?ñ, 520.445922?ñ, 522.914621?ñ, 54.866583?ñ, 56.150133?ñ, 5884.641102?ñ, 5?ñ, 6000?ñ, 609.884322?ñ, 62.025196?ñ, 640.013396?ñ, 6442.945483?ñ, 678.336519?ñ, 684.647727?ñ, 6?ñ, 703.941544?ñ, 723.308724?ñ, 732.747143?ñ, 744.713817?ñ, 754.672615?ñ, 774.260436?ñ, 79.037888?ñ, 7?ñ, 85.643203?ñ, 87.872257?ñ, 88.997719?ñ, 8?ñ, 901.185629?ñ, 91.564073?ñ, 92.369903?ñ, 92.417583?ñ, 93.717243?ñ, 959.09202?ñ, 96.885791?ñ, 960.917825?ñ, 985.784518?ñ, 994.581254?ñ, 996.543937?ñ, 9?ñ, ??\n"
     ]
    }
   ],
   "source": [
    "valores_no_numericos=get_not_numeric_values(datos)\n",
    "print('Los valores no numéricos son:\\n {}'.format(', '.join(map(str,valores_no_numericos))))"
   ]
  },
  {
   "cell_type": "markdown",
   "metadata": {},
   "source": [
    "Podemos ver que la mayoria de estos datos no válidos tienen un número y al final un \"?ñ\". Asumiremos que esto fue un error de tipeo al momento de ingresar los datos, por lo que eliminaremos el \"?ñ\" y dejaremos el número. Mas adelante revisaremos si los datos cumplen con los rangos establecidos.\n",
    "La siguiente funcion nos ayudará a limpiar estos datos:"
   ]
  },
  {
   "cell_type": "code",
   "execution_count": 11,
   "metadata": {},
   "outputs": [],
   "source": [
    "# Function to clean the names-https://www.geeksforgeeks.org/replace-values-in-pandas-dataframe-using-regex/\n",
    "def clean_numbers(Column_name):\n",
    "\n",
    "    if re.search('\\?ñ', Column_name): \n",
    "        # Extract the position of beginning of pattern\n",
    "        pos = re.search('\\?ñ', Column_name).start()\n",
    "        # return the cleaned name\n",
    "        return Column_name[:pos]\n",
    "  \n",
    "    else:\n",
    "        # if clean up needed return the same name\n",
    "        return Column_name"
   ]
  },
  {
   "cell_type": "markdown",
   "metadata": {},
   "source": [
    "Aplicamos la funcion anterior en todas las columnas. Como estamos trabajando con expresiones regulares, evitaremos errores, se convierten todos valores a <code>str</code>. Cabe resaltar que mas adelante se realizará la debida transformación a <code>float</code>."
   ]
  },
  {
   "cell_type": "code",
   "execution_count": 12,
   "metadata": {},
   "outputs": [],
   "source": [
    "for column in datos.columns:\n",
    "    # Updated the columns\n",
    "    datos[column]=datos[column].apply(str)\n",
    "    datos[column] = datos[column].apply(clean_numbers)"
   ]
  },
  {
   "cell_type": "markdown",
   "metadata": {},
   "source": [
    "Ahora, rectificaremos que efectivamente los datos que tenian los caracteres \"?ñ\" fueron corregidos "
   ]
  },
  {
   "cell_type": "code",
   "execution_count": 13,
   "metadata": {},
   "outputs": [
    {
     "name": "stdout",
     "output_type": "stream",
     "text": [
      "Los valores no numéricos ahora son: ['??']\n"
     ]
    }
   ],
   "source": [
    "valores_no_numericos=get_not_numeric_values(datos)\n",
    "print('Los valores no numéricos ahora son: {}'.format(valores_no_numericos))"
   ]
  },
  {
   "cell_type": "markdown",
   "metadata": {},
   "source": [
    "Vemos ahora que el único valor inconsistente en los datos es: ??. Veamos cuántos de estos valores hay en el dataset:"
   ]
  },
  {
   "cell_type": "code",
   "execution_count": 14,
   "metadata": {},
   "outputs": [
    {
     "name": "stdout",
     "output_type": "stream",
     "text": [
      "El número de filas con datos inconsistentes es: 291\n",
      "Esto representa el: 5.26% de los datos\n"
     ]
    }
   ],
   "source": [
    "num_inconsistentes = len(datos[(datos.values == '??').any(axis=1)])\n",
    "print('El número de filas con datos inconsistentes es: {}'.format(num_inconsistentes))\n",
    "print (\"Esto representa el: {:.2f}% de los datos\".format(num_inconsistentes/len(datos)*100))"
   ]
  },
  {
   "cell_type": "markdown",
   "metadata": {},
   "source": [
    "Para evitar eliminar el 5% de los datos, estos se convertirán en datos <code>np.NaN</code> y serán manejados en más adelante, con los demás datos nulos del dataset.\n",
    "Para esto, usaremos una funcion que nos convertirá todo lo que no se pueda convertir a <code>float</code> a <code>np.NaN</code>. Es una función parecida a la trabajada anteriormente, por lo que sabemos con seguridad que los unicos datos que evitan que estas columnas se puedan convertir a <code>float</code> son los \"??\". \n",
    "\n",
    "Adicionalmente, esta función ayudará a realizar la conversion de las columnas a <code>float</code>"
   ]
  },
  {
   "cell_type": "code",
   "execution_count": 15,
   "metadata": {},
   "outputs": [],
   "source": [
    "def convert_to_NaN(x):\n",
    "    try:\n",
    "        return float(x)\n",
    "    except:\n",
    "        return np.NaN"
   ]
  },
  {
   "cell_type": "code",
   "execution_count": 16,
   "metadata": {},
   "outputs": [],
   "source": [
    "for column in datos.columns:\n",
    "    datos[column] = datos[column].apply(convert_to_NaN)"
   ]
  },
  {
   "cell_type": "markdown",
   "metadata": {},
   "source": [
    "Podemos verificar ahora que no hay datos no numéricos y que todas las columnas han sido transformadas a <code>float64</code>."
   ]
  },
  {
   "cell_type": "code",
   "execution_count": 17,
   "metadata": {},
   "outputs": [
    {
     "name": "stdout",
     "output_type": "stream",
     "text": [
      "La cantidad de valores no numéricos es: 0\n",
      "BALANCE                   float64\n",
      "PURCHASES                 float64\n",
      "BALANCE_FREQUENCY         float64\n",
      "CASH_ADVANCE              float64\n",
      "CASH_ADVANCE_TRX          float64\n",
      "PURCHASES_FREQUENCY       float64\n",
      "PURCHASES_TRX             float64\n",
      "CASH_ADVANCE_FREQUENCY    float64\n",
      "CREDIT_LIMIT              float64\n",
      "PAYMENTS                  float64\n",
      "MINIMUM_PAYMENTS          float64\n",
      "TENURE                    float64\n",
      "dtype: object\n"
     ]
    }
   ],
   "source": [
    "valores_no_numericos=get_not_numeric_values(datos)\n",
    "print('La cantidad de valores no numéricos es: {}'.format(len(valores_no_numericos)))\n",
    "print(datos.dtypes)"
   ]
  },
  {
   "cell_type": "markdown",
   "metadata": {},
   "source": [
    "### Manejo de valores fuera de rango\n",
    "\n",
    "En el perfilamiento de datos identificamos algunas variables tienen valores fuera de rango según el diccionario por BancAlpes. Sin embargo, revisaremos si hay otras variables que presenten valores fuera de rango; especialmente aquellas que, al salir con inconsistencias, no podíamos realizar un análisis preliminar de coherencia con el rango definido por el negocio."
   ]
  },
  {
   "cell_type": "code",
   "execution_count": 18,
   "metadata": {},
   "outputs": [
    {
     "name": "stdout",
     "output_type": "stream",
     "text": [
      "VARIABLE                  MIN                       MAX                 \n",
      "-----------------------------------------------------------------------\n",
      "BALANCE                   -4587.892398              7390.19856          \n",
      "PURCHASES                 0.0                       9661.37             \n",
      "BALANCE_FREQUENCY         0.0                       1000.0              \n",
      "CASH_ADVANCE              0.0                       6448.247202         \n",
      "CASH_ADVANCE_TRX          0.0                       18000.0             \n",
      "PURCHASES_FREQUENCY       0.0                       1000.0              \n",
      "PURCHASES_TRX             0.0                       28000.0             \n",
      "CASH_ADVANCE_FREQUENCY    0.0                       1.5                 \n",
      "CREDIT_LIMIT              50.0                      12500.0             \n",
      "PAYMENTS                  0.056466                  9933.62261          \n",
      "MINIMUM_PAYMENTS          0.019163                  1998.400995         \n",
      "TENURE                    -12.0                     12.0                \n"
     ]
    }
   ],
   "source": [
    "print (\"{:<25} {:<25} {:<20}\".format('VARIABLE','MIN','MAX',))\n",
    "print (\"-----------------------------------------------------------------------\")\n",
    "for column in datos.columns:\n",
    "    print (\"{:<25} {:<25} {:<20}\".format( column, datos[column].min(),datos[column].max()))"
   ]
  },
  {
   "cell_type": "markdown",
   "metadata": {},
   "source": [
    "Con esta información podemos ver que las variables que tienen datos fuera de rango son:\n",
    "1. Fuera de límite superior \n",
    "    * CASH_ADVANCE:Debe ser [0,5000]. El valor máximo en el dataset es 6448.247202.\n",
    "    * CASH_ADVANCE_TRX: Debe ser [0,15]: El valor máximo en el dataset es 18000.\n",
    "    * PURCHASES_FREQUENCY: Debe ser [0,1]: El valor máximo en el dataset es 1000.\n",
    "    * PURCHASES_TRX: Debe ser [0,30]: El valor máximo en el dataset es 28000.\n",
    "    * CASH_ADVANCE_FREQUENCY:  Debe ser [0,1]: El valor máximo en el dataset es 1.5.\n",
    "    * CREDIT_LIMIT:Debe ser [0,10000]: El valor máximo en el dataset es 12500. \n",
    "    * MINIMUM_PAYMENTS:Debe ser [0,1200]: El valor máximo en el dataset es 1998.\n",
    "\n",
    "\n",
    "2. Fuera del límite inferior\n",
    "    * TENURE:Debe ser [1,12]: Tenemos valores negativos, hasta -12.\n",
    "\n",
    "\n",
    "3. Fuera de ambos límites\n",
    "    * BALANCE: Debe ser [0,5000]. De acuerdo con los expertos del negocio, no puede haber balances negativos (foro). Los balances positivos se exceden por menos de 2500.\n",
    "    \n",
    "\n"
   ]
  },
  {
   "cell_type": "markdown",
   "metadata": {},
   "source": [
    "Procederemos a contar cuantos datos fuera de rango hay para cada columna. "
   ]
  },
  {
   "cell_type": "code",
   "execution_count": 19,
   "metadata": {},
   "outputs": [],
   "source": [
    "dic_limites={\"BALANCE\":(0,5000),\"BALANCE_FREQUENCY\":(0, 1),\"CASH_ADVANCE\":(0,5000),\"CASH_ADVANCE_TRX\":(0,15),\"PURCHASES_FREQUENCY\":(0,1),\"PURCHASES_TRX\":(0,30),\"CASH_ADVANCE_FREQUENCY\":(0,1),\"CREDIT_LIMIT\":(0,10000),\"MINIMUM_PAYMENTS\":(0,1200),\"TENURE\":(1,12)}\n",
    "#El diccionario de parámetro debe ser {\"nombreColumna\": (valor minimo aceptado, valor máximo aceptado)}\n",
    "def obtener_numero_outliers (diccionario):\n",
    "    print (\"Datos fuera de rango para:\")\n",
    "    total=0\n",
    "    for column in dic_limites.keys():\n",
    "        lim_inf=len(datos[datos[column]<dic_limites[column][0]])\n",
    "        lim_sup=len(datos[datos[column]>dic_limites[column][1]])\n",
    "        print (\"{:<25} {:<10}\".format (column, lim_inf+ lim_sup))\n",
    "        total+=lim_inf+lim_sup\n",
    "\n",
    "    print(\"En total hay {} datos fuera del rango, esto representa el {:.2f}%  en el dataframe\".format(total, total/(len(datos))*100))   "
   ]
  },
  {
   "cell_type": "code",
   "execution_count": 20,
   "metadata": {},
   "outputs": [
    {
     "name": "stdout",
     "output_type": "stream",
     "text": [
      "Datos fuera de rango para:\n",
      "BALANCE                   291       \n",
      "BALANCE_FREQUENCY         160       \n",
      "CASH_ADVANCE              68        \n",
      "CASH_ADVANCE_TRX          158       \n",
      "PURCHASES_FREQUENCY       117       \n",
      "PURCHASES_TRX             116       \n",
      "CASH_ADVANCE_FREQUENCY    2         \n",
      "CREDIT_LIMIT              136       \n",
      "MINIMUM_PAYMENTS          393       \n",
      "TENURE                    148       \n",
      "En total hay 1589 datos fuera del rango, esto representa el 28.73%  en el dataframe\n"
     ]
    }
   ],
   "source": [
    "obtener_numero_outliers(dic_limites)"
   ]
  },
  {
   "cell_type": "markdown",
   "metadata": {},
   "source": [
    "Podemos ver que la cantidad de outliers en el dataset es considerable. Por lo tanto, antes de decidir eliminarlos o imputarlos, es necesario analizar una por una las columnas con outliers."
   ]
  },
  {
   "cell_type": "markdown",
   "metadata": {},
   "source": [
    "Veamos las distribuciones de todas las columnas con outliers. Para ello, construimos histogramas con todas las variables relevantes:"
   ]
  },
  {
   "cell_type": "code",
   "execution_count": 21,
   "metadata": {},
   "outputs": [],
   "source": [
    "def plot_distribuciones(columna, axs, i, j):\n",
    "    axs[i,j].hist(datos[columna], color='orchid')\n",
    "    plt.grid(0)\n",
    "    axs[i, j].set_title(columna)"
   ]
  },
  {
   "cell_type": "code",
   "execution_count": 22,
   "metadata": {},
   "outputs": [
    {
     "data": {
      "image/png": "[encoded data removed]",
      "text/plain": [
       "<Figure size 1296x648 with 9 Axes>"
      ]
     },
     "metadata": {
      "needs_background": "light"
     },
     "output_type": "display_data"
    }
   ],
   "source": [
    "fig, axs = plt.subplots(3,3, figsize=(18,9))\n",
    "k = 0\n",
    "for i in range(3):\n",
    "    for j in range(3):\n",
    "        plot_distribuciones(list(dic_limites.keys())[k], axs, i, j)\n",
    "        k += 1\n",
    "plt.suptitle('Distribución de las diferentes variables numéricas con outliers')\n",
    "plt.tight_layout()"
   ]
  },
  {
   "cell_type": "markdown",
   "metadata": {},
   "source": [
    "**BALANCE:** Veamos primero la variable Balance:"
   ]
  },
  {
   "cell_type": "code",
   "execution_count": 23,
   "metadata": {},
   "outputs": [
    {
     "name": "stdout",
     "output_type": "stream",
     "text": [
      "La cantidad de datos por debajo del límite inferior es: 165\n",
      "La cantidad de datos por encima del límite superior es: 126\n"
     ]
    }
   ],
   "source": [
    "print('La cantidad de datos por debajo del límite inferior es: {}'.format(len(datos[datos['BALANCE'] < 0])))\n",
    "print('La cantidad de datos por encima del límite superior es: {}'.format(len(datos[datos['BALANCE'] > 5000])))"
   ]
  },
  {
   "cell_type": "markdown",
   "metadata": {},
   "source": [
    "De acuerdo con el negocio y los expertos (foro del curso), los valores negativos son inadmisibles para este contexto. Por lo tanto, deben ser eliminados o imputados, como se hará más adelante. En este caso, como se mencionará más adelante, para variables con casos similares, utilizaremos una imputación con la media.\n",
    "\n",
    "Para el límite superior, tenemos 126 datos que superan el balance que queda a los usuarios después de hacer sus compras. En lugar de eliminar estos datos, podríamos admitir los valores mayores a 5000 (que, primero, no son muchos y, segundo, superan el monto máximo por muy poco), si asumimos que son errores del conocimiento de datos del negocio."
   ]
  },
  {
   "cell_type": "markdown",
   "metadata": {},
   "source": [
    "**CASH_ADVANCE:** Algo similar sucede con esta variable. Veamos cuantos datos fuera del rango superior hay:"
   ]
  },
  {
   "cell_type": "code",
   "execution_count": 24,
   "metadata": {},
   "outputs": [
    {
     "name": "stdout",
     "output_type": "stream",
     "text": [
      "La cantidad de datos por encima del límite superior es: 68\n"
     ]
    }
   ],
   "source": [
    "print('La cantidad de datos por encima del límite superior es: {}'.format(len(datos[datos['CASH_ADVANCE'] > 5000])))"
   ]
  },
  {
   "cell_type": "markdown",
   "metadata": {},
   "source": [
    "Realmente, el total de datos que se salen del rango es muy bajo y, por tanto, podríamos mantenerlos; suponiendo que es desconocimiento del negocio en este caso. No vemos por qué el usuario no podría más de 5000 en avance por un pago."
   ]
  },
  {
   "cell_type": "markdown",
   "metadata": {},
   "source": [
    "**CASH_ADVACE_TRX:** En este caso, el valor máximo del dataset lo tenemos en 18000. Es muy extraño, pues el máximo debería ser 15. Veamos cuántos datos hay mayores a 15, y cuáles son esos datos:"
   ]
  },
  {
   "cell_type": "code",
   "execution_count": 25,
   "metadata": {},
   "outputs": [
    {
     "name": "stdout",
     "output_type": "stream",
     "text": [
      "La cantidad de datos por encima del límite superior es: 11\n"
     ]
    },
    {
     "data": {
      "text/html": [
       "<div>\n",
       "<style scoped>\n",
       "    .dataframe tbody tr th:only-of-type {\n",
       "        vertical-align: middle;\n",
       "    }\n",
       "\n",
       "    .dataframe tbody tr th {\n",
       "        vertical-align: top;\n",
       "    }\n",
       "\n",
       "    .dataframe thead th {\n",
       "        text-align: right;\n",
       "    }\n",
       "</style>\n",
       "<table border=\"1\" class=\"dataframe\">\n",
       "  <thead>\n",
       "    <tr style=\"text-align: right;\">\n",
       "      <th></th>\n",
       "      <th>CASH_ADVANCE_TRX</th>\n",
       "    </tr>\n",
       "  </thead>\n",
       "  <tbody>\n",
       "    <tr>\n",
       "      <th>16.0</th>\n",
       "      <td>25</td>\n",
       "    </tr>\n",
       "    <tr>\n",
       "      <th>17.0</th>\n",
       "      <td>23</td>\n",
       "    </tr>\n",
       "    <tr>\n",
       "      <th>19.0</th>\n",
       "      <td>19</td>\n",
       "    </tr>\n",
       "    <tr>\n",
       "      <th>1000.0</th>\n",
       "      <td>18</td>\n",
       "    </tr>\n",
       "    <tr>\n",
       "      <th>2000.0</th>\n",
       "      <td>14</td>\n",
       "    </tr>\n",
       "    <tr>\n",
       "      <th>3000.0</th>\n",
       "      <td>13</td>\n",
       "    </tr>\n",
       "    <tr>\n",
       "      <th>18.0</th>\n",
       "      <td>12</td>\n",
       "    </tr>\n",
       "    <tr>\n",
       "      <th>20.0</th>\n",
       "      <td>11</td>\n",
       "    </tr>\n",
       "    <tr>\n",
       "      <th>5000.0</th>\n",
       "      <td>7</td>\n",
       "    </tr>\n",
       "    <tr>\n",
       "      <th>4000.0</th>\n",
       "      <td>5</td>\n",
       "    </tr>\n",
       "    <tr>\n",
       "      <th>6000.0</th>\n",
       "      <td>3</td>\n",
       "    </tr>\n",
       "    <tr>\n",
       "      <th>8000.0</th>\n",
       "      <td>2</td>\n",
       "    </tr>\n",
       "    <tr>\n",
       "      <th>10000.0</th>\n",
       "      <td>1</td>\n",
       "    </tr>\n",
       "    <tr>\n",
       "      <th>12000.0</th>\n",
       "      <td>1</td>\n",
       "    </tr>\n",
       "    <tr>\n",
       "      <th>14000.0</th>\n",
       "      <td>1</td>\n",
       "    </tr>\n",
       "    <tr>\n",
       "      <th>18000.0</th>\n",
       "      <td>1</td>\n",
       "    </tr>\n",
       "    <tr>\n",
       "      <th>17000.0</th>\n",
       "      <td>1</td>\n",
       "    </tr>\n",
       "    <tr>\n",
       "      <th>7000.0</th>\n",
       "      <td>1</td>\n",
       "    </tr>\n",
       "  </tbody>\n",
       "</table>\n",
       "</div>"
      ],
      "text/plain": [
       "         CASH_ADVANCE_TRX\n",
       "16.0                   25\n",
       "17.0                   23\n",
       "19.0                   19\n",
       "1000.0                 18\n",
       "2000.0                 14\n",
       "3000.0                 13\n",
       "18.0                   12\n",
       "20.0                   11\n",
       "5000.0                  7\n",
       "4000.0                  5\n",
       "6000.0                  3\n",
       "8000.0                  2\n",
       "10000.0                 1\n",
       "12000.0                 1\n",
       "14000.0                 1\n",
       "18000.0                 1\n",
       "17000.0                 1\n",
       "7000.0                  1"
      ]
     },
     "execution_count": 25,
     "metadata": {},
     "output_type": "execute_result"
    }
   ],
   "source": [
    "print('La cantidad de datos por encima del límite superior es: {}'.format(len(datos[datos['CASH_ADVANCE_TRX'] > 5000])))\n",
    "datos['CASH_ADVANCE_TRX'][datos['CASH_ADVANCE_TRX'] > 15].value_counts().to_frame()"
   ]
  },
  {
   "cell_type": "markdown",
   "metadata": {},
   "source": [
    "Podemos ver que, en este caso, hay dos tipos de datos mayores a 15. Aquellos que están entre 16 y 20, y aquellos que están entre 1000 y 18000. Pareciera que estos últimos fueran el resultado de haber multiplicado por 1000 el número de transacciones dadas con CASH_ADVANCE_TRX. Realmente, es difícil que se den 18000 transacciones de este tipo en un banco, y pueden ser errores de digitación en el negocio. \n",
    "\n",
    "Podemos acomodar el rango para que el límite superior de la variable sea, ahora, 20 (tiene sentido que algunos usuarios hayan hecho 5 transacciones más con cash in advance, particularmente en escenarios particulares de permisos especiales dados por el negocio). Asimismo, dividiremos entre 1000 todas aquellas transacciones que representan valores entre 1000 y 180000."
   ]
  },
  {
   "cell_type": "code",
   "execution_count": 26,
   "metadata": {},
   "outputs": [],
   "source": [
    "datos['CASH_ADVANCE_TRX'].loc[datos['CASH_ADVANCE_TRX'] >= 1000] = datos['CASH_ADVANCE_TRX']/1000"
   ]
  },
  {
   "cell_type": "markdown",
   "metadata": {},
   "source": [
    "En la anterior línea, dividimos entre 1000 todos los datos con valores mayores o iguales a 1000."
   ]
  },
  {
   "cell_type": "markdown",
   "metadata": {},
   "source": [
    "**PURCHASES_FREQUENCY:** Veamos qué sucede con los outliers en este caso:"
   ]
  },
  {
   "cell_type": "code",
   "execution_count": 27,
   "metadata": {},
   "outputs": [
    {
     "name": "stdout",
     "output_type": "stream",
     "text": [
      "La cantidad de datos por encima del límite superior es: 117\n"
     ]
    },
    {
     "data": {
      "text/html": [
       "<div>\n",
       "<style scoped>\n",
       "    .dataframe tbody tr th:only-of-type {\n",
       "        vertical-align: middle;\n",
       "    }\n",
       "\n",
       "    .dataframe tbody tr th {\n",
       "        vertical-align: top;\n",
       "    }\n",
       "\n",
       "    .dataframe thead th {\n",
       "        text-align: right;\n",
       "    }\n",
       "</style>\n",
       "<table border=\"1\" class=\"dataframe\">\n",
       "  <thead>\n",
       "    <tr style=\"text-align: right;\">\n",
       "      <th></th>\n",
       "      <th>PURCHASES_FREQUENCY</th>\n",
       "    </tr>\n",
       "  </thead>\n",
       "  <tbody>\n",
       "    <tr>\n",
       "      <th>1000.000</th>\n",
       "      <td>26</td>\n",
       "    </tr>\n",
       "    <tr>\n",
       "      <th>83.333</th>\n",
       "      <td>14</td>\n",
       "    </tr>\n",
       "    <tr>\n",
       "      <th>500.000</th>\n",
       "      <td>10</td>\n",
       "    </tr>\n",
       "    <tr>\n",
       "      <th>416.667</th>\n",
       "      <td>9</td>\n",
       "    </tr>\n",
       "    <tr>\n",
       "      <th>333.333</th>\n",
       "      <td>9</td>\n",
       "    </tr>\n",
       "    <tr>\n",
       "      <th>583.333</th>\n",
       "      <td>8</td>\n",
       "    </tr>\n",
       "    <tr>\n",
       "      <th>166.667</th>\n",
       "      <td>7</td>\n",
       "    </tr>\n",
       "    <tr>\n",
       "      <th>916.667</th>\n",
       "      <td>6</td>\n",
       "    </tr>\n",
       "    <tr>\n",
       "      <th>250.000</th>\n",
       "      <td>5</td>\n",
       "    </tr>\n",
       "    <tr>\n",
       "      <th>750.000</th>\n",
       "      <td>5</td>\n",
       "    </tr>\n",
       "    <tr>\n",
       "      <th>833.333</th>\n",
       "      <td>4</td>\n",
       "    </tr>\n",
       "    <tr>\n",
       "      <th>222.222</th>\n",
       "      <td>2</td>\n",
       "    </tr>\n",
       "    <tr>\n",
       "      <th>700.000</th>\n",
       "      <td>2</td>\n",
       "    </tr>\n",
       "    <tr>\n",
       "      <th>142.857</th>\n",
       "      <td>2</td>\n",
       "    </tr>\n",
       "    <tr>\n",
       "      <th>818.182</th>\n",
       "      <td>1</td>\n",
       "    </tr>\n",
       "    <tr>\n",
       "      <th>900.000</th>\n",
       "      <td>1</td>\n",
       "    </tr>\n",
       "    <tr>\n",
       "      <th>300.000</th>\n",
       "      <td>1</td>\n",
       "    </tr>\n",
       "    <tr>\n",
       "      <th>666.667</th>\n",
       "      <td>1</td>\n",
       "    </tr>\n",
       "    <tr>\n",
       "      <th>714.286</th>\n",
       "      <td>1</td>\n",
       "    </tr>\n",
       "    <tr>\n",
       "      <th>125.000</th>\n",
       "      <td>1</td>\n",
       "    </tr>\n",
       "    <tr>\n",
       "      <th>100.000</th>\n",
       "      <td>1</td>\n",
       "    </tr>\n",
       "    <tr>\n",
       "      <th>857.143</th>\n",
       "      <td>1</td>\n",
       "    </tr>\n",
       "  </tbody>\n",
       "</table>\n",
       "</div>"
      ],
      "text/plain": [
       "          PURCHASES_FREQUENCY\n",
       "1000.000                   26\n",
       "83.333                     14\n",
       "500.000                    10\n",
       "416.667                     9\n",
       "333.333                     9\n",
       "583.333                     8\n",
       "166.667                     7\n",
       "916.667                     6\n",
       "250.000                     5\n",
       "750.000                     5\n",
       "833.333                     4\n",
       "222.222                     2\n",
       "700.000                     2\n",
       "142.857                     2\n",
       "818.182                     1\n",
       "900.000                     1\n",
       "300.000                     1\n",
       "666.667                     1\n",
       "714.286                     1\n",
       "125.000                     1\n",
       "100.000                     1\n",
       "857.143                     1"
      ]
     },
     "execution_count": 27,
     "metadata": {},
     "output_type": "execute_result"
    }
   ],
   "source": [
    "print('La cantidad de datos por encima del límite superior es: {}'.format(len(datos[datos['PURCHASES_FREQUENCY'] > 1])))\n",
    "datos['PURCHASES_FREQUENCY'][datos['PURCHASES_FREQUENCY'] > 1].value_counts().to_frame()"
   ]
  },
  {
   "cell_type": "markdown",
   "metadata": {},
   "source": [
    "Podemos asumir que en este caso ocurrió algo similar que en la variable anterior. Los valores fuera de rango, parecen multiplicados por 1000. Dividamos, entonces, todos estos valores entre 1000."
   ]
  },
  {
   "cell_type": "code",
   "execution_count": 28,
   "metadata": {},
   "outputs": [],
   "source": [
    "datos['PURCHASES_FREQUENCY'].loc[datos['PURCHASES_FREQUENCY'] > 1] = datos['PURCHASES_FREQUENCY']/1000"
   ]
  },
  {
   "cell_type": "markdown",
   "metadata": {},
   "source": [
    "**PURCHASES_TRX:** Veamos qué sucede con los outliers en este caso:"
   ]
  },
  {
   "cell_type": "code",
   "execution_count": 29,
   "metadata": {},
   "outputs": [
    {
     "name": "stdout",
     "output_type": "stream",
     "text": [
      "La cantidad de datos por encima del límite superior es: 3622\n"
     ]
    },
    {
     "data": {
      "text/html": [
       "<div>\n",
       "<style scoped>\n",
       "    .dataframe tbody tr th:only-of-type {\n",
       "        vertical-align: middle;\n",
       "    }\n",
       "\n",
       "    .dataframe tbody tr th {\n",
       "        vertical-align: top;\n",
       "    }\n",
       "\n",
       "    .dataframe thead th {\n",
       "        text-align: right;\n",
       "    }\n",
       "</style>\n",
       "<table border=\"1\" class=\"dataframe\">\n",
       "  <thead>\n",
       "    <tr style=\"text-align: right;\">\n",
       "      <th></th>\n",
       "      <th>PURCHASES_TRX</th>\n",
       "    </tr>\n",
       "  </thead>\n",
       "  <tbody>\n",
       "    <tr>\n",
       "      <th>7000.0</th>\n",
       "      <td>15</td>\n",
       "    </tr>\n",
       "    <tr>\n",
       "      <th>3000.0</th>\n",
       "      <td>13</td>\n",
       "    </tr>\n",
       "    <tr>\n",
       "      <th>1000.0</th>\n",
       "      <td>9</td>\n",
       "    </tr>\n",
       "    <tr>\n",
       "      <th>8000.0</th>\n",
       "      <td>9</td>\n",
       "    </tr>\n",
       "    <tr>\n",
       "      <th>6000.0</th>\n",
       "      <td>8</td>\n",
       "    </tr>\n",
       "    <tr>\n",
       "      <th>2000.0</th>\n",
       "      <td>8</td>\n",
       "    </tr>\n",
       "    <tr>\n",
       "      <th>12000.0</th>\n",
       "      <td>6</td>\n",
       "    </tr>\n",
       "    <tr>\n",
       "      <th>10000.0</th>\n",
       "      <td>5</td>\n",
       "    </tr>\n",
       "    <tr>\n",
       "      <th>14000.0</th>\n",
       "      <td>4</td>\n",
       "    </tr>\n",
       "    <tr>\n",
       "      <th>15000.0</th>\n",
       "      <td>4</td>\n",
       "    </tr>\n",
       "    <tr>\n",
       "      <th>4000.0</th>\n",
       "      <td>4</td>\n",
       "    </tr>\n",
       "    <tr>\n",
       "      <th>16000.0</th>\n",
       "      <td>4</td>\n",
       "    </tr>\n",
       "    <tr>\n",
       "      <th>24000.0</th>\n",
       "      <td>4</td>\n",
       "    </tr>\n",
       "    <tr>\n",
       "      <th>5000.0</th>\n",
       "      <td>4</td>\n",
       "    </tr>\n",
       "    <tr>\n",
       "      <th>21000.0</th>\n",
       "      <td>3</td>\n",
       "    </tr>\n",
       "    <tr>\n",
       "      <th>11000.0</th>\n",
       "      <td>3</td>\n",
       "    </tr>\n",
       "    <tr>\n",
       "      <th>13000.0</th>\n",
       "      <td>3</td>\n",
       "    </tr>\n",
       "    <tr>\n",
       "      <th>25000.0</th>\n",
       "      <td>3</td>\n",
       "    </tr>\n",
       "    <tr>\n",
       "      <th>18000.0</th>\n",
       "      <td>2</td>\n",
       "    </tr>\n",
       "    <tr>\n",
       "      <th>26000.0</th>\n",
       "      <td>1</td>\n",
       "    </tr>\n",
       "    <tr>\n",
       "      <th>9000.0</th>\n",
       "      <td>1</td>\n",
       "    </tr>\n",
       "    <tr>\n",
       "      <th>28000.0</th>\n",
       "      <td>1</td>\n",
       "    </tr>\n",
       "    <tr>\n",
       "      <th>22000.0</th>\n",
       "      <td>1</td>\n",
       "    </tr>\n",
       "    <tr>\n",
       "      <th>19000.0</th>\n",
       "      <td>1</td>\n",
       "    </tr>\n",
       "  </tbody>\n",
       "</table>\n",
       "</div>"
      ],
      "text/plain": [
       "         PURCHASES_TRX\n",
       "7000.0              15\n",
       "3000.0              13\n",
       "1000.0               9\n",
       "8000.0               9\n",
       "6000.0               8\n",
       "2000.0               8\n",
       "12000.0              6\n",
       "10000.0              5\n",
       "14000.0              4\n",
       "15000.0              4\n",
       "4000.0               4\n",
       "16000.0              4\n",
       "24000.0              4\n",
       "5000.0               4\n",
       "21000.0              3\n",
       "11000.0              3\n",
       "13000.0              3\n",
       "25000.0              3\n",
       "18000.0              2\n",
       "26000.0              1\n",
       "9000.0               1\n",
       "28000.0              1\n",
       "22000.0              1\n",
       "19000.0              1"
      ]
     },
     "execution_count": 29,
     "metadata": {},
     "output_type": "execute_result"
    }
   ],
   "source": [
    "print('La cantidad de datos por encima del límite superior es: {}'.format(len(datos[datos['PURCHASES_TRX'] > 1])))\n",
    "datos['PURCHASES_TRX'][datos['PURCHASES_TRX'] > 30].value_counts().to_frame()"
   ]
  },
  {
   "cell_type": "markdown",
   "metadata": {},
   "source": [
    "Podemos asumir que en este caso ocurrió algo similar que en la variable anterior. Los valores fuera de rango, parecen multiplicados por 1000. Dividamos, entonces, todos estos valores entre 1000."
   ]
  },
  {
   "cell_type": "code",
   "execution_count": 30,
   "metadata": {},
   "outputs": [],
   "source": [
    "datos['PURCHASES_TRX'].loc[datos['PURCHASES_TRX'] > 30] = datos['PURCHASES_TRX']/1000"
   ]
  },
  {
   "cell_type": "markdown",
   "metadata": {},
   "source": [
    "**CASH_ADVANCE_FREQUENCY:** En este caso, los datos fuera de rango van hasta 1.5, como se vio en etapas previas del entendimiento de los datos. En el histograma, se ve que son pocos los valores que están fuera de rango; y, como en este caso no ocurre lo de la multiplicación por 1000, lo más conveniente es seguir la estrategia de cambiarlos por NaN y después imputar con la media, como se verá más adelante."
   ]
  },
  {
   "cell_type": "markdown",
   "metadata": {},
   "source": [
    "**CREDIT_LIMIT:** En este caso, sucede algo similar al límite superior definido para BALANCE. Veamos cuántos datos se salen del rango (i.e. son mayores a 10000):"
   ]
  },
  {
   "cell_type": "code",
   "execution_count": 31,
   "metadata": {},
   "outputs": [
    {
     "name": "stdout",
     "output_type": "stream",
     "text": [
      "La cantidad de datos por encima del límite superior es: 136\n"
     ]
    }
   ],
   "source": [
    "print('La cantidad de datos por encima del límite superior es: {}'.format(len(datos[datos['CREDIT_LIMIT'] > 10000])))"
   ]
  },
  {
   "cell_type": "markdown",
   "metadata": {},
   "source": [
    "Vemos que son pocos casos e, igual que en casos anteriores, podemos asumir que corresponde a problemas con el límite crediticio que tiene el negocio (quizá los datos están desactualizados). De acuerdo con el histograma, el valor máximo es apenas 12500, no muy distante del 10000 (proporcionalmente). Por lo tanto, podemos simplemente quedarnos con estos datos como están."
   ]
  },
  {
   "cell_type": "markdown",
   "metadata": {},
   "source": [
    "**MINIMUM_PAYMENTS:** Veamos qué sucede con los outliers en este caso:"
   ]
  },
  {
   "cell_type": "code",
   "execution_count": 32,
   "metadata": {},
   "outputs": [
    {
     "name": "stdout",
     "output_type": "stream",
     "text": [
      "La cantidad de datos por encima del límite superior es: 393\n"
     ]
    }
   ],
   "source": [
    "print('La cantidad de datos por encima del límite superior es: {}'.format(len(datos[datos['MINIMUM_PAYMENTS'] > 1200])))"
   ]
  },
  {
   "cell_type": "markdown",
   "metadata": {},
   "source": [
    "En este caso, considerando el rango dado, el límite superior sí es excedido considerablemente. Con esta variable, podemos saber el mínimo número de pagos que hizo un usuario, y quizá más de 1200 es mucho. En este caso, para no asumir más información sobre el negocio, preferimos eliminarlos e imputarlos posteriormente con la media."
   ]
  },
  {
   "cell_type": "markdown",
   "metadata": {},
   "source": [
    "**TENURE:** En este caso, veamos los datos que son menores a 0:"
   ]
  },
  {
   "cell_type": "code",
   "execution_count": 33,
   "metadata": {},
   "outputs": [
    {
     "name": "stdout",
     "output_type": "stream",
     "text": [
      "La cantidad de datos por debajo del límite inferior es: 148\n"
     ]
    },
    {
     "data": {
      "text/html": [
       "<div>\n",
       "<style scoped>\n",
       "    .dataframe tbody tr th:only-of-type {\n",
       "        vertical-align: middle;\n",
       "    }\n",
       "\n",
       "    .dataframe tbody tr th {\n",
       "        vertical-align: top;\n",
       "    }\n",
       "\n",
       "    .dataframe thead th {\n",
       "        text-align: right;\n",
       "    }\n",
       "</style>\n",
       "<table border=\"1\" class=\"dataframe\">\n",
       "  <thead>\n",
       "    <tr style=\"text-align: right;\">\n",
       "      <th></th>\n",
       "      <th>TENURE</th>\n",
       "    </tr>\n",
       "  </thead>\n",
       "  <tbody>\n",
       "    <tr>\n",
       "      <th>-12.0</th>\n",
       "      <td>124</td>\n",
       "    </tr>\n",
       "    <tr>\n",
       "      <th>-11.0</th>\n",
       "      <td>8</td>\n",
       "    </tr>\n",
       "    <tr>\n",
       "      <th>-10.0</th>\n",
       "      <td>6</td>\n",
       "    </tr>\n",
       "    <tr>\n",
       "      <th>-7.0</th>\n",
       "      <td>6</td>\n",
       "    </tr>\n",
       "    <tr>\n",
       "      <th>-9.0</th>\n",
       "      <td>2</td>\n",
       "    </tr>\n",
       "    <tr>\n",
       "      <th>-8.0</th>\n",
       "      <td>2</td>\n",
       "    </tr>\n",
       "  </tbody>\n",
       "</table>\n",
       "</div>"
      ],
      "text/plain": [
       "       TENURE\n",
       "-12.0     124\n",
       "-11.0       8\n",
       "-10.0       6\n",
       "-7.0        6\n",
       "-9.0        2\n",
       "-8.0        2"
      ]
     },
     "execution_count": 33,
     "metadata": {},
     "output_type": "execute_result"
    }
   ],
   "source": [
    "print('La cantidad de datos por debajo del límite inferior es: {}'.format(len(datos[datos['TENURE'] < 0])))\n",
    "datos['TENURE'][datos['TENURE'] < 0].value_counts().to_frame()"
   ]
  },
  {
   "cell_type": "markdown",
   "metadata": {},
   "source": [
    "Vemos que solamente hay 6 valores, y que todos están en el rango [-7,-12]. Asumimos, entonces, que es un error de tipeo y que, en realidad, todos los valores son positivos. Por ello, usando la función <code>abs()</code>, transformamos a positivo todos los valores negativos de esta columna:"
   ]
  },
  {
   "cell_type": "code",
   "execution_count": 34,
   "metadata": {},
   "outputs": [],
   "source": [
    "datos['TENURE'] = abs(datos['TENURE'])"
   ]
  },
  {
   "cell_type": "markdown",
   "metadata": {},
   "source": [
    "----\n",
    "Con esto, concluimos el análisis de cada columna por separado. Como dijimos previamente, hay algunos datos que, sin lugar a dudas deben ser imputados. Para ello, seguiremos la siguiente estrategia: Para todas las columnas vamos a realizar una imputacion con la media de los datos. Esto debido a que, el porcentaje máximo de celdas a imputar por cada columna sera de de 7.23%, que corresponde al porcentaje de celdas fuera de rango de la columna que más celdas fuera de rango tiene. Para esto, primero debemos volver nulos estos valores. (esta imputación se realizará en la siguiente sección)"
   ]
  },
  {
   "cell_type": "code",
   "execution_count": 35,
   "metadata": {},
   "outputs": [],
   "source": [
    "def tratar_outliers(x, minimo, maximo):\n",
    "    if x>=minimo and x<=maximo: \n",
    "        return x\n",
    "    else: \n",
    "        return np.NaN"
   ]
  },
  {
   "cell_type": "markdown",
   "metadata": {},
   "source": [
    "Redefinimos el diccionario con los nuevos valores máximos impuestos y vemos la cantidad de valores fuera de rango con las nuevas consideraciones:"
   ]
  },
  {
   "cell_type": "code",
   "execution_count": 36,
   "metadata": {},
   "outputs": [
    {
     "name": "stdout",
     "output_type": "stream",
     "text": [
      "Datos fuera de rango para:\n",
      "BALANCE                   165       \n",
      "BALANCE_FREQUENCY         160       \n",
      "CASH_ADVANCE              0         \n",
      "CASH_ADVANCE_TRX          0         \n",
      "PURCHASES_FREQUENCY       0         \n",
      "PURCHASES_TRX             0         \n",
      "CASH_ADVANCE_FREQUENCY    2         \n",
      "CREDIT_LIMIT              0         \n",
      "MINIMUM_PAYMENTS          393       \n",
      "TENURE                    0         \n",
      "En total hay 720 datos fuera del rango, esto representa el 13.02%  en el dataframe\n"
     ]
    }
   ],
   "source": [
    "dic_limites={\"BALANCE\":(0,max(datos[\"BALANCE\"])),\"BALANCE_FREQUENCY\":(0, 1), \"CASH_ADVANCE\":(0,max(datos[\"CASH_ADVANCE\"])),\"CASH_ADVANCE_TRX\":(0,20),\"PURCHASES_FREQUENCY\":(0,1),\"PURCHASES_TRX\":(0,30),\"CASH_ADVANCE_FREQUENCY\":(0,1),\"CREDIT_LIMIT\":(0,max(datos[\"CREDIT_LIMIT\"])),\"MINIMUM_PAYMENTS\":(0,1200),\"TENURE\":(1,12)}\n",
    "obtener_numero_outliers(dic_limites)"
   ]
  },
  {
   "cell_type": "markdown",
   "metadata": {},
   "source": [
    "Como era de esperarse, ahora las únicas columnas con outliers son: BALANCE (únicamente con datos negativos), CASH_ADVANCE_FREQUENCY (valores superiores a 1 - ¡son solo dos!) y MINIMUM_PAYMENTS (con valores superiores a 1200). \n",
    "\n",
    "\n",
    "A estos valores, aplicamos el tratamiento de los nulos."
   ]
  },
  {
   "cell_type": "code",
   "execution_count": 37,
   "metadata": {},
   "outputs": [],
   "source": [
    "for column in dic_limites.keys():\n",
    "    datos[column] = datos[column].apply( tratar_outliers, args=(dic_limites[column][0], dic_limites[column][1]))"
   ]
  },
  {
   "cell_type": "markdown",
   "metadata": {},
   "source": [
    "Como era de esperarse, ya no hay outliers en el conjunto de datos:"
   ]
  },
  {
   "cell_type": "code",
   "execution_count": 38,
   "metadata": {},
   "outputs": [
    {
     "name": "stdout",
     "output_type": "stream",
     "text": [
      "Datos fuera de rango para:\n",
      "BALANCE                   0         \n",
      "BALANCE_FREQUENCY         0         \n",
      "CASH_ADVANCE              0         \n",
      "CASH_ADVANCE_TRX          0         \n",
      "PURCHASES_FREQUENCY       0         \n",
      "PURCHASES_TRX             0         \n",
      "CASH_ADVANCE_FREQUENCY    0         \n",
      "CREDIT_LIMIT              0         \n",
      "MINIMUM_PAYMENTS          0         \n",
      "TENURE                    0         \n",
      "En total hay 0 datos fuera del rango, esto representa el 0.00%  en el dataframe\n"
     ]
    }
   ],
   "source": [
    "obtener_numero_outliers(dic_limites)"
   ]
  },
  {
   "cell_type": "markdown",
   "metadata": {},
   "source": [
    "### Manejo de nulos (celdas vacías)\n",
    "\n",
    "Revisaremos el numero total de celdas vacías que tenemos"
   ]
  },
  {
   "cell_type": "code",
   "execution_count": 39,
   "metadata": {},
   "outputs": [
    {
     "name": "stdout",
     "output_type": "stream",
     "text": [
      "La cantidad de filas con al menos una celda vacía es:  1348\n",
      "El porcentaje de filas con celdas vacías es del 24.38%\n"
     ]
    }
   ],
   "source": [
    "datos_con_null = datos[datos.isna().any(axis=1)]\n",
    "print('La cantidad de filas con al menos una celda vacía es: ', len(datos_con_null))\n",
    "print('El porcentaje de filas con celdas vacías es del {:.2f}%'.format((len(datos_con_null)*100)/len(datos)))"
   ]
  },
  {
   "cell_type": "markdown",
   "metadata": {},
   "source": [
    "Este es un porcentaje considerable de los datos. En realidad, no vale la pena eliminarlos. Por lo tanto, como se dijo antes, seguiremos una estrategia de imputación con la media (al ser variables continuas)."
   ]
  },
  {
   "cell_type": "code",
   "execution_count": 40,
   "metadata": {},
   "outputs": [],
   "source": [
    "for column in datos.columns:\n",
    "    datos[column] = datos[column].replace(np.nan, datos[column].mean())"
   ]
  },
  {
   "cell_type": "markdown",
   "metadata": {},
   "source": [
    "Revisamos que se haya realizado adecuadamente:"
   ]
  },
  {
   "cell_type": "code",
   "execution_count": 41,
   "metadata": {},
   "outputs": [
    {
     "name": "stdout",
     "output_type": "stream",
     "text": [
      "La cantidad de filas con al menos una celda vacía es:  0\n",
      "El porcentaje de filas con celdas vacías es del 0.00%\n"
     ]
    }
   ],
   "source": [
    "datos_con_null = datos[datos.isna().any(axis=1)]\n",
    "print('La cantidad de filas con al menos una celda vacía es: ', len(datos_con_null))\n",
    "print('El porcentaje de filas con celdas vacías es del {:.2f}%'.format((len(datos_con_null)*100)/len(datos)))"
   ]
  },
  {
   "cell_type": "markdown",
   "metadata": {},
   "source": [
    "Finalmente, ya con todos los datos tratados, conviene de nuevo realizar un mapa de correlación entre las variables:"
   ]
  },
  {
   "cell_type": "code",
   "execution_count": 42,
   "metadata": {},
   "outputs": [
    {
     "data": {
      "text/html": [
       "<div>\n",
       "<style scoped>\n",
       "    .dataframe tbody tr th:only-of-type {\n",
       "        vertical-align: middle;\n",
       "    }\n",
       "\n",
       "    .dataframe tbody tr th {\n",
       "        vertical-align: top;\n",
       "    }\n",
       "\n",
       "    .dataframe thead th {\n",
       "        text-align: right;\n",
       "    }\n",
       "</style>\n",
       "<table border=\"1\" class=\"dataframe\">\n",
       "  <thead>\n",
       "    <tr style=\"text-align: right;\">\n",
       "      <th></th>\n",
       "      <th>BALANCE</th>\n",
       "      <th>PURCHASES</th>\n",
       "      <th>BALANCE_FREQUENCY</th>\n",
       "      <th>CASH_ADVANCE</th>\n",
       "      <th>CASH_ADVANCE_TRX</th>\n",
       "      <th>PURCHASES_FREQUENCY</th>\n",
       "      <th>PURCHASES_TRX</th>\n",
       "      <th>CASH_ADVANCE_FREQUENCY</th>\n",
       "      <th>CREDIT_LIMIT</th>\n",
       "      <th>PAYMENTS</th>\n",
       "      <th>MINIMUM_PAYMENTS</th>\n",
       "      <th>TENURE</th>\n",
       "    </tr>\n",
       "  </thead>\n",
       "  <tbody>\n",
       "    <tr>\n",
       "      <th>BALANCE</th>\n",
       "      <td>1.000000</td>\n",
       "      <td>-0.008036</td>\n",
       "      <td>0.360356</td>\n",
       "      <td>0.502826</td>\n",
       "      <td>0.425960</td>\n",
       "      <td>-0.208565</td>\n",
       "      <td>-0.113089</td>\n",
       "      <td>0.444207</td>\n",
       "      <td>0.375519</td>\n",
       "      <td>0.223764</td>\n",
       "      <td>0.606602</td>\n",
       "      <td>0.057562</td>\n",
       "    </tr>\n",
       "    <tr>\n",
       "      <th>PURCHASES</th>\n",
       "      <td>-0.008036</td>\n",
       "      <td>1.000000</td>\n",
       "      <td>0.106298</td>\n",
       "      <td>-0.156670</td>\n",
       "      <td>-0.178939</td>\n",
       "      <td>0.476312</td>\n",
       "      <td>0.610609</td>\n",
       "      <td>-0.206701</td>\n",
       "      <td>0.229779</td>\n",
       "      <td>0.339212</td>\n",
       "      <td>-0.025184</td>\n",
       "      <td>0.058435</td>\n",
       "    </tr>\n",
       "    <tr>\n",
       "      <th>BALANCE_FREQUENCY</th>\n",
       "      <td>0.360356</td>\n",
       "      <td>0.106298</td>\n",
       "      <td>1.000000</td>\n",
       "      <td>0.103014</td>\n",
       "      <td>0.167323</td>\n",
       "      <td>0.185002</td>\n",
       "      <td>0.190262</td>\n",
       "      <td>0.186670</td>\n",
       "      <td>0.043400</td>\n",
       "      <td>0.015781</td>\n",
       "      <td>0.362958</td>\n",
       "      <td>0.078903</td>\n",
       "    </tr>\n",
       "    <tr>\n",
       "      <th>CASH_ADVANCE</th>\n",
       "      <td>0.502826</td>\n",
       "      <td>-0.156670</td>\n",
       "      <td>0.103014</td>\n",
       "      <td>1.000000</td>\n",
       "      <td>0.680597</td>\n",
       "      <td>-0.298240</td>\n",
       "      <td>-0.234580</td>\n",
       "      <td>0.648882</td>\n",
       "      <td>0.216414</td>\n",
       "      <td>0.369827</td>\n",
       "      <td>0.340179</td>\n",
       "      <td>-0.099321</td>\n",
       "    </tr>\n",
       "    <tr>\n",
       "      <th>CASH_ADVANCE_TRX</th>\n",
       "      <td>0.425960</td>\n",
       "      <td>-0.178939</td>\n",
       "      <td>0.167323</td>\n",
       "      <td>0.680597</td>\n",
       "      <td>1.000000</td>\n",
       "      <td>-0.302048</td>\n",
       "      <td>-0.232614</td>\n",
       "      <td>0.870170</td>\n",
       "      <td>0.068537</td>\n",
       "      <td>0.206692</td>\n",
       "      <td>0.316165</td>\n",
       "      <td>-0.059441</td>\n",
       "    </tr>\n",
       "    <tr>\n",
       "      <th>PURCHASES_FREQUENCY</th>\n",
       "      <td>-0.208565</td>\n",
       "      <td>0.476312</td>\n",
       "      <td>0.185002</td>\n",
       "      <td>-0.298240</td>\n",
       "      <td>-0.302048</td>\n",
       "      <td>1.000000</td>\n",
       "      <td>0.833682</td>\n",
       "      <td>-0.343610</td>\n",
       "      <td>0.057688</td>\n",
       "      <td>-0.000889</td>\n",
       "      <td>-0.154588</td>\n",
       "      <td>-0.000206</td>\n",
       "    </tr>\n",
       "    <tr>\n",
       "      <th>PURCHASES_TRX</th>\n",
       "      <td>-0.113089</td>\n",
       "      <td>0.610609</td>\n",
       "      <td>0.190262</td>\n",
       "      <td>-0.234580</td>\n",
       "      <td>-0.232614</td>\n",
       "      <td>0.833682</td>\n",
       "      <td>1.000000</td>\n",
       "      <td>-0.273348</td>\n",
       "      <td>0.141918</td>\n",
       "      <td>0.114149</td>\n",
       "      <td>-0.067213</td>\n",
       "      <td>0.114096</td>\n",
       "    </tr>\n",
       "    <tr>\n",
       "      <th>CASH_ADVANCE_FREQUENCY</th>\n",
       "      <td>0.444207</td>\n",
       "      <td>-0.206701</td>\n",
       "      <td>0.186670</td>\n",
       "      <td>0.648882</td>\n",
       "      <td>0.870170</td>\n",
       "      <td>-0.343610</td>\n",
       "      <td>-0.273348</td>\n",
       "      <td>1.000000</td>\n",
       "      <td>0.048276</td>\n",
       "      <td>0.176175</td>\n",
       "      <td>0.309288</td>\n",
       "      <td>-0.142891</td>\n",
       "    </tr>\n",
       "    <tr>\n",
       "      <th>CREDIT_LIMIT</th>\n",
       "      <td>0.375519</td>\n",
       "      <td>0.229779</td>\n",
       "      <td>0.043400</td>\n",
       "      <td>0.216414</td>\n",
       "      <td>0.068537</td>\n",
       "      <td>0.057688</td>\n",
       "      <td>0.141918</td>\n",
       "      <td>0.048276</td>\n",
       "      <td>1.000000</td>\n",
       "      <td>0.288171</td>\n",
       "      <td>0.124063</td>\n",
       "      <td>0.138775</td>\n",
       "    </tr>\n",
       "    <tr>\n",
       "      <th>PAYMENTS</th>\n",
       "      <td>0.223764</td>\n",
       "      <td>0.339212</td>\n",
       "      <td>0.015781</td>\n",
       "      <td>0.369827</td>\n",
       "      <td>0.206692</td>\n",
       "      <td>-0.000889</td>\n",
       "      <td>0.114149</td>\n",
       "      <td>0.176175</td>\n",
       "      <td>0.288171</td>\n",
       "      <td>1.000000</td>\n",
       "      <td>0.183771</td>\n",
       "      <td>0.133590</td>\n",
       "    </tr>\n",
       "    <tr>\n",
       "      <th>MINIMUM_PAYMENTS</th>\n",
       "      <td>0.606602</td>\n",
       "      <td>-0.025184</td>\n",
       "      <td>0.362958</td>\n",
       "      <td>0.340179</td>\n",
       "      <td>0.316165</td>\n",
       "      <td>-0.154588</td>\n",
       "      <td>-0.067213</td>\n",
       "      <td>0.309288</td>\n",
       "      <td>0.124063</td>\n",
       "      <td>0.183771</td>\n",
       "      <td>1.000000</td>\n",
       "      <td>0.117372</td>\n",
       "    </tr>\n",
       "    <tr>\n",
       "      <th>TENURE</th>\n",
       "      <td>0.057562</td>\n",
       "      <td>0.058435</td>\n",
       "      <td>0.078903</td>\n",
       "      <td>-0.099321</td>\n",
       "      <td>-0.059441</td>\n",
       "      <td>-0.000206</td>\n",
       "      <td>0.114096</td>\n",
       "      <td>-0.142891</td>\n",
       "      <td>0.138775</td>\n",
       "      <td>0.133590</td>\n",
       "      <td>0.117372</td>\n",
       "      <td>1.000000</td>\n",
       "    </tr>\n",
       "  </tbody>\n",
       "</table>\n",
       "</div>"
      ],
      "text/plain": [
       "                         BALANCE  PURCHASES  BALANCE_FREQUENCY  CASH_ADVANCE  \\\n",
       "BALANCE                 1.000000  -0.008036           0.360356      0.502826   \n",
       "PURCHASES              -0.008036   1.000000           0.106298     -0.156670   \n",
       "BALANCE_FREQUENCY       0.360356   0.106298           1.000000      0.103014   \n",
       "CASH_ADVANCE            0.502826  -0.156670           0.103014      1.000000   \n",
       "CASH_ADVANCE_TRX        0.425960  -0.178939           0.167323      0.680597   \n",
       "PURCHASES_FREQUENCY    -0.208565   0.476312           0.185002     -0.298240   \n",
       "PURCHASES_TRX          -0.113089   0.610609           0.190262     -0.234580   \n",
       "CASH_ADVANCE_FREQUENCY  0.444207  -0.206701           0.186670      0.648882   \n",
       "CREDIT_LIMIT            0.375519   0.229779           0.043400      0.216414   \n",
       "PAYMENTS                0.223764   0.339212           0.015781      0.369827   \n",
       "MINIMUM_PAYMENTS        0.606602  -0.025184           0.362958      0.340179   \n",
       "TENURE                  0.057562   0.058435           0.078903     -0.099321   \n",
       "\n",
       "                        CASH_ADVANCE_TRX  PURCHASES_FREQUENCY  PURCHASES_TRX  \\\n",
       "BALANCE                         0.425960            -0.208565      -0.113089   \n",
       "PURCHASES                      -0.178939             0.476312       0.610609   \n",
       "BALANCE_FREQUENCY               0.167323             0.185002       0.190262   \n",
       "CASH_ADVANCE                    0.680597            -0.298240      -0.234580   \n",
       "CASH_ADVANCE_TRX                1.000000            -0.302048      -0.232614   \n",
       "PURCHASES_FREQUENCY            -0.302048             1.000000       0.833682   \n",
       "PURCHASES_TRX                  -0.232614             0.833682       1.000000   \n",
       "CASH_ADVANCE_FREQUENCY          0.870170            -0.343610      -0.273348   \n",
       "CREDIT_LIMIT                    0.068537             0.057688       0.141918   \n",
       "PAYMENTS                        0.206692            -0.000889       0.114149   \n",
       "MINIMUM_PAYMENTS                0.316165            -0.154588      -0.067213   \n",
       "TENURE                         -0.059441            -0.000206       0.114096   \n",
       "\n",
       "                        CASH_ADVANCE_FREQUENCY  CREDIT_LIMIT  PAYMENTS  \\\n",
       "BALANCE                               0.444207      0.375519  0.223764   \n",
       "PURCHASES                            -0.206701      0.229779  0.339212   \n",
       "BALANCE_FREQUENCY                     0.186670      0.043400  0.015781   \n",
       "CASH_ADVANCE                          0.648882      0.216414  0.369827   \n",
       "CASH_ADVANCE_TRX                      0.870170      0.068537  0.206692   \n",
       "PURCHASES_FREQUENCY                  -0.343610      0.057688 -0.000889   \n",
       "PURCHASES_TRX                        -0.273348      0.141918  0.114149   \n",
       "CASH_ADVANCE_FREQUENCY                1.000000      0.048276  0.176175   \n",
       "CREDIT_LIMIT                          0.048276      1.000000  0.288171   \n",
       "PAYMENTS                              0.176175      0.288171  1.000000   \n",
       "MINIMUM_PAYMENTS                      0.309288      0.124063  0.183771   \n",
       "TENURE                               -0.142891      0.138775  0.133590   \n",
       "\n",
       "                        MINIMUM_PAYMENTS    TENURE  \n",
       "BALANCE                         0.606602  0.057562  \n",
       "PURCHASES                      -0.025184  0.058435  \n",
       "BALANCE_FREQUENCY               0.362958  0.078903  \n",
       "CASH_ADVANCE                    0.340179 -0.099321  \n",
       "CASH_ADVANCE_TRX                0.316165 -0.059441  \n",
       "PURCHASES_FREQUENCY            -0.154588 -0.000206  \n",
       "PURCHASES_TRX                  -0.067213  0.114096  \n",
       "CASH_ADVANCE_FREQUENCY          0.309288 -0.142891  \n",
       "CREDIT_LIMIT                    0.124063  0.138775  \n",
       "PAYMENTS                        0.183771  0.133590  \n",
       "MINIMUM_PAYMENTS                1.000000  0.117372  \n",
       "TENURE                          0.117372  1.000000  "
      ]
     },
     "execution_count": 42,
     "metadata": {},
     "output_type": "execute_result"
    }
   ],
   "source": [
    "corr = datos.corr()\n",
    "corr"
   ]
  },
  {
   "cell_type": "code",
   "execution_count": 43,
   "metadata": {},
   "outputs": [
    {
     "data": {
      "image/png": "[encoded data removed]",
      "text/plain": [
       "<Figure size 360x360 with 2 Axes>"
      ]
     },
     "metadata": {
      "needs_background": "light"
     },
     "output_type": "display_data"
    }
   ],
   "source": [
    "plt.figure(figsize=(5,5))\n",
    "sns.heatmap(corr, \n",
    "        xticklabels=corr.columns,\n",
    "        yticklabels=corr.columns)\n",
    "plt.title('Matriz de correlación entre las columnas del dataset')\n",
    "plt.show()"
   ]
  },
  {
   "cell_type": "markdown",
   "metadata": {},
   "source": [
    "Vemos que después del procesamiento, hay algunas correlaciones que se hacen más evidentes (como, por ejemplo, la de 0.83 entre PURCHASES_FREQUENCY y PURCHASES_TRX, así como la de 0.87 entre CASH_ADVANCE_FREQUENCY y CASH_ADVANCE_TRX. Esto será importante posteriormente en la definición de las columnas que usaremos para los algoritmos.\n",
    "\n",
    "MINIMUM_PAYMENTS y BALANCE, por ejemplo, también guardan una correlación positiva de 0.6. Esta no es significativamente alta y podría ignorarse, dependiendo del algoritmo."
   ]
  },
  {
   "cell_type": "markdown",
   "metadata": {},
   "source": [
    "## 3. Modelamiento\n",
    "Para este laboratorio, elegimos tres algoritmos de clustering: K-means, Hierarchical Clustering y Affinity Propagation"
   ]
  },
  {
   "cell_type": "markdown",
   "metadata": {},
   "source": [
    "### Algoritmo Affinity Propagation\n",
    "Elegimos el algoritmo Affinity Propagation para observar el comportamiento de un algoritmo que no requiere indicar el número de clusters a crear, y poder compararlo con los otros 2 algoritmos que escogimos que sí requieren este parámetro."
   ]
  },
  {
   "cell_type": "code",
   "execution_count": 54,
   "metadata": {
    "scrolled": true
   },
   "outputs": [
    {
     "name": "stdout",
     "output_type": "stream",
     "text": [
      "          BALANCE  CASH_ADVANCE_TRX  PURCHASES_TRX  CREDIT_LIMIT     PAYMENTS  \\\n",
      "0      107.944741          1.000000            2.0        2500.0   192.781455   \n",
      "1      241.032979          1.000000            0.0        1500.0   915.454305   \n",
      "2      894.357857          0.000000           12.0        2000.0   907.603723   \n",
      "3     1104.696014          2.322119           14.0        2700.0   601.729266   \n",
      "4     3881.679582          9.000000            1.0        5500.0  1032.183632   \n",
      "...           ...               ...            ...           ...          ...   \n",
      "5525   656.013010          3.000000            0.0        7000.0   910.457985   \n",
      "5526    15.232505          0.000000           12.0        1500.0   568.982664   \n",
      "5527  1023.124791          1.000000           25.0        9000.0  1070.149971   \n",
      "5528   957.010021          3.000000           12.0        1000.0   811.457190   \n",
      "5529  2664.700424          1.000000           11.0        3500.0   918.003032   \n",
      "\n",
      "      TENURE  \n",
      "0        8.0  \n",
      "1       12.0  \n",
      "2       12.0  \n",
      "3       12.0  \n",
      "4       12.0  \n",
      "...      ...  \n",
      "5525     8.0  \n",
      "5526    12.0  \n",
      "5527    12.0  \n",
      "5528    12.0  \n",
      "5529    12.0  \n",
      "\n",
      "[5530 rows x 6 columns]\n",
      "[[0.01460647 0.05       0.06666667 0.19678715 0.01940139 0.33333333]\n",
      " [0.03261522 0.05       0.         0.11646586 0.09215199 1.        ]\n",
      " [0.12101946 0.         0.4        0.15662651 0.09136168 1.        ]\n",
      " ...\n",
      " [0.13844348 0.05       0.83333333 0.7188755  0.10772501 1.        ]\n",
      " [0.1294972  0.15       0.4        0.07630522 0.08168272 1.        ]\n",
      " [0.36057224 0.05       0.36666667 0.27710843 0.09240856 1.        ]]\n"
     ]
    }
   ],
   "source": [
    "#Primero, escogemos las columnas con las que vamos a crear el modelo. Para escogerlas, creamos grupos de las columnas que estaban correlacionadas a partir del gráfico creado por Pandas Profiling. De cada uno de estos grupos, escogimos una variable que estaría incluída en la creación del modelo.\n",
    "datos_affinity_propagation = datos[[\"BALANCE\", \"CASH_ADVANCE_TRX\", \"PURCHASES_TRX\", \"CREDIT_LIMIT\", \"PAYMENTS\", \"TENURE\"]].copy()\n",
    "print(datos_affinity_propagation)\n",
    "\n",
    "#Escalamos los datos, ya que el tipo de algoritmo lo requiere\n",
    "scaler = MinMaxScaler()\n",
    "datos_affinity_propagation_escalados = scaler.fit_transform(datos_affinity_propagation)\n",
    "print(datos_affinity_propagation_escalados)"
   ]
  },
  {
   "cell_type": "code",
   "execution_count": 50,
   "metadata": {},
   "outputs": [],
   "source": [
    "#Construimos el modelo\n",
    "af = AffinityPropagation(preference=-37, random_state=0).fit(datos_affinity_propagation_escalados)"
   ]
  },
  {
   "cell_type": "code",
   "execution_count": 51,
   "metadata": {},
   "outputs": [
    {
     "data": {
      "text/html": [
       "<div>\n",
       "<style scoped>\n",
       "    .dataframe tbody tr th:only-of-type {\n",
       "        vertical-align: middle;\n",
       "    }\n",
       "\n",
       "    .dataframe tbody tr th {\n",
       "        vertical-align: top;\n",
       "    }\n",
       "\n",
       "    .dataframe thead th {\n",
       "        text-align: right;\n",
       "    }\n",
       "</style>\n",
       "<table border=\"1\" class=\"dataframe\">\n",
       "  <thead>\n",
       "    <tr style=\"text-align: right;\">\n",
       "      <th></th>\n",
       "      <th>BALANCE</th>\n",
       "      <th>CASH_ADVANCE_TRX</th>\n",
       "      <th>PURCHASES_TRX</th>\n",
       "      <th>CREDIT_LIMIT</th>\n",
       "      <th>PAYMENTS</th>\n",
       "      <th>TENURE</th>\n",
       "    </tr>\n",
       "    <tr>\n",
       "      <th>Cluster</th>\n",
       "      <th></th>\n",
       "      <th></th>\n",
       "      <th></th>\n",
       "      <th></th>\n",
       "      <th></th>\n",
       "      <th></th>\n",
       "    </tr>\n",
       "  </thead>\n",
       "  <tbody>\n",
       "    <tr>\n",
       "      <th>0</th>\n",
       "      <td>335</td>\n",
       "      <td>335</td>\n",
       "      <td>335</td>\n",
       "      <td>335</td>\n",
       "      <td>335</td>\n",
       "      <td>335</td>\n",
       "    </tr>\n",
       "    <tr>\n",
       "      <th>1</th>\n",
       "      <td>642</td>\n",
       "      <td>642</td>\n",
       "      <td>642</td>\n",
       "      <td>642</td>\n",
       "      <td>642</td>\n",
       "      <td>642</td>\n",
       "    </tr>\n",
       "    <tr>\n",
       "      <th>2</th>\n",
       "      <td>1222</td>\n",
       "      <td>1222</td>\n",
       "      <td>1222</td>\n",
       "      <td>1222</td>\n",
       "      <td>1222</td>\n",
       "      <td>1222</td>\n",
       "    </tr>\n",
       "    <tr>\n",
       "      <th>3</th>\n",
       "      <td>466</td>\n",
       "      <td>466</td>\n",
       "      <td>466</td>\n",
       "      <td>466</td>\n",
       "      <td>466</td>\n",
       "      <td>466</td>\n",
       "    </tr>\n",
       "    <tr>\n",
       "      <th>4</th>\n",
       "      <td>404</td>\n",
       "      <td>404</td>\n",
       "      <td>404</td>\n",
       "      <td>404</td>\n",
       "      <td>404</td>\n",
       "      <td>404</td>\n",
       "    </tr>\n",
       "    <tr>\n",
       "      <th>5</th>\n",
       "      <td>1516</td>\n",
       "      <td>1516</td>\n",
       "      <td>1516</td>\n",
       "      <td>1516</td>\n",
       "      <td>1516</td>\n",
       "      <td>1516</td>\n",
       "    </tr>\n",
       "    <tr>\n",
       "      <th>6</th>\n",
       "      <td>272</td>\n",
       "      <td>272</td>\n",
       "      <td>272</td>\n",
       "      <td>272</td>\n",
       "      <td>272</td>\n",
       "      <td>272</td>\n",
       "    </tr>\n",
       "    <tr>\n",
       "      <th>7</th>\n",
       "      <td>673</td>\n",
       "      <td>673</td>\n",
       "      <td>673</td>\n",
       "      <td>673</td>\n",
       "      <td>673</td>\n",
       "      <td>673</td>\n",
       "    </tr>\n",
       "  </tbody>\n",
       "</table>\n",
       "</div>"
      ],
      "text/plain": [
       "         BALANCE  CASH_ADVANCE_TRX  PURCHASES_TRX  CREDIT_LIMIT  PAYMENTS  \\\n",
       "Cluster                                                                     \n",
       "0            335               335            335           335       335   \n",
       "1            642               642            642           642       642   \n",
       "2           1222              1222           1222          1222      1222   \n",
       "3            466               466            466           466       466   \n",
       "4            404               404            404           404       404   \n",
       "5           1516              1516           1516          1516      1516   \n",
       "6            272               272            272           272       272   \n",
       "7            673               673            673           673       673   \n",
       "\n",
       "         TENURE  \n",
       "Cluster          \n",
       "0           335  \n",
       "1           642  \n",
       "2          1222  \n",
       "3           466  \n",
       "4           404  \n",
       "5          1516  \n",
       "6           272  \n",
       "7           673  "
      ]
     },
     "execution_count": 51,
     "metadata": {},
     "output_type": "execute_result"
    },
    {
     "data": {
      "image/png": "[encoded data removed]",
      "text/plain": [
       "<Figure size 864x576 with 1 Axes>"
      ]
     },
     "metadata": {
      "needs_background": "light"
     },
     "output_type": "display_data"
    }
   ],
   "source": [
    "# Revisar la cantidad de registros en los clústeres resultado\n",
    "labels = af.labels_\n",
    "datos_affinity_propagation['Cluster'] = labels\n",
    "\n",
    "cluster_distrib = datos_affinity_propagation['Cluster'].value_counts()\n",
    "\n",
    "fig=plt.figure(figsize=(12,8))\n",
    "sns.barplot(x=cluster_distrib.index, y=cluster_distrib.values, color='b');\n",
    "datos_affinity_propagation.groupby('Cluster').count()"
   ]
  },
  {
   "cell_type": "code",
   "execution_count": 52,
   "metadata": {},
   "outputs": [],
   "source": [
    "#Definimos la función que nos mostrará la gráfica del coeficiente silueta\n",
    "def plot_silhouette(data, \n",
    "                    labels,\n",
    "                   ylabel = 'Clústeres',\n",
    "                   xlabel = \"Silhouette coefficient\",\n",
    "                   title = 'Silhouette Plot'):\n",
    "    '''\n",
    "    Graficar la silueta de los clusters\n",
    "    \n",
    "    Parametros\n",
    "    ----------\n",
    "    data : np.array\n",
    "        El arreglo con los datos\n",
    "    labels : np.array\n",
    "        El arreglo con las etiquetas correspondientes\n",
    "    ylabel  string\n",
    "        La etiqueta del eje y\n",
    "    xlabel : string\n",
    "        La etiqueta del eje x\n",
    "    title : string\n",
    "        El titulo de la gráfica        \n",
    "    '''\n",
    "    cluster_labels = np.unique(labels)\n",
    "    print(cluster_labels)\n",
    "    n_clusters = cluster_labels.shape[0]\n",
    "    silhouette_vals = silhouette_samples(data,\n",
    "                                        labels,\n",
    "                                        metric='euclidean')\n",
    "    y_ax_lower, y_ax_upper = 0, 0\n",
    "    yticks = []\n",
    "    for i, c in enumerate(cluster_labels):\n",
    "        c_silhouette_vals = silhouette_vals[labels == c]\n",
    "        c_silhouette_vals.sort()\n",
    "        y_ax_upper += len(c_silhouette_vals)\n",
    "        color = cm.jet(float(i) / n_clusters)\n",
    "        plt.barh(range(y_ax_lower, y_ax_upper),\n",
    "                        c_silhouette_vals,\n",
    "                        height=1.0,\n",
    "                        edgecolor='none',\n",
    "                        color=color)\n",
    "        yticks.append((y_ax_lower + y_ax_upper) / 2.)\n",
    "        y_ax_lower += len(c_silhouette_vals)\n",
    "    silhouette_avg = np.mean(silhouette_vals)\n",
    "    plt.axvline(silhouette_avg,\n",
    "                color=\"red\",\n",
    "                linestyle=\"--\")\n",
    "    plt.yticks(yticks, cluster_labels+1)\n",
    "    plt.ylabel(ylabel)\n",
    "    plt.xlabel(xlabel)\n",
    "    plt.title(title)\n",
    "    plt.show()"
   ]
  },
  {
   "cell_type": "code",
   "execution_count": 53,
   "metadata": {},
   "outputs": [
    {
     "name": "stdout",
     "output_type": "stream",
     "text": [
      "[0 1 2 3 4 5 6 7]\n"
     ]
    },
    {
     "data": {
      "image/png": "[encoded data removed]",
      "text/plain": [
       "<Figure size 432x288 with 1 Axes>"
      ]
     },
     "metadata": {
      "needs_background": "light"
     },
     "output_type": "display_data"
    }
   ],
   "source": [
    "#Graficamos el coeficiente silueta para la validación del modelo\n",
    "plot_silhouette(data = datos_affinity_propagation_escalados, \n",
    "                labels = labels, \n",
    "                ylabel = 'Clustering with 11 clusters')"
   ]
  }
 ],
 "metadata": {
  "kernelspec": {
   "display_name": "Python 3 (ipykernel)",
   "language": "python",
   "name": "python3"
  },
  "language_info": {
   "codemirror_mode": {
    "name": "ipython",
    "version": 3
   },
   "file_extension": ".py",
   "mimetype": "text/x-python",
   "name": "python",
   "nbconvert_exporter": "python",
   "pygments_lexer": "ipython3",
   "version": "3.9.7"
  }
 },
 "nbformat": 4,
 "nbformat_minor": 4
}
