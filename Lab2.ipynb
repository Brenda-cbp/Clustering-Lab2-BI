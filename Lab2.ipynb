{
 "cells": [
  {
   "cell_type": "markdown",
   "id": "b4622ab1",
   "metadata": {},
   "source": [
    "### Alvaro Plata (201820098), Brenda Barahona (201812721) , Sofía Álvarez (201729031)"
   ]
  },
  {
   "cell_type": "markdown",
   "id": "41ec4329",
   "metadata": {},
   "source": [
    "<h1 align='center'>Laboratorio 2: Inteligencia de Negocios</h1>"
   ]
  },
  {
   "cell_type": "markdown",
   "id": "6503fbc7",
   "metadata": {},
   "source": [
    "BancAlpes es una entidad bancaria que está realizando una campaña de fidelización para aumentar la retención de clientes. En concreto, con su estrategía busca fidelizar especialmente a las personas que poseen tarjetas de crédito.\n",
    "Esta campaña busca ofrecer los mejores productos, servicios y recomendaciones a sus clientes de acuerdo con sus características.\n",
    "Por esta razón, ha recurrido a ustedes como consultores para que le entreguen al equipo de marketing información que pueda ayudarlos a orientar mejor sus campañas.\n",
    "En particular, el equipo de marketing espera que le provean grupos a los cuales pueden dirigir sus campañas y las caracteristicas de los clientes en dichos grupos.\n",
    "BancAlpes considera que esta nueva estrategia de marketing le permitirá aumentar el consumo de productos y servicios y por supuesto, aumentar la retención de clientes."
   ]
  },
  {
   "cell_type": "markdown",
   "id": "9714e0da",
   "metadata": {},
   "source": [
    "### 0. Librerias."
   ]
  },
  {
   "cell_type": "code",
   "execution_count": 2,
   "id": "b472c0b5",
   "metadata": {},
   "outputs": [],
   "source": [
    "# Importamos todas las librerias necesarias para el laboratorio.\n",
    "import warnings\n",
    "import numpy as np\n",
    "import pandas as pd\n",
    "import seaborn as sns\n",
    "from sklearn import tree\n",
    "from joblib import dump, load\n",
    "import matplotlib.pyplot as plt\n",
    "warnings.filterwarnings(\"ignore\")\n",
    "from sklearn.impute import SimpleImputer\n",
    "from imblearn.over_sampling import SMOTE\n",
    "from pandas_profiling import ProfileReport\n",
    "from sklearn.pipeline import Pipeline, FeatureUnion\n",
    "from imblearn.pipeline import Pipeline as imbpipeline\n",
    "from sklearn.metrics import recall_score, make_scorer\n",
    "from sklearn.metrics import classification_report, plot_confusion_matrix\n",
    "from sklearn.preprocessing import OneHotEncoder, MinMaxScaler, StandardScaler\n",
    "from sklearn.model_selection import train_test_split, GridSearchCV, StratifiedKFold"
   ]
  },
  {
   "cell_type": "markdown",
   "id": "103837a0",
   "metadata": {},
   "source": [
    "### 1. Análisis exploratorio y perfilamiento de los datos."
   ]
  },
  {
   "cell_type": "markdown",
   "id": "d36066f0",
   "metadata": {},
   "source": [
    "### 2. Preparación de datos."
   ]
  },
  {
   "cell_type": "markdown",
   "id": "9f2e0029",
   "metadata": {},
   "source": [
    "### 3. Modelamiento."
   ]
  },
  {
   "cell_type": "markdown",
   "id": "c4502647",
   "metadata": {},
   "source": [
    "### 4. Validación."
   ]
  },
  {
   "cell_type": "markdown",
   "id": "9fe6f1b7",
   "metadata": {},
   "source": [
    "### 5. Visualización.\n",
    "Haremos la exportación de los datos para usar la herramienta PowerBi"
   ]
  },
  {
   "cell_type": "code",
   "execution_count": null,
   "id": "d3b33213",
   "metadata": {},
   "outputs": [],
   "source": []
  }
 ],
 "metadata": {
  "kernelspec": {
   "display_name": "Python 3",
   "language": "python",
   "name": "python3"
  },
  "language_info": {
   "codemirror_mode": {
    "name": "ipython",
    "version": 3
   },
   "file_extension": ".py",
   "mimetype": "text/x-python",
   "name": "python",
   "nbconvert_exporter": "python",
   "pygments_lexer": "ipython3",
   "version": "3.8.8"
  }
 },
 "nbformat": 4,
 "nbformat_minor": 5
}
