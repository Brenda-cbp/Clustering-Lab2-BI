{
 "cells": [
  {
   "cell_type": "markdown",
   "metadata": {},
   "source": [
    "![](banner.png)"
   ]
  },
  {
   "cell_type": "markdown",
   "metadata": {},
   "source": [
    "# 1. Carga de librerias"
   ]
  },
  {
   "cell_type": "code",
   "execution_count": 1,
   "metadata": {},
   "outputs": [],
   "source": [
    "%matplotlib inline\n",
    "seed = 161\n",
    "import numpy as np\n",
    "import pandas as pd\n",
    "import matplotlib.pyplot as plt\n",
    "import seaborn as sns; sns.set()\n",
    "\n",
    "from sklearn.preprocessing import StandardScaler\n",
    "from sklearn.cluster import KMeans\n",
    "from sklearn.mixture import GaussianMixture\n",
    "from sklearn.cluster import AgglomerativeClustering\n",
    "\n",
    "import scipy.cluster.hierarchy as sch\n",
    "\n",
    "from sklearn.metrics import silhouette_samples, silhouette_score\n",
    "\n",
    "from matplotlib import cm\n",
    "from mpl_toolkits.mplot3d import Axes3D # for 3D plots\n",
    "\n",
    "from sklearn.preprocessing import OneHotEncoder\n",
    "\n",
    "from sklearn.preprocessing import MinMaxScaler"
   ]
  },
  {
   "cell_type": "markdown",
   "metadata": {},
   "source": [
    "# 2. Cargar los datos"
   ]
  },
  {
   "cell_type": "code",
   "execution_count": 2,
   "metadata": {},
   "outputs": [
    {
     "data": {
      "text/html": [
       "<div>\n",
       "<style scoped>\n",
       "    .dataframe tbody tr th:only-of-type {\n",
       "        vertical-align: middle;\n",
       "    }\n",
       "\n",
       "    .dataframe tbody tr th {\n",
       "        vertical-align: top;\n",
       "    }\n",
       "\n",
       "    .dataframe thead th {\n",
       "        text-align: right;\n",
       "    }\n",
       "</style>\n",
       "<table border=\"1\" class=\"dataframe\">\n",
       "  <thead>\n",
       "    <tr style=\"text-align: right;\">\n",
       "      <th></th>\n",
       "      <th>Id</th>\n",
       "      <th>Customer</th>\n",
       "      <th>Limit_bal</th>\n",
       "      <th>Sex</th>\n",
       "      <th>Education</th>\n",
       "      <th>Marriage</th>\n",
       "      <th>Age</th>\n",
       "      <th>Total_Credit_Cards</th>\n",
       "      <th>Total_visits_bank</th>\n",
       "      <th>Total_visits_online</th>\n",
       "      <th>Total_calls_made</th>\n",
       "    </tr>\n",
       "  </thead>\n",
       "  <tbody>\n",
       "    <tr>\n",
       "      <th>0</th>\n",
       "      <td>1</td>\n",
       "      <td>87073.0</td>\n",
       "      <td>20000.0</td>\n",
       "      <td>Female</td>\n",
       "      <td>2</td>\n",
       "      <td>Married</td>\n",
       "      <td>24.0</td>\n",
       "      <td>2.0</td>\n",
       "      <td>1.0</td>\n",
       "      <td>1.0</td>\n",
       "      <td>0.0</td>\n",
       "    </tr>\n",
       "    <tr>\n",
       "      <th>1</th>\n",
       "      <td>2</td>\n",
       "      <td>38414.0</td>\n",
       "      <td>120000.0</td>\n",
       "      <td>Female</td>\n",
       "      <td>2</td>\n",
       "      <td>Single</td>\n",
       "      <td>26.0</td>\n",
       "      <td>3.0</td>\n",
       "      <td>0.0</td>\n",
       "      <td>10.0</td>\n",
       "      <td>9.0</td>\n",
       "    </tr>\n",
       "    <tr>\n",
       "      <th>2</th>\n",
       "      <td>3</td>\n",
       "      <td>17341.0</td>\n",
       "      <td>90000.0</td>\n",
       "      <td>Female</td>\n",
       "      <td>2</td>\n",
       "      <td>Single</td>\n",
       "      <td>34.0</td>\n",
       "      <td>7.0</td>\n",
       "      <td>1.0</td>\n",
       "      <td>3.0</td>\n",
       "      <td>4.0</td>\n",
       "    </tr>\n",
       "    <tr>\n",
       "      <th>3</th>\n",
       "      <td>4</td>\n",
       "      <td>40496.0</td>\n",
       "      <td>50000.0</td>\n",
       "      <td>Female</td>\n",
       "      <td>2</td>\n",
       "      <td>Married</td>\n",
       "      <td>37.0</td>\n",
       "      <td>5.0</td>\n",
       "      <td>1.0</td>\n",
       "      <td>1.0</td>\n",
       "      <td>NaN</td>\n",
       "    </tr>\n",
       "    <tr>\n",
       "      <th>4</th>\n",
       "      <td>5</td>\n",
       "      <td>47437.0</td>\n",
       "      <td>50000.0</td>\n",
       "      <td>Male</td>\n",
       "      <td>2</td>\n",
       "      <td>Married</td>\n",
       "      <td>57.0</td>\n",
       "      <td>6.0</td>\n",
       "      <td>0.0</td>\n",
       "      <td>12.0</td>\n",
       "      <td>3.0</td>\n",
       "    </tr>\n",
       "  </tbody>\n",
       "</table>\n",
       "</div>"
      ],
      "text/plain": [
       "   Id  Customer  Limit_bal     Sex Education Marriage   Age  \\\n",
       "0   1   87073.0    20000.0  Female         2  Married  24.0   \n",
       "1   2   38414.0   120000.0  Female         2   Single  26.0   \n",
       "2   3   17341.0    90000.0  Female         2   Single  34.0   \n",
       "3   4   40496.0    50000.0  Female         2  Married  37.0   \n",
       "4   5   47437.0    50000.0    Male         2  Married  57.0   \n",
       "\n",
       "   Total_Credit_Cards  Total_visits_bank  Total_visits_online  \\\n",
       "0                 2.0                1.0                  1.0   \n",
       "1                 3.0                0.0                 10.0   \n",
       "2                 7.0                1.0                  3.0   \n",
       "3                 5.0                1.0                  1.0   \n",
       "4                 6.0                0.0                 12.0   \n",
       "\n",
       "   Total_calls_made  \n",
       "0               0.0  \n",
       "1               9.0  \n",
       "2               4.0  \n",
       "3               NaN  \n",
       "4               3.0  "
      ]
     },
     "execution_count": 2,
     "metadata": {},
     "output_type": "execute_result"
    }
   ],
   "source": [
    "df_original = pd.read_csv('data/202120_Laboratorio_2_datos_BancAlpes_credit_card_data.csv', sep=';', encoding = 'utf-8', na_values = [\"-\", \"?\"])\n",
    "df_original.head(5)"
   ]
  },
  {
   "cell_type": "markdown",
   "metadata": {},
   "source": [
    "# 3. Perfilamiento y entendimiento de los datos"
   ]
  },
  {
   "cell_type": "code",
   "execution_count": 3,
   "metadata": {},
   "outputs": [
    {
     "name": "stdout",
     "output_type": "stream",
     "text": [
      "<class 'pandas.core.frame.DataFrame'>\n",
      "RangeIndex: 660 entries, 0 to 659\n",
      "Data columns (total 11 columns):\n",
      " #   Column               Non-Null Count  Dtype  \n",
      "---  ------               --------------  -----  \n",
      " 0   Id                   660 non-null    int64  \n",
      " 1   Customer             658 non-null    float64\n",
      " 2   Limit_bal            659 non-null    float64\n",
      " 3   Sex                  659 non-null    object \n",
      " 4   Education            659 non-null    object \n",
      " 5   Marriage             657 non-null    object \n",
      " 6   Age                  659 non-null    float64\n",
      " 7   Total_Credit_Cards   658 non-null    float64\n",
      " 8   Total_visits_bank    656 non-null    float64\n",
      " 9   Total_visits_online  659 non-null    float64\n",
      " 10  Total_calls_made     658 non-null    float64\n",
      "dtypes: float64(7), int64(1), object(3)\n",
      "memory usage: 56.8+ KB\n"
     ]
    }
   ],
   "source": [
    "df_original.info()"
   ]
  },
  {
   "cell_type": "markdown",
   "metadata": {},
   "source": [
    "## 3.1 Valores numéricos"
   ]
  },
  {
   "cell_type": "markdown",
   "metadata": {},
   "source": [
    "Separamos los datos numéricos del dataframe para trabajarlos por a parte"
   ]
  },
  {
   "cell_type": "code",
   "execution_count": 4,
   "metadata": {},
   "outputs": [],
   "source": [
    "df_num = df_original.select_dtypes(include = ['int64','float']).copy()"
   ]
  },
  {
   "cell_type": "code",
   "execution_count": 5,
   "metadata": {},
   "outputs": [
    {
     "name": "stdout",
     "output_type": "stream",
     "text": [
      "<class 'pandas.core.frame.DataFrame'>\n",
      "RangeIndex: 660 entries, 0 to 659\n",
      "Data columns (total 8 columns):\n",
      " #   Column               Non-Null Count  Dtype  \n",
      "---  ------               --------------  -----  \n",
      " 0   Id                   660 non-null    int64  \n",
      " 1   Customer             658 non-null    float64\n",
      " 2   Limit_bal            659 non-null    float64\n",
      " 3   Age                  659 non-null    float64\n",
      " 4   Total_Credit_Cards   658 non-null    float64\n",
      " 5   Total_visits_bank    656 non-null    float64\n",
      " 6   Total_visits_online  659 non-null    float64\n",
      " 7   Total_calls_made     658 non-null    float64\n",
      "dtypes: float64(7), int64(1)\n",
      "memory usage: 41.4 KB\n"
     ]
    }
   ],
   "source": [
    "df_num.info()"
   ]
  },
  {
   "cell_type": "markdown",
   "metadata": {},
   "source": [
    "Revisamos los datos para ver si hay inconsistencias"
   ]
  },
  {
   "cell_type": "code",
   "execution_count": 6,
   "metadata": {},
   "outputs": [
    {
     "data": {
      "text/html": [
       "<div>\n",
       "<style scoped>\n",
       "    .dataframe tbody tr th:only-of-type {\n",
       "        vertical-align: middle;\n",
       "    }\n",
       "\n",
       "    .dataframe tbody tr th {\n",
       "        vertical-align: top;\n",
       "    }\n",
       "\n",
       "    .dataframe thead th {\n",
       "        text-align: right;\n",
       "    }\n",
       "</style>\n",
       "<table border=\"1\" class=\"dataframe\">\n",
       "  <thead>\n",
       "    <tr style=\"text-align: right;\">\n",
       "      <th></th>\n",
       "      <th>Id</th>\n",
       "      <th>Customer</th>\n",
       "      <th>Limit_bal</th>\n",
       "      <th>Age</th>\n",
       "      <th>Total_Credit_Cards</th>\n",
       "      <th>Total_visits_bank</th>\n",
       "      <th>Total_visits_online</th>\n",
       "      <th>Total_calls_made</th>\n",
       "    </tr>\n",
       "  </thead>\n",
       "  <tbody>\n",
       "    <tr>\n",
       "      <th>count</th>\n",
       "      <td>660.000000</td>\n",
       "      <td>658.000000</td>\n",
       "      <td>659.000000</td>\n",
       "      <td>659.000000</td>\n",
       "      <td>6.580000e+02</td>\n",
       "      <td>656.00000</td>\n",
       "      <td>659.000000</td>\n",
       "      <td>658.000000</td>\n",
       "    </tr>\n",
       "    <tr>\n",
       "      <th>mean</th>\n",
       "      <td>330.500000</td>\n",
       "      <td>55180.056231</td>\n",
       "      <td>170000.000000</td>\n",
       "      <td>95.218513</td>\n",
       "      <td>1.876290e+05</td>\n",
       "      <td>2.41311</td>\n",
       "      <td>2.602428</td>\n",
       "      <td>3.579027</td>\n",
       "    </tr>\n",
       "    <tr>\n",
       "      <th>std</th>\n",
       "      <td>190.669872</td>\n",
       "      <td>25651.348197</td>\n",
       "      <td>129739.041329</td>\n",
       "      <td>1432.660847</td>\n",
       "      <td>4.812847e+06</td>\n",
       "      <td>1.63130</td>\n",
       "      <td>2.936469</td>\n",
       "      <td>2.868076</td>\n",
       "    </tr>\n",
       "    <tr>\n",
       "      <th>min</th>\n",
       "      <td>1.000000</td>\n",
       "      <td>11265.000000</td>\n",
       "      <td>10000.000000</td>\n",
       "      <td>21.000000</td>\n",
       "      <td>1.000000e+00</td>\n",
       "      <td>0.00000</td>\n",
       "      <td>0.000000</td>\n",
       "      <td>0.000000</td>\n",
       "    </tr>\n",
       "    <tr>\n",
       "      <th>25%</th>\n",
       "      <td>165.750000</td>\n",
       "      <td>33875.500000</td>\n",
       "      <td>50000.000000</td>\n",
       "      <td>28.000000</td>\n",
       "      <td>3.000000e+00</td>\n",
       "      <td>1.00000</td>\n",
       "      <td>1.000000</td>\n",
       "      <td>1.000000</td>\n",
       "    </tr>\n",
       "    <tr>\n",
       "      <th>50%</th>\n",
       "      <td>330.500000</td>\n",
       "      <td>53907.000000</td>\n",
       "      <td>140000.000000</td>\n",
       "      <td>33.000000</td>\n",
       "      <td>5.000000e+00</td>\n",
       "      <td>2.00000</td>\n",
       "      <td>2.000000</td>\n",
       "      <td>3.000000</td>\n",
       "    </tr>\n",
       "    <tr>\n",
       "      <th>75%</th>\n",
       "      <td>495.250000</td>\n",
       "      <td>77321.500000</td>\n",
       "      <td>240000.000000</td>\n",
       "      <td>41.000000</td>\n",
       "      <td>6.000000e+00</td>\n",
       "      <td>4.00000</td>\n",
       "      <td>4.000000</td>\n",
       "      <td>5.000000</td>\n",
       "    </tr>\n",
       "    <tr>\n",
       "      <th>max</th>\n",
       "      <td>660.000000</td>\n",
       "      <td>99843.000000</td>\n",
       "      <td>630000.000000</td>\n",
       "      <td>36745.000000</td>\n",
       "      <td>1.234568e+08</td>\n",
       "      <td>5.00000</td>\n",
       "      <td>15.000000</td>\n",
       "      <td>10.000000</td>\n",
       "    </tr>\n",
       "  </tbody>\n",
       "</table>\n",
       "</div>"
      ],
      "text/plain": [
       "               Id      Customer      Limit_bal           Age  \\\n",
       "count  660.000000    658.000000     659.000000    659.000000   \n",
       "mean   330.500000  55180.056231  170000.000000     95.218513   \n",
       "std    190.669872  25651.348197  129739.041329   1432.660847   \n",
       "min      1.000000  11265.000000   10000.000000     21.000000   \n",
       "25%    165.750000  33875.500000   50000.000000     28.000000   \n",
       "50%    330.500000  53907.000000  140000.000000     33.000000   \n",
       "75%    495.250000  77321.500000  240000.000000     41.000000   \n",
       "max    660.000000  99843.000000  630000.000000  36745.000000   \n",
       "\n",
       "       Total_Credit_Cards  Total_visits_bank  Total_visits_online  \\\n",
       "count        6.580000e+02          656.00000           659.000000   \n",
       "mean         1.876290e+05            2.41311             2.602428   \n",
       "std          4.812847e+06            1.63130             2.936469   \n",
       "min          1.000000e+00            0.00000             0.000000   \n",
       "25%          3.000000e+00            1.00000             1.000000   \n",
       "50%          5.000000e+00            2.00000             2.000000   \n",
       "75%          6.000000e+00            4.00000             4.000000   \n",
       "max          1.234568e+08            5.00000            15.000000   \n",
       "\n",
       "       Total_calls_made  \n",
       "count        658.000000  \n",
       "mean           3.579027  \n",
       "std            2.868076  \n",
       "min            0.000000  \n",
       "25%            1.000000  \n",
       "50%            3.000000  \n",
       "75%            5.000000  \n",
       "max           10.000000  "
      ]
     },
     "execution_count": 6,
     "metadata": {},
     "output_type": "execute_result"
    }
   ],
   "source": [
    "df_num.describe()"
   ]
  },
  {
   "cell_type": "markdown",
   "metadata": {},
   "source": [
    "Vemos inconsistencias en la columna \"Age\" (Alguien con una edad de 36745 años), revisamos a detalle y arreglamos"
   ]
  },
  {
   "cell_type": "code",
   "execution_count": 7,
   "metadata": {},
   "outputs": [
    {
     "data": {
      "text/plain": [
       "529       21.0\n",
       "69        22.0\n",
       "98        22.0\n",
       "103       22.0\n",
       "397       22.0\n",
       "        ...   \n",
       "246       75.0\n",
       "50       789.0\n",
       "42      2202.0\n",
       "46     36745.0\n",
       "31         NaN\n",
       "Name: Age, Length: 660, dtype: float64"
      ]
     },
     "execution_count": 7,
     "metadata": {},
     "output_type": "execute_result"
    }
   ],
   "source": [
    "df_num.loc[:, 'Age'].sort_values()"
   ]
  },
  {
   "cell_type": "markdown",
   "metadata": {},
   "source": [
    "Volvemos NaN las edades mayores a 120 años"
   ]
  },
  {
   "cell_type": "code",
   "execution_count": 8,
   "metadata": {},
   "outputs": [],
   "source": [
    "df_num['Age'] = df_num['Age'].apply(lambda x: x if x<=120 else np.nan)"
   ]
  },
  {
   "cell_type": "markdown",
   "metadata": {},
   "source": [
    "Vemos inconsistencias en la columna \"Total_Credit_Cards\" (Alguien 123456789 tarjetas de crédito), revisamos a detalle y arreglamos"
   ]
  },
  {
   "cell_type": "code",
   "execution_count": 9,
   "metadata": {},
   "outputs": [
    {
     "data": {
      "text/plain": [
       "50             1.0\n",
       "64             1.0\n",
       "62             1.0\n",
       "61             1.0\n",
       "148            1.0\n",
       "          ...     \n",
       "620           10.0\n",
       "636           10.0\n",
       "74     123456789.0\n",
       "17             NaN\n",
       "31             NaN\n",
       "Name: Total_Credit_Cards, Length: 660, dtype: float64"
      ]
     },
     "execution_count": 9,
     "metadata": {},
     "output_type": "execute_result"
    }
   ],
   "source": [
    "df_num.loc[:, 'Total_Credit_Cards'].sort_values()"
   ]
  },
  {
   "cell_type": "markdown",
   "metadata": {},
   "source": [
    "Volvemos NaN el valor inconsistente de esta columna"
   ]
  },
  {
   "cell_type": "code",
   "execution_count": 10,
   "metadata": {},
   "outputs": [],
   "source": [
    "df_num['Total_Credit_Cards'] = df_num['Total_Credit_Cards'].apply(lambda x: x if not x==123456789 else np.nan)"
   ]
  },
  {
   "cell_type": "markdown",
   "metadata": {},
   "source": [
    "Vamos a quitar los elementos \"Id\" y \"Customer\" porque a pesar de que son valores numéricos, como son valores únicos, no son agrupables y por ende no nos interesan."
   ]
  },
  {
   "cell_type": "code",
   "execution_count": 11,
   "metadata": {},
   "outputs": [],
   "source": [
    "df_num = df_num.drop(columns = [\"Id\",\"Customer\"])"
   ]
  },
  {
   "cell_type": "markdown",
   "metadata": {},
   "source": [
    "## 3.2 Valores no numéricos"
   ]
  },
  {
   "cell_type": "code",
   "execution_count": 12,
   "metadata": {},
   "outputs": [],
   "source": [
    "df_no_num = df_original.select_dtypes(include = ['object']).copy()"
   ]
  },
  {
   "cell_type": "code",
   "execution_count": 13,
   "metadata": {},
   "outputs": [
    {
     "name": "stdout",
     "output_type": "stream",
     "text": [
      "<class 'pandas.core.frame.DataFrame'>\n",
      "RangeIndex: 660 entries, 0 to 659\n",
      "Data columns (total 3 columns):\n",
      " #   Column     Non-Null Count  Dtype \n",
      "---  ------     --------------  ----- \n",
      " 0   Sex        659 non-null    object\n",
      " 1   Education  659 non-null    object\n",
      " 2   Marriage   657 non-null    object\n",
      "dtypes: object(3)\n",
      "memory usage: 15.6+ KB\n"
     ]
    }
   ],
   "source": [
    "df_no_num.info()"
   ]
  },
  {
   "cell_type": "markdown",
   "metadata": {},
   "source": [
    "Separamos la columna \"Education\" en un dataframe independiente"
   ]
  },
  {
   "cell_type": "code",
   "execution_count": 14,
   "metadata": {},
   "outputs": [],
   "source": [
    "df_education = df_no_num[['Education']].copy()"
   ]
  },
  {
   "cell_type": "markdown",
   "metadata": {},
   "source": [
    "Empezamos revisar por qué la columna \"Education\" que deberia ser numerica es object."
   ]
  },
  {
   "cell_type": "code",
   "execution_count": 15,
   "metadata": {
    "scrolled": false
   },
   "outputs": [
    {
     "data": {
      "text/html": [
       "<div>\n",
       "<style scoped>\n",
       "    .dataframe tbody tr th:only-of-type {\n",
       "        vertical-align: middle;\n",
       "    }\n",
       "\n",
       "    .dataframe tbody tr th {\n",
       "        vertical-align: top;\n",
       "    }\n",
       "\n",
       "    .dataframe thead th {\n",
       "        text-align: right;\n",
       "    }\n",
       "</style>\n",
       "<table border=\"1\" class=\"dataframe\">\n",
       "  <thead>\n",
       "    <tr style=\"text-align: right;\">\n",
       "      <th></th>\n",
       "      <th>Education</th>\n",
       "    </tr>\n",
       "  </thead>\n",
       "  <tbody>\n",
       "    <tr>\n",
       "      <th>193</th>\n",
       "      <td>1</td>\n",
       "    </tr>\n",
       "    <tr>\n",
       "      <th>243</th>\n",
       "      <td>1</td>\n",
       "    </tr>\n",
       "    <tr>\n",
       "      <th>241</th>\n",
       "      <td>1</td>\n",
       "    </tr>\n",
       "    <tr>\n",
       "      <th>240</th>\n",
       "      <td>1</td>\n",
       "    </tr>\n",
       "    <tr>\n",
       "      <th>237</th>\n",
       "      <td>1</td>\n",
       "    </tr>\n",
       "    <tr>\n",
       "      <th>...</th>\n",
       "      <td>...</td>\n",
       "    </tr>\n",
       "    <tr>\n",
       "      <th>69</th>\n",
       "      <td>5</td>\n",
       "    </tr>\n",
       "    <tr>\n",
       "      <th>504</th>\n",
       "      <td>6</td>\n",
       "    </tr>\n",
       "    <tr>\n",
       "      <th>502</th>\n",
       "      <td>6</td>\n",
       "    </tr>\n",
       "    <tr>\n",
       "      <th>15</th>\n",
       "      <td>ABC</td>\n",
       "    </tr>\n",
       "    <tr>\n",
       "      <th>31</th>\n",
       "      <td>NaN</td>\n",
       "    </tr>\n",
       "  </tbody>\n",
       "</table>\n",
       "<p>660 rows × 1 columns</p>\n",
       "</div>"
      ],
      "text/plain": [
       "    Education\n",
       "193         1\n",
       "243         1\n",
       "241         1\n",
       "240         1\n",
       "237         1\n",
       "..        ...\n",
       "69          5\n",
       "504         6\n",
       "502         6\n",
       "15        ABC\n",
       "31        NaN\n",
       "\n",
       "[660 rows x 1 columns]"
      ]
     },
     "execution_count": 15,
     "metadata": {},
     "output_type": "execute_result"
    }
   ],
   "source": [
    "df_education.sort_values(by=\"Education\")"
   ]
  },
  {
   "cell_type": "markdown",
   "metadata": {},
   "source": [
    "Volvemos NaN el elemento inconsistente \"ABC\""
   ]
  },
  {
   "cell_type": "code",
   "execution_count": 16,
   "metadata": {},
   "outputs": [],
   "source": [
    "df_education['Education'][15] = np.nan"
   ]
  },
  {
   "cell_type": "markdown",
   "metadata": {},
   "source": [
    "Reemplazaremos los elementos NaN, 5, 6 como '5'"
   ]
  },
  {
   "cell_type": "code",
   "execution_count": 17,
   "metadata": {},
   "outputs": [],
   "source": [
    "df_education['Education'].replace(to_replace = ['5','6',np.nan], value = '5', inplace = True)"
   ]
  },
  {
   "cell_type": "markdown",
   "metadata": {},
   "source": [
    "Reemplazaremos los valores de \"education\" con sus respectivos equivalentes: {'1': 'graduate school'...}"
   ]
  },
  {
   "cell_type": "code",
   "execution_count": 18,
   "metadata": {},
   "outputs": [
    {
     "data": {
      "text/plain": [
       "university         288\n",
       "graduate school    264\n",
       "high school         99\n",
       "unknown              7\n",
       "others               2\n",
       "Name: Education, dtype: int64"
      ]
     },
     "execution_count": 18,
     "metadata": {},
     "output_type": "execute_result"
    }
   ],
   "source": [
    "mini_dict = {'1':'graduate school','2':'university','3':'high school','4':'others', '5':'unknown'}\n",
    "df_education['Education'] = df_education['Education'].apply(lambda x : mini_dict[x])\n",
    "df_education['Education'].value_counts()"
   ]
  },
  {
   "cell_type": "markdown",
   "metadata": {},
   "source": [
    "Volvemos los elementos del dataframe df_education a numéricos"
   ]
  },
  {
   "cell_type": "code",
   "execution_count": 19,
   "metadata": {},
   "outputs": [],
   "source": [
    "education_encoder = OneHotEncoder().fit(df_education)\n",
    "df_education = pd.DataFrame(education_encoder.transform(df_education).toarray(), \n",
    "                       columns = np.concatenate(education_encoder.categories_)) "
   ]
  },
  {
   "cell_type": "code",
   "execution_count": 20,
   "metadata": {
    "scrolled": true
   },
   "outputs": [
    {
     "data": {
      "text/html": [
       "<div>\n",
       "<style scoped>\n",
       "    .dataframe tbody tr th:only-of-type {\n",
       "        vertical-align: middle;\n",
       "    }\n",
       "\n",
       "    .dataframe tbody tr th {\n",
       "        vertical-align: top;\n",
       "    }\n",
       "\n",
       "    .dataframe thead th {\n",
       "        text-align: right;\n",
       "    }\n",
       "</style>\n",
       "<table border=\"1\" class=\"dataframe\">\n",
       "  <thead>\n",
       "    <tr style=\"text-align: right;\">\n",
       "      <th></th>\n",
       "      <th>graduate school</th>\n",
       "      <th>high school</th>\n",
       "      <th>others</th>\n",
       "      <th>university</th>\n",
       "      <th>unknown</th>\n",
       "    </tr>\n",
       "  </thead>\n",
       "  <tbody>\n",
       "    <tr>\n",
       "      <th>0</th>\n",
       "      <td>0.0</td>\n",
       "      <td>0.0</td>\n",
       "      <td>0.0</td>\n",
       "      <td>1.0</td>\n",
       "      <td>0.0</td>\n",
       "    </tr>\n",
       "    <tr>\n",
       "      <th>1</th>\n",
       "      <td>0.0</td>\n",
       "      <td>0.0</td>\n",
       "      <td>0.0</td>\n",
       "      <td>1.0</td>\n",
       "      <td>0.0</td>\n",
       "    </tr>\n",
       "    <tr>\n",
       "      <th>2</th>\n",
       "      <td>0.0</td>\n",
       "      <td>0.0</td>\n",
       "      <td>0.0</td>\n",
       "      <td>1.0</td>\n",
       "      <td>0.0</td>\n",
       "    </tr>\n",
       "    <tr>\n",
       "      <th>3</th>\n",
       "      <td>0.0</td>\n",
       "      <td>0.0</td>\n",
       "      <td>0.0</td>\n",
       "      <td>1.0</td>\n",
       "      <td>0.0</td>\n",
       "    </tr>\n",
       "    <tr>\n",
       "      <th>4</th>\n",
       "      <td>0.0</td>\n",
       "      <td>0.0</td>\n",
       "      <td>0.0</td>\n",
       "      <td>1.0</td>\n",
       "      <td>0.0</td>\n",
       "    </tr>\n",
       "  </tbody>\n",
       "</table>\n",
       "</div>"
      ],
      "text/plain": [
       "   graduate school  high school  others  university  unknown\n",
       "0              0.0          0.0     0.0         1.0      0.0\n",
       "1              0.0          0.0     0.0         1.0      0.0\n",
       "2              0.0          0.0     0.0         1.0      0.0\n",
       "3              0.0          0.0     0.0         1.0      0.0\n",
       "4              0.0          0.0     0.0         1.0      0.0"
      ]
     },
     "execution_count": 20,
     "metadata": {},
     "output_type": "execute_result"
    }
   ],
   "source": [
    "df_education.head(5)"
   ]
  },
  {
   "cell_type": "markdown",
   "metadata": {},
   "source": [
    "Separamos la columna \"Sex\" en un dataframe independiente"
   ]
  },
  {
   "cell_type": "code",
   "execution_count": 21,
   "metadata": {},
   "outputs": [],
   "source": [
    "df_sex = df_no_num[['Sex']].copy()"
   ]
  },
  {
   "cell_type": "markdown",
   "metadata": {},
   "source": [
    "Analizamos y limpiamos"
   ]
  },
  {
   "cell_type": "code",
   "execution_count": 22,
   "metadata": {},
   "outputs": [
    {
     "data": {
      "text/plain": [
       "Female    372\n",
       "Male      273\n",
       "M           3\n",
       "F           3\n",
       "Mael        3\n",
       "f           2\n",
       "Fmale       1\n",
       "Femael      1\n",
       "9           1\n",
       "Name: Sex, dtype: int64"
      ]
     },
     "execution_count": 22,
     "metadata": {},
     "output_type": "execute_result"
    }
   ],
   "source": [
    "df_sex['Sex'].value_counts()"
   ]
  },
  {
   "cell_type": "code",
   "execution_count": 23,
   "metadata": {},
   "outputs": [],
   "source": [
    "df_sex['Sex'].replace(to_replace = ['Female','F','f','Femael','9','Fmale'], value = 'F', inplace = True)\n",
    "df_sex['Sex'].replace(to_replace = ['Male','M','M ','Mael'], value = 'M', inplace = True)"
   ]
  },
  {
   "cell_type": "code",
   "execution_count": 24,
   "metadata": {
    "scrolled": true
   },
   "outputs": [
    {
     "data": {
      "text/plain": [
       "F    380\n",
       "M    279\n",
       "Name: Sex, dtype: int64"
      ]
     },
     "execution_count": 24,
     "metadata": {},
     "output_type": "execute_result"
    }
   ],
   "source": [
    "df_sex['Sex'].value_counts()"
   ]
  },
  {
   "cell_type": "markdown",
   "metadata": {},
   "source": [
    "Convertimos la variable a numerica"
   ]
  },
  {
   "cell_type": "code",
   "execution_count": 25,
   "metadata": {},
   "outputs": [],
   "source": [
    "sex_encoder = OneHotEncoder().fit(df_sex)\n",
    "df_sex = pd.DataFrame(sex_encoder.transform(df_sex).toarray(), \n",
    "                       columns = np.concatenate(sex_encoder.categories_)) "
   ]
  },
  {
   "cell_type": "code",
   "execution_count": 26,
   "metadata": {},
   "outputs": [
    {
     "data": {
      "text/html": [
       "<div>\n",
       "<style scoped>\n",
       "    .dataframe tbody tr th:only-of-type {\n",
       "        vertical-align: middle;\n",
       "    }\n",
       "\n",
       "    .dataframe tbody tr th {\n",
       "        vertical-align: top;\n",
       "    }\n",
       "\n",
       "    .dataframe thead th {\n",
       "        text-align: right;\n",
       "    }\n",
       "</style>\n",
       "<table border=\"1\" class=\"dataframe\">\n",
       "  <thead>\n",
       "    <tr style=\"text-align: right;\">\n",
       "      <th></th>\n",
       "      <th>F</th>\n",
       "      <th>M</th>\n",
       "      <th>NaN</th>\n",
       "    </tr>\n",
       "  </thead>\n",
       "  <tbody>\n",
       "    <tr>\n",
       "      <th>0</th>\n",
       "      <td>1.0</td>\n",
       "      <td>0.0</td>\n",
       "      <td>0.0</td>\n",
       "    </tr>\n",
       "    <tr>\n",
       "      <th>1</th>\n",
       "      <td>1.0</td>\n",
       "      <td>0.0</td>\n",
       "      <td>0.0</td>\n",
       "    </tr>\n",
       "    <tr>\n",
       "      <th>2</th>\n",
       "      <td>1.0</td>\n",
       "      <td>0.0</td>\n",
       "      <td>0.0</td>\n",
       "    </tr>\n",
       "    <tr>\n",
       "      <th>3</th>\n",
       "      <td>1.0</td>\n",
       "      <td>0.0</td>\n",
       "      <td>0.0</td>\n",
       "    </tr>\n",
       "    <tr>\n",
       "      <th>4</th>\n",
       "      <td>0.0</td>\n",
       "      <td>1.0</td>\n",
       "      <td>0.0</td>\n",
       "    </tr>\n",
       "  </tbody>\n",
       "</table>\n",
       "</div>"
      ],
      "text/plain": [
       "     F    M  NaN\n",
       "0  1.0  0.0  0.0\n",
       "1  1.0  0.0  0.0\n",
       "2  1.0  0.0  0.0\n",
       "3  1.0  0.0  0.0\n",
       "4  0.0  1.0  0.0"
      ]
     },
     "execution_count": 26,
     "metadata": {},
     "output_type": "execute_result"
    }
   ],
   "source": [
    "df_sex.head(5)"
   ]
  },
  {
   "cell_type": "markdown",
   "metadata": {},
   "source": [
    "Nos quedamos solo con las columnas [\"F\", \"M\"]"
   ]
  },
  {
   "cell_type": "code",
   "execution_count": 27,
   "metadata": {},
   "outputs": [],
   "source": [
    "df_sex = df_sex[['M','F']].copy()"
   ]
  },
  {
   "cell_type": "markdown",
   "metadata": {},
   "source": [
    "Separamos la columna \"Marriage\" en un dataframe independiente"
   ]
  },
  {
   "cell_type": "code",
   "execution_count": 28,
   "metadata": {},
   "outputs": [],
   "source": [
    "df_married = df_no_num[['Marriage']].copy()"
   ]
  },
  {
   "cell_type": "markdown",
   "metadata": {},
   "source": [
    "Analizamos y limpiamos"
   ]
  },
  {
   "cell_type": "code",
   "execution_count": 29,
   "metadata": {
    "scrolled": true
   },
   "outputs": [
    {
     "data": {
      "text/plain": [
       "Single     379\n",
       "Married    260\n",
       "Others       9\n",
       "1            5\n",
       "2            3\n",
       "0            1\n",
       "Name: Marriage, dtype: int64"
      ]
     },
     "execution_count": 29,
     "metadata": {},
     "output_type": "execute_result"
    }
   ],
   "source": [
    "df_married['Marriage'].value_counts()"
   ]
  },
  {
   "cell_type": "code",
   "execution_count": 30,
   "metadata": {},
   "outputs": [],
   "source": [
    "df_married['Marriage'].replace(to_replace = ['Others','1','2','0'], value = 'Not_Married_Not_Single', inplace = True)"
   ]
  },
  {
   "cell_type": "code",
   "execution_count": 31,
   "metadata": {},
   "outputs": [
    {
     "data": {
      "text/plain": [
       "Single                    379\n",
       "Married                   260\n",
       "Not_Married_Not_Single     18\n",
       "Name: Marriage, dtype: int64"
      ]
     },
     "execution_count": 31,
     "metadata": {},
     "output_type": "execute_result"
    }
   ],
   "source": [
    "df_married['Marriage'].value_counts()"
   ]
  },
  {
   "cell_type": "markdown",
   "metadata": {},
   "source": [
    "Convertimos a numerica"
   ]
  },
  {
   "cell_type": "code",
   "execution_count": 32,
   "metadata": {},
   "outputs": [],
   "source": [
    "married_encoder = OneHotEncoder().fit(df_married)\n",
    "df_married = pd.DataFrame(married_encoder.transform(df_married).toarray(), \n",
    "                       columns = np.concatenate(married_encoder.categories_)) "
   ]
  },
  {
   "cell_type": "code",
   "execution_count": 33,
   "metadata": {},
   "outputs": [
    {
     "data": {
      "text/html": [
       "<div>\n",
       "<style scoped>\n",
       "    .dataframe tbody tr th:only-of-type {\n",
       "        vertical-align: middle;\n",
       "    }\n",
       "\n",
       "    .dataframe tbody tr th {\n",
       "        vertical-align: top;\n",
       "    }\n",
       "\n",
       "    .dataframe thead th {\n",
       "        text-align: right;\n",
       "    }\n",
       "</style>\n",
       "<table border=\"1\" class=\"dataframe\">\n",
       "  <thead>\n",
       "    <tr style=\"text-align: right;\">\n",
       "      <th></th>\n",
       "      <th>Married</th>\n",
       "      <th>Not_Married_Not_Single</th>\n",
       "      <th>Single</th>\n",
       "      <th>NaN</th>\n",
       "    </tr>\n",
       "  </thead>\n",
       "  <tbody>\n",
       "    <tr>\n",
       "      <th>0</th>\n",
       "      <td>1.0</td>\n",
       "      <td>0.0</td>\n",
       "      <td>0.0</td>\n",
       "      <td>0.0</td>\n",
       "    </tr>\n",
       "    <tr>\n",
       "      <th>1</th>\n",
       "      <td>0.0</td>\n",
       "      <td>0.0</td>\n",
       "      <td>1.0</td>\n",
       "      <td>0.0</td>\n",
       "    </tr>\n",
       "    <tr>\n",
       "      <th>2</th>\n",
       "      <td>0.0</td>\n",
       "      <td>0.0</td>\n",
       "      <td>1.0</td>\n",
       "      <td>0.0</td>\n",
       "    </tr>\n",
       "    <tr>\n",
       "      <th>3</th>\n",
       "      <td>1.0</td>\n",
       "      <td>0.0</td>\n",
       "      <td>0.0</td>\n",
       "      <td>0.0</td>\n",
       "    </tr>\n",
       "    <tr>\n",
       "      <th>4</th>\n",
       "      <td>1.0</td>\n",
       "      <td>0.0</td>\n",
       "      <td>0.0</td>\n",
       "      <td>0.0</td>\n",
       "    </tr>\n",
       "  </tbody>\n",
       "</table>\n",
       "</div>"
      ],
      "text/plain": [
       "   Married  Not_Married_Not_Single  Single  NaN\n",
       "0      1.0                     0.0     0.0  0.0\n",
       "1      0.0                     0.0     1.0  0.0\n",
       "2      0.0                     0.0     1.0  0.0\n",
       "3      1.0                     0.0     0.0  0.0\n",
       "4      1.0                     0.0     0.0  0.0"
      ]
     },
     "execution_count": 33,
     "metadata": {},
     "output_type": "execute_result"
    }
   ],
   "source": [
    "df_married.head(5)"
   ]
  },
  {
   "cell_type": "markdown",
   "metadata": {},
   "source": [
    "Nos quedamos solo con las columnas ['Married','Not_Married_Not_Single','Single']"
   ]
  },
  {
   "cell_type": "code",
   "execution_count": 34,
   "metadata": {},
   "outputs": [],
   "source": [
    "df_married = df_married[['Married','Not_Married_Not_Single','Single']].copy()"
   ]
  },
  {
   "cell_type": "markdown",
   "metadata": {},
   "source": [
    "## 3.3 Juntamos numéricos y no numéricos"
   ]
  },
  {
   "cell_type": "code",
   "execution_count": 35,
   "metadata": {},
   "outputs": [],
   "source": [
    "df_final = pd.concat((df_num, df_education, df_sex, df_married), axis = 1)"
   ]
  },
  {
   "cell_type": "code",
   "execution_count": 36,
   "metadata": {
    "scrolled": true
   },
   "outputs": [
    {
     "name": "stdout",
     "output_type": "stream",
     "text": [
      "<class 'pandas.core.frame.DataFrame'>\n",
      "RangeIndex: 660 entries, 0 to 659\n",
      "Data columns (total 16 columns):\n",
      " #   Column                  Non-Null Count  Dtype  \n",
      "---  ------                  --------------  -----  \n",
      " 0   Limit_bal               659 non-null    float64\n",
      " 1   Age                     656 non-null    float64\n",
      " 2   Total_Credit_Cards      657 non-null    float64\n",
      " 3   Total_visits_bank       656 non-null    float64\n",
      " 4   Total_visits_online     659 non-null    float64\n",
      " 5   Total_calls_made        658 non-null    float64\n",
      " 6   graduate school         660 non-null    float64\n",
      " 7   high school             660 non-null    float64\n",
      " 8   others                  660 non-null    float64\n",
      " 9   university              660 non-null    float64\n",
      " 10  unknown                 660 non-null    float64\n",
      " 11  M                       660 non-null    float64\n",
      " 12  F                       660 non-null    float64\n",
      " 13  Married                 660 non-null    float64\n",
      " 14  Not_Married_Not_Single  660 non-null    float64\n",
      " 15  Single                  660 non-null    float64\n",
      "dtypes: float64(16)\n",
      "memory usage: 82.6 KB\n"
     ]
    }
   ],
   "source": [
    "df_final.info()"
   ]
  },
  {
   "cell_type": "markdown",
   "metadata": {},
   "source": [
    "## Tratamos los valores nulos"
   ]
  },
  {
   "cell_type": "markdown",
   "metadata": {},
   "source": [
    "Vemos si hay alguna columna cuya cantidad de valores nulos sea considerable"
   ]
  },
  {
   "cell_type": "code",
   "execution_count": 37,
   "metadata": {},
   "outputs": [
    {
     "data": {
      "text/plain": [
       "Limit_bal                 1\n",
       "Age                       4\n",
       "Total_Credit_Cards        3\n",
       "Total_visits_bank         4\n",
       "Total_visits_online       1\n",
       "Total_calls_made          2\n",
       "graduate school           0\n",
       "high school               0\n",
       "others                    0\n",
       "university                0\n",
       "unknown                   0\n",
       "M                         0\n",
       "F                         0\n",
       "Married                   0\n",
       "Not_Married_Not_Single    0\n",
       "Single                    0\n",
       "dtype: int64"
      ]
     },
     "execution_count": 37,
     "metadata": {},
     "output_type": "execute_result"
    }
   ],
   "source": [
    "df_final.isna().sum()"
   ]
  },
  {
   "cell_type": "markdown",
   "metadata": {},
   "source": [
    "Para este caso nuestra estrategia de nulos va a ser reemplazar por la mediana, esto porque la cantidad de valores NaN es despreciable."
   ]
  },
  {
   "cell_type": "code",
   "execution_count": 38,
   "metadata": {
    "scrolled": true
   },
   "outputs": [
    {
     "data": {
      "text/plain": [
       "{'Limit_bal': 140000.0,\n",
       " 'Age': 33.0,\n",
       " 'Total_Credit_Cards': 5.0,\n",
       " 'Total_visits_bank': 2.0,\n",
       " 'Total_visits_online': 2.0,\n",
       " 'Total_calls_made': 3.0,\n",
       " 'graduate school': 0.0,\n",
       " 'high school': 0.0,\n",
       " 'others': 0.0,\n",
       " 'university': 0.0,\n",
       " 'unknown': 0.0,\n",
       " 'M': 0.0,\n",
       " 'F': 1.0,\n",
       " 'Married': 0.0,\n",
       " 'Not_Married_Not_Single': 0.0,\n",
       " 'Single': 1.0}"
      ]
     },
     "execution_count": 38,
     "metadata": {},
     "output_type": "execute_result"
    }
   ],
   "source": [
    "# Remplazamos por la mediana\n",
    "df_final.median().to_dict()"
   ]
  },
  {
   "cell_type": "code",
   "execution_count": 39,
   "metadata": {
    "scrolled": true
   },
   "outputs": [
    {
     "data": {
      "text/plain": [
       "Limit_bal                 0\n",
       "Age                       0\n",
       "Total_Credit_Cards        0\n",
       "Total_visits_bank         0\n",
       "Total_visits_online       0\n",
       "Total_calls_made          0\n",
       "graduate school           0\n",
       "high school               0\n",
       "others                    0\n",
       "university                0\n",
       "unknown                   0\n",
       "M                         0\n",
       "F                         0\n",
       "Married                   0\n",
       "Not_Married_Not_Single    0\n",
       "Single                    0\n",
       "dtype: int64"
      ]
     },
     "execution_count": 39,
     "metadata": {},
     "output_type": "execute_result"
    }
   ],
   "source": [
    "df_final.fillna(df_final.median().to_dict(), inplace = True)\n",
    "df_final.isna().sum()"
   ]
  },
  {
   "cell_type": "markdown",
   "metadata": {},
   "source": [
    "## 3.4 Reescalar"
   ]
  },
  {
   "cell_type": "code",
   "execution_count": 40,
   "metadata": {
    "scrolled": true
   },
   "outputs": [
    {
     "data": {
      "text/html": [
       "<div>\n",
       "<style scoped>\n",
       "    .dataframe tbody tr th:only-of-type {\n",
       "        vertical-align: middle;\n",
       "    }\n",
       "\n",
       "    .dataframe tbody tr th {\n",
       "        vertical-align: top;\n",
       "    }\n",
       "\n",
       "    .dataframe thead th {\n",
       "        text-align: right;\n",
       "    }\n",
       "</style>\n",
       "<table border=\"1\" class=\"dataframe\">\n",
       "  <thead>\n",
       "    <tr style=\"text-align: right;\">\n",
       "      <th></th>\n",
       "      <th>Limit_bal</th>\n",
       "      <th>Age</th>\n",
       "      <th>Total_Credit_Cards</th>\n",
       "      <th>Total_visits_bank</th>\n",
       "      <th>Total_visits_online</th>\n",
       "      <th>Total_calls_made</th>\n",
       "      <th>graduate school</th>\n",
       "      <th>high school</th>\n",
       "      <th>others</th>\n",
       "      <th>university</th>\n",
       "      <th>unknown</th>\n",
       "      <th>M</th>\n",
       "      <th>F</th>\n",
       "      <th>Married</th>\n",
       "      <th>Not_Married_Not_Single</th>\n",
       "      <th>Single</th>\n",
       "    </tr>\n",
       "  </thead>\n",
       "  <tbody>\n",
       "    <tr>\n",
       "      <th>count</th>\n",
       "      <td>660.000000</td>\n",
       "      <td>660.000000</td>\n",
       "      <td>660.000000</td>\n",
       "      <td>660.000000</td>\n",
       "      <td>660.000000</td>\n",
       "      <td>660.000000</td>\n",
       "      <td>660.00000</td>\n",
       "      <td>660.000000</td>\n",
       "      <td>660.000000</td>\n",
       "      <td>660.000000</td>\n",
       "      <td>660.000000</td>\n",
       "      <td>660.000000</td>\n",
       "      <td>660.000000</td>\n",
       "      <td>660.000000</td>\n",
       "      <td>660.000000</td>\n",
       "      <td>660.000000</td>\n",
       "    </tr>\n",
       "    <tr>\n",
       "      <th>mean</th>\n",
       "      <td>0.257991</td>\n",
       "      <td>0.260522</td>\n",
       "      <td>0.413131</td>\n",
       "      <td>0.482121</td>\n",
       "      <td>0.173434</td>\n",
       "      <td>0.357727</td>\n",
       "      <td>0.40000</td>\n",
       "      <td>0.150000</td>\n",
       "      <td>0.003030</td>\n",
       "      <td>0.436364</td>\n",
       "      <td>0.010606</td>\n",
       "      <td>0.422727</td>\n",
       "      <td>0.575758</td>\n",
       "      <td>0.393939</td>\n",
       "      <td>0.027273</td>\n",
       "      <td>0.574242</td>\n",
       "    </tr>\n",
       "    <tr>\n",
       "      <th>std</th>\n",
       "      <td>0.209106</td>\n",
       "      <td>0.172938</td>\n",
       "      <td>0.240193</td>\n",
       "      <td>0.325332</td>\n",
       "      <td>0.195622</td>\n",
       "      <td>0.286390</td>\n",
       "      <td>0.49027</td>\n",
       "      <td>0.357342</td>\n",
       "      <td>0.055006</td>\n",
       "      <td>0.496310</td>\n",
       "      <td>0.102516</td>\n",
       "      <td>0.494368</td>\n",
       "      <td>0.494602</td>\n",
       "      <td>0.488992</td>\n",
       "      <td>0.163001</td>\n",
       "      <td>0.494832</td>\n",
       "    </tr>\n",
       "    <tr>\n",
       "      <th>min</th>\n",
       "      <td>0.000000</td>\n",
       "      <td>0.000000</td>\n",
       "      <td>0.000000</td>\n",
       "      <td>0.000000</td>\n",
       "      <td>0.000000</td>\n",
       "      <td>0.000000</td>\n",
       "      <td>0.00000</td>\n",
       "      <td>0.000000</td>\n",
       "      <td>0.000000</td>\n",
       "      <td>0.000000</td>\n",
       "      <td>0.000000</td>\n",
       "      <td>0.000000</td>\n",
       "      <td>0.000000</td>\n",
       "      <td>0.000000</td>\n",
       "      <td>0.000000</td>\n",
       "      <td>0.000000</td>\n",
       "    </tr>\n",
       "    <tr>\n",
       "      <th>25%</th>\n",
       "      <td>0.064516</td>\n",
       "      <td>0.129630</td>\n",
       "      <td>0.222222</td>\n",
       "      <td>0.200000</td>\n",
       "      <td>0.066667</td>\n",
       "      <td>0.100000</td>\n",
       "      <td>0.00000</td>\n",
       "      <td>0.000000</td>\n",
       "      <td>0.000000</td>\n",
       "      <td>0.000000</td>\n",
       "      <td>0.000000</td>\n",
       "      <td>0.000000</td>\n",
       "      <td>0.000000</td>\n",
       "      <td>0.000000</td>\n",
       "      <td>0.000000</td>\n",
       "      <td>0.000000</td>\n",
       "    </tr>\n",
       "    <tr>\n",
       "      <th>50%</th>\n",
       "      <td>0.209677</td>\n",
       "      <td>0.222222</td>\n",
       "      <td>0.444444</td>\n",
       "      <td>0.400000</td>\n",
       "      <td>0.133333</td>\n",
       "      <td>0.300000</td>\n",
       "      <td>0.00000</td>\n",
       "      <td>0.000000</td>\n",
       "      <td>0.000000</td>\n",
       "      <td>0.000000</td>\n",
       "      <td>0.000000</td>\n",
       "      <td>0.000000</td>\n",
       "      <td>1.000000</td>\n",
       "      <td>0.000000</td>\n",
       "      <td>0.000000</td>\n",
       "      <td>1.000000</td>\n",
       "    </tr>\n",
       "    <tr>\n",
       "      <th>75%</th>\n",
       "      <td>0.370968</td>\n",
       "      <td>0.370370</td>\n",
       "      <td>0.555556</td>\n",
       "      <td>0.800000</td>\n",
       "      <td>0.266667</td>\n",
       "      <td>0.500000</td>\n",
       "      <td>1.00000</td>\n",
       "      <td>0.000000</td>\n",
       "      <td>0.000000</td>\n",
       "      <td>1.000000</td>\n",
       "      <td>0.000000</td>\n",
       "      <td>1.000000</td>\n",
       "      <td>1.000000</td>\n",
       "      <td>1.000000</td>\n",
       "      <td>0.000000</td>\n",
       "      <td>1.000000</td>\n",
       "    </tr>\n",
       "    <tr>\n",
       "      <th>max</th>\n",
       "      <td>1.000000</td>\n",
       "      <td>1.000000</td>\n",
       "      <td>1.000000</td>\n",
       "      <td>1.000000</td>\n",
       "      <td>1.000000</td>\n",
       "      <td>1.000000</td>\n",
       "      <td>1.00000</td>\n",
       "      <td>1.000000</td>\n",
       "      <td>1.000000</td>\n",
       "      <td>1.000000</td>\n",
       "      <td>1.000000</td>\n",
       "      <td>1.000000</td>\n",
       "      <td>1.000000</td>\n",
       "      <td>1.000000</td>\n",
       "      <td>1.000000</td>\n",
       "      <td>1.000000</td>\n",
       "    </tr>\n",
       "  </tbody>\n",
       "</table>\n",
       "</div>"
      ],
      "text/plain": [
       "        Limit_bal         Age  Total_Credit_Cards  Total_visits_bank  \\\n",
       "count  660.000000  660.000000          660.000000         660.000000   \n",
       "mean     0.257991    0.260522            0.413131           0.482121   \n",
       "std      0.209106    0.172938            0.240193           0.325332   \n",
       "min      0.000000    0.000000            0.000000           0.000000   \n",
       "25%      0.064516    0.129630            0.222222           0.200000   \n",
       "50%      0.209677    0.222222            0.444444           0.400000   \n",
       "75%      0.370968    0.370370            0.555556           0.800000   \n",
       "max      1.000000    1.000000            1.000000           1.000000   \n",
       "\n",
       "       Total_visits_online  Total_calls_made  graduate school  high school  \\\n",
       "count           660.000000        660.000000        660.00000   660.000000   \n",
       "mean              0.173434          0.357727          0.40000     0.150000   \n",
       "std               0.195622          0.286390          0.49027     0.357342   \n",
       "min               0.000000          0.000000          0.00000     0.000000   \n",
       "25%               0.066667          0.100000          0.00000     0.000000   \n",
       "50%               0.133333          0.300000          0.00000     0.000000   \n",
       "75%               0.266667          0.500000          1.00000     0.000000   \n",
       "max               1.000000          1.000000          1.00000     1.000000   \n",
       "\n",
       "           others  university     unknown           M           F     Married  \\\n",
       "count  660.000000  660.000000  660.000000  660.000000  660.000000  660.000000   \n",
       "mean     0.003030    0.436364    0.010606    0.422727    0.575758    0.393939   \n",
       "std      0.055006    0.496310    0.102516    0.494368    0.494602    0.488992   \n",
       "min      0.000000    0.000000    0.000000    0.000000    0.000000    0.000000   \n",
       "25%      0.000000    0.000000    0.000000    0.000000    0.000000    0.000000   \n",
       "50%      0.000000    0.000000    0.000000    0.000000    1.000000    0.000000   \n",
       "75%      0.000000    1.000000    0.000000    1.000000    1.000000    1.000000   \n",
       "max      1.000000    1.000000    1.000000    1.000000    1.000000    1.000000   \n",
       "\n",
       "       Not_Married_Not_Single      Single  \n",
       "count              660.000000  660.000000  \n",
       "mean                 0.027273    0.574242  \n",
       "std                  0.163001    0.494832  \n",
       "min                  0.000000    0.000000  \n",
       "25%                  0.000000    0.000000  \n",
       "50%                  0.000000    1.000000  \n",
       "75%                  0.000000    1.000000  \n",
       "max                  1.000000    1.000000  "
      ]
     },
     "execution_count": 40,
     "metadata": {},
     "output_type": "execute_result"
    }
   ],
   "source": [
    "trans = MinMaxScaler()\n",
    "trans.fit(df_final)\n",
    "\n",
    "df_finalt = pd.DataFrame(trans.transform(df_final), columns = df_final.columns)\n",
    "df_finalt.describe()"
   ]
  },
  {
   "cell_type": "code",
   "execution_count": 41,
   "metadata": {},
   "outputs": [
    {
     "data": {
      "text/html": [
       "<div>\n",
       "<style scoped>\n",
       "    .dataframe tbody tr th:only-of-type {\n",
       "        vertical-align: middle;\n",
       "    }\n",
       "\n",
       "    .dataframe tbody tr th {\n",
       "        vertical-align: top;\n",
       "    }\n",
       "\n",
       "    .dataframe thead th {\n",
       "        text-align: right;\n",
       "    }\n",
       "</style>\n",
       "<table border=\"1\" class=\"dataframe\">\n",
       "  <thead>\n",
       "    <tr style=\"text-align: right;\">\n",
       "      <th></th>\n",
       "      <th>Limit_bal</th>\n",
       "      <th>Age</th>\n",
       "      <th>Total_Credit_Cards</th>\n",
       "      <th>Total_visits_bank</th>\n",
       "      <th>Total_visits_online</th>\n",
       "      <th>Total_calls_made</th>\n",
       "      <th>graduate school</th>\n",
       "      <th>high school</th>\n",
       "      <th>others</th>\n",
       "      <th>university</th>\n",
       "      <th>unknown</th>\n",
       "      <th>M</th>\n",
       "      <th>F</th>\n",
       "      <th>Married</th>\n",
       "      <th>Not_Married_Not_Single</th>\n",
       "      <th>Single</th>\n",
       "    </tr>\n",
       "  </thead>\n",
       "  <tbody>\n",
       "    <tr>\n",
       "      <th>count</th>\n",
       "      <td>660.000000</td>\n",
       "      <td>660.000000</td>\n",
       "      <td>660.000000</td>\n",
       "      <td>660.000000</td>\n",
       "      <td>660.000000</td>\n",
       "      <td>660.000000</td>\n",
       "      <td>660.00000</td>\n",
       "      <td>660.000000</td>\n",
       "      <td>660.000000</td>\n",
       "      <td>660.000000</td>\n",
       "      <td>660.000000</td>\n",
       "      <td>660.000000</td>\n",
       "      <td>660.000000</td>\n",
       "      <td>660.000000</td>\n",
       "      <td>660.000000</td>\n",
       "      <td>660.000000</td>\n",
       "    </tr>\n",
       "    <tr>\n",
       "      <th>mean</th>\n",
       "      <td>169954.545455</td>\n",
       "      <td>35.068182</td>\n",
       "      <td>4.718182</td>\n",
       "      <td>2.410606</td>\n",
       "      <td>2.601515</td>\n",
       "      <td>3.577273</td>\n",
       "      <td>0.40000</td>\n",
       "      <td>0.150000</td>\n",
       "      <td>0.003030</td>\n",
       "      <td>0.436364</td>\n",
       "      <td>0.010606</td>\n",
       "      <td>0.422727</td>\n",
       "      <td>0.575758</td>\n",
       "      <td>0.393939</td>\n",
       "      <td>0.027273</td>\n",
       "      <td>0.574242</td>\n",
       "    </tr>\n",
       "    <tr>\n",
       "      <th>std</th>\n",
       "      <td>129645.826849</td>\n",
       "      <td>9.338673</td>\n",
       "      <td>2.161739</td>\n",
       "      <td>1.626658</td>\n",
       "      <td>2.934334</td>\n",
       "      <td>2.863898</td>\n",
       "      <td>0.49027</td>\n",
       "      <td>0.357342</td>\n",
       "      <td>0.055006</td>\n",
       "      <td>0.496310</td>\n",
       "      <td>0.102516</td>\n",
       "      <td>0.494368</td>\n",
       "      <td>0.494602</td>\n",
       "      <td>0.488992</td>\n",
       "      <td>0.163001</td>\n",
       "      <td>0.494832</td>\n",
       "    </tr>\n",
       "    <tr>\n",
       "      <th>min</th>\n",
       "      <td>10000.000000</td>\n",
       "      <td>21.000000</td>\n",
       "      <td>1.000000</td>\n",
       "      <td>0.000000</td>\n",
       "      <td>0.000000</td>\n",
       "      <td>0.000000</td>\n",
       "      <td>0.00000</td>\n",
       "      <td>0.000000</td>\n",
       "      <td>0.000000</td>\n",
       "      <td>0.000000</td>\n",
       "      <td>0.000000</td>\n",
       "      <td>0.000000</td>\n",
       "      <td>0.000000</td>\n",
       "      <td>0.000000</td>\n",
       "      <td>0.000000</td>\n",
       "      <td>0.000000</td>\n",
       "    </tr>\n",
       "    <tr>\n",
       "      <th>25%</th>\n",
       "      <td>50000.000000</td>\n",
       "      <td>28.000000</td>\n",
       "      <td>3.000000</td>\n",
       "      <td>1.000000</td>\n",
       "      <td>1.000000</td>\n",
       "      <td>1.000000</td>\n",
       "      <td>0.00000</td>\n",
       "      <td>0.000000</td>\n",
       "      <td>0.000000</td>\n",
       "      <td>0.000000</td>\n",
       "      <td>0.000000</td>\n",
       "      <td>0.000000</td>\n",
       "      <td>0.000000</td>\n",
       "      <td>0.000000</td>\n",
       "      <td>0.000000</td>\n",
       "      <td>0.000000</td>\n",
       "    </tr>\n",
       "    <tr>\n",
       "      <th>50%</th>\n",
       "      <td>140000.000000</td>\n",
       "      <td>33.000000</td>\n",
       "      <td>5.000000</td>\n",
       "      <td>2.000000</td>\n",
       "      <td>2.000000</td>\n",
       "      <td>3.000000</td>\n",
       "      <td>0.00000</td>\n",
       "      <td>0.000000</td>\n",
       "      <td>0.000000</td>\n",
       "      <td>0.000000</td>\n",
       "      <td>0.000000</td>\n",
       "      <td>0.000000</td>\n",
       "      <td>1.000000</td>\n",
       "      <td>0.000000</td>\n",
       "      <td>0.000000</td>\n",
       "      <td>1.000000</td>\n",
       "    </tr>\n",
       "    <tr>\n",
       "      <th>75%</th>\n",
       "      <td>240000.000000</td>\n",
       "      <td>41.000000</td>\n",
       "      <td>6.000000</td>\n",
       "      <td>4.000000</td>\n",
       "      <td>4.000000</td>\n",
       "      <td>5.000000</td>\n",
       "      <td>1.00000</td>\n",
       "      <td>0.000000</td>\n",
       "      <td>0.000000</td>\n",
       "      <td>1.000000</td>\n",
       "      <td>0.000000</td>\n",
       "      <td>1.000000</td>\n",
       "      <td>1.000000</td>\n",
       "      <td>1.000000</td>\n",
       "      <td>0.000000</td>\n",
       "      <td>1.000000</td>\n",
       "    </tr>\n",
       "    <tr>\n",
       "      <th>max</th>\n",
       "      <td>630000.000000</td>\n",
       "      <td>75.000000</td>\n",
       "      <td>10.000000</td>\n",
       "      <td>5.000000</td>\n",
       "      <td>15.000000</td>\n",
       "      <td>10.000000</td>\n",
       "      <td>1.00000</td>\n",
       "      <td>1.000000</td>\n",
       "      <td>1.000000</td>\n",
       "      <td>1.000000</td>\n",
       "      <td>1.000000</td>\n",
       "      <td>1.000000</td>\n",
       "      <td>1.000000</td>\n",
       "      <td>1.000000</td>\n",
       "      <td>1.000000</td>\n",
       "      <td>1.000000</td>\n",
       "    </tr>\n",
       "  </tbody>\n",
       "</table>\n",
       "</div>"
      ],
      "text/plain": [
       "           Limit_bal         Age  Total_Credit_Cards  Total_visits_bank  \\\n",
       "count     660.000000  660.000000          660.000000         660.000000   \n",
       "mean   169954.545455   35.068182            4.718182           2.410606   \n",
       "std    129645.826849    9.338673            2.161739           1.626658   \n",
       "min     10000.000000   21.000000            1.000000           0.000000   \n",
       "25%     50000.000000   28.000000            3.000000           1.000000   \n",
       "50%    140000.000000   33.000000            5.000000           2.000000   \n",
       "75%    240000.000000   41.000000            6.000000           4.000000   \n",
       "max    630000.000000   75.000000           10.000000           5.000000   \n",
       "\n",
       "       Total_visits_online  Total_calls_made  graduate school  high school  \\\n",
       "count           660.000000        660.000000        660.00000   660.000000   \n",
       "mean              2.601515          3.577273          0.40000     0.150000   \n",
       "std               2.934334          2.863898          0.49027     0.357342   \n",
       "min               0.000000          0.000000          0.00000     0.000000   \n",
       "25%               1.000000          1.000000          0.00000     0.000000   \n",
       "50%               2.000000          3.000000          0.00000     0.000000   \n",
       "75%               4.000000          5.000000          1.00000     0.000000   \n",
       "max              15.000000         10.000000          1.00000     1.000000   \n",
       "\n",
       "           others  university     unknown           M           F     Married  \\\n",
       "count  660.000000  660.000000  660.000000  660.000000  660.000000  660.000000   \n",
       "mean     0.003030    0.436364    0.010606    0.422727    0.575758    0.393939   \n",
       "std      0.055006    0.496310    0.102516    0.494368    0.494602    0.488992   \n",
       "min      0.000000    0.000000    0.000000    0.000000    0.000000    0.000000   \n",
       "25%      0.000000    0.000000    0.000000    0.000000    0.000000    0.000000   \n",
       "50%      0.000000    0.000000    0.000000    0.000000    1.000000    0.000000   \n",
       "75%      0.000000    1.000000    0.000000    1.000000    1.000000    1.000000   \n",
       "max      1.000000    1.000000    1.000000    1.000000    1.000000    1.000000   \n",
       "\n",
       "       Not_Married_Not_Single      Single  \n",
       "count              660.000000  660.000000  \n",
       "mean                 0.027273    0.574242  \n",
       "std                  0.163001    0.494832  \n",
       "min                  0.000000    0.000000  \n",
       "25%                  0.000000    0.000000  \n",
       "50%                  0.000000    1.000000  \n",
       "75%                  0.000000    1.000000  \n",
       "max                  1.000000    1.000000  "
      ]
     },
     "execution_count": 41,
     "metadata": {},
     "output_type": "execute_result"
    }
   ],
   "source": [
    "df_final.describe()"
   ]
  },
  {
   "cell_type": "markdown",
   "metadata": {},
   "source": [
    "# 4 Algoritmo"
   ]
  },
  {
   "cell_type": "markdown",
   "metadata": {},
   "source": [
    "## 4.1 Funciones auxiliares"
   ]
  },
  {
   "cell_type": "code",
   "execution_count": 42,
   "metadata": {},
   "outputs": [],
   "source": [
    "#Creamos una función basada en el concepto de silueta\n",
    "def plot_silhouette(data, \n",
    "                    labels,\n",
    "                   ylabel = 'Clústeres',\n",
    "                   xlabel = \"Silhouette coefficient\",\n",
    "                   title = 'Silhouette Plot'):\n",
    "    '''\n",
    "    Graficar la silueta de los clusters\n",
    "    \n",
    "    Parametros\n",
    "    ----------\n",
    "    data : np.array\n",
    "        El arreglo con los datos\n",
    "    labels : np.array\n",
    "        El arreglo con las etiquetas correspondientes\n",
    "    ylabel  string\n",
    "        La etiqueta del eje y\n",
    "    xlabel : string\n",
    "        La etiqueta del eje x\n",
    "    title : string\n",
    "        El titulo de la gráfica        \n",
    "    '''\n",
    "    cluster_labels = np.unique(labels)\n",
    "    n_clusters = cluster_labels.shape[0]\n",
    "    silhouette_vals = silhouette_samples(data,\n",
    "                                        labels,\n",
    "                                        metric='euclidean')\n",
    "    y_ax_lower, y_ax_upper = 0, 0\n",
    "    yticks = []\n",
    "    for i, c in enumerate(cluster_labels):\n",
    "        c_silhouette_vals = silhouette_vals[labels == c]\n",
    "        c_silhouette_vals.sort()\n",
    "        y_ax_upper += len(c_silhouette_vals)\n",
    "        color = cm.jet(float(i) / n_clusters)\n",
    "        plt.barh(range(y_ax_lower, y_ax_upper),\n",
    "                        c_silhouette_vals,\n",
    "                        height=1.0,\n",
    "                        edgecolor='none',\n",
    "                        color=color)\n",
    "        yticks.append((y_ax_lower + y_ax_upper) / 2.)\n",
    "        y_ax_lower += len(c_silhouette_vals)\n",
    "    silhouette_avg = np.mean(silhouette_vals)\n",
    "    plt.axvline(silhouette_avg,\n",
    "                color=\"red\",\n",
    "                linestyle=\"--\")\n",
    "    plt.yticks(yticks, cluster_labels+1)\n",
    "    plt.ylabel(ylabel)\n",
    "    plt.xlabel(xlabel)\n",
    "    plt.title(title)\n",
    "    plt.show()"
   ]
  },
  {
   "cell_type": "code",
   "execution_count": 43,
   "metadata": {},
   "outputs": [],
   "source": [
    "#Esto sirve para una cosa de diccionarios después\n",
    "def get_columns_names(cols: pd.core.indexes.base.Index) -> dict:\n",
    "    new_columns = {}\n",
    "    new_columns['index'] = 'column'\n",
    "    for i in range(1,len(cols)):\n",
    "        new_columns[cols[i]] = int(str(i))\n",
    "    return new_columns"
   ]
  },
  {
   "cell_type": "markdown",
   "metadata": {},
   "source": [
    "## 4.2 Modelo con Género"
   ]
  },
  {
   "cell_type": "markdown",
   "metadata": {},
   "source": [
    "Separamos un df para este análisis"
   ]
  },
  {
   "cell_type": "code",
   "execution_count": 44,
   "metadata": {},
   "outputs": [],
   "source": [
    "df_particular1 = df_finalt[[\"M\",\"F\",\"Limit_bal\",\"Total_Credit_Cards\",\"Total_visits_bank\",\"Total_visits_online\",\"Total_calls_made\"]].copy()"
   ]
  },
  {
   "cell_type": "markdown",
   "metadata": {},
   "source": [
    "## 4.2.1 Hiperparametros"
   ]
  },
  {
   "cell_type": "code",
   "execution_count": 45,
   "metadata": {
    "scrolled": true
   },
   "outputs": [
    {
     "data": {
      "image/png": "[encoded data removed]",
      "text/plain": [
       "<Figure size 432x288 with 1 Axes>"
      ]
     },
     "metadata": {},
     "output_type": "display_data"
    }
   ],
   "source": [
    "# Esta función puede tardar varios minutos\n",
    "n_clusters = 2\n",
    "hac = AgglomerativeClustering(n_clusters=n_clusters)\n",
    "hac.fit(df_particular1)\n",
    "plot_silhouette(data = df_particular1, \n",
    "                labels = hac.labels_, \n",
    "                ylabel = f'Clustering with {n_clusters} clusters')"
   ]
  },
  {
   "cell_type": "code",
   "execution_count": 46,
   "metadata": {
    "scrolled": true
   },
   "outputs": [
    {
     "data": {
      "image/png": "[encoded data removed]",
      "text/plain": [
       "<Figure size 432x288 with 1 Axes>"
      ]
     },
     "metadata": {},
     "output_type": "display_data"
    }
   ],
   "source": [
    "# Esta función puede tardar varios minutos\n",
    "n_clusters = 3\n",
    "hac = AgglomerativeClustering(n_clusters=n_clusters)\n",
    "hac.fit(df_particular1)\n",
    "plot_silhouette(data = df_particular1, \n",
    "                labels = hac.labels_, \n",
    "                ylabel = f'Clustering with {n_clusters} clusters')"
   ]
  },
  {
   "cell_type": "code",
   "execution_count": 47,
   "metadata": {
    "scrolled": true
   },
   "outputs": [
    {
     "data": {
      "image/png": "[encoded data removed]",
      "text/plain": [
       "<Figure size 432x288 with 1 Axes>"
      ]
     },
     "metadata": {},
     "output_type": "display_data"
    }
   ],
   "source": [
    "# Esta función puede tardar varios minutos\n",
    "n_clusters = 4\n",
    "hac = AgglomerativeClustering(n_clusters=n_clusters)\n",
    "hac.fit(df_particular1)\n",
    "plot_silhouette(data = df_particular1, \n",
    "                labels = hac.labels_, \n",
    "                ylabel = f'Clustering with {n_clusters} clusters')"
   ]
  },
  {
   "cell_type": "code",
   "execution_count": 48,
   "metadata": {
    "scrolled": false
   },
   "outputs": [
    {
     "data": {
      "image/png": "[encoded data removed]",
      "text/plain": [
       "<Figure size 432x288 with 1 Axes>"
      ]
     },
     "metadata": {},
     "output_type": "display_data"
    }
   ],
   "source": [
    "# Esta función puede tardar varios minutos\n",
    "n_clusters = 5\n",
    "hac = AgglomerativeClustering(n_clusters=n_clusters)\n",
    "hac.fit(df_particular1)\n",
    "plot_silhouette(data = df_particular1, \n",
    "                labels = hac.labels_, \n",
    "                ylabel = f'Clustering with {n_clusters} clusters')"
   ]
  },
  {
   "cell_type": "markdown",
   "metadata": {},
   "source": [
    "Escogemos el agrupamiento con 3 clusteres porque es el que mayor coeficiente tiene y no tiene valores negativos"
   ]
  },
  {
   "cell_type": "markdown",
   "metadata": {},
   "source": [
    "## 4.2.2 Implementación"
   ]
  },
  {
   "cell_type": "code",
   "execution_count": 49,
   "metadata": {
    "scrolled": true
   },
   "outputs": [
    {
     "data": {
      "text/plain": [
       "AgglomerativeClustering()"
      ]
     },
     "execution_count": 49,
     "metadata": {},
     "output_type": "execute_result"
    }
   ],
   "source": [
    "n_clusters = 2\n",
    "hac = AgglomerativeClustering(n_clusters=n_clusters)\n",
    "hac.fit(df_particular1)"
   ]
  },
  {
   "cell_type": "markdown",
   "metadata": {},
   "source": [
    "Creamos dos dataframes nuevos donde se indica a que cluster pertenece cada elemento, uno con los valores normales y otro con los re-escalados."
   ]
  },
  {
   "cell_type": "code",
   "execution_count": 50,
   "metadata": {},
   "outputs": [],
   "source": [
    "df_pro1 = df_final[df_particular1.columns].copy()\n",
    "df_pro1['cluster'] = hac.labels_\n",
    "\n",
    "df_pro1_t = df_finalt[df_particular1.columns].copy()\n",
    "df_pro1_t['cluster'] = hac.labels_"
   ]
  },
  {
   "cell_type": "markdown",
   "metadata": {},
   "source": [
    "Creamos los prototipos para el dataframe con valores normales y para el de los valores re-escalados."
   ]
  },
  {
   "cell_type": "code",
   "execution_count": 51,
   "metadata": {
    "scrolled": true
   },
   "outputs": [
    {
     "data": {
      "text/html": [
       "<div>\n",
       "<style scoped>\n",
       "    .dataframe tbody tr th:only-of-type {\n",
       "        vertical-align: middle;\n",
       "    }\n",
       "\n",
       "    .dataframe tbody tr th {\n",
       "        vertical-align: top;\n",
       "    }\n",
       "\n",
       "    .dataframe thead th {\n",
       "        text-align: right;\n",
       "    }\n",
       "</style>\n",
       "<table border=\"1\" class=\"dataframe\">\n",
       "  <thead>\n",
       "    <tr style=\"text-align: right;\">\n",
       "      <th></th>\n",
       "      <th>M</th>\n",
       "      <th>F</th>\n",
       "      <th>Limit_bal</th>\n",
       "      <th>Total_Credit_Cards</th>\n",
       "      <th>Total_visits_bank</th>\n",
       "      <th>Total_visits_online</th>\n",
       "      <th>Total_calls_made</th>\n",
       "    </tr>\n",
       "    <tr>\n",
       "      <th>cluster</th>\n",
       "      <th></th>\n",
       "      <th></th>\n",
       "      <th></th>\n",
       "      <th></th>\n",
       "      <th></th>\n",
       "      <th></th>\n",
       "      <th></th>\n",
       "    </tr>\n",
       "  </thead>\n",
       "  <tbody>\n",
       "    <tr>\n",
       "      <th>0</th>\n",
       "      <td>0.0</td>\n",
       "      <td>0.997375</td>\n",
       "      <td>181548.556430</td>\n",
       "      <td>4.776903</td>\n",
       "      <td>2.451444</td>\n",
       "      <td>2.569554</td>\n",
       "      <td>3.475066</td>\n",
       "    </tr>\n",
       "    <tr>\n",
       "      <th>1</th>\n",
       "      <td>1.0</td>\n",
       "      <td>0.000000</td>\n",
       "      <td>154121.863799</td>\n",
       "      <td>4.637993</td>\n",
       "      <td>2.354839</td>\n",
       "      <td>2.645161</td>\n",
       "      <td>3.716846</td>\n",
       "    </tr>\n",
       "  </tbody>\n",
       "</table>\n",
       "</div>"
      ],
      "text/plain": [
       "           M         F      Limit_bal  Total_Credit_Cards  Total_visits_bank  \\\n",
       "cluster                                                                        \n",
       "0        0.0  0.997375  181548.556430            4.776903           2.451444   \n",
       "1        1.0  0.000000  154121.863799            4.637993           2.354839   \n",
       "\n",
       "         Total_visits_online  Total_calls_made  \n",
       "cluster                                         \n",
       "0                   2.569554          3.475066  \n",
       "1                   2.645161          3.716846  "
      ]
     },
     "execution_count": 51,
     "metadata": {},
     "output_type": "execute_result"
    }
   ],
   "source": [
    "df_pro1 = df_pro1.groupby(df_pro1['cluster']).mean()\n",
    "\n",
    "df_pro1_t = df_pro1_t.groupby(df_pro1_t['cluster']).mean()\n",
    "\n",
    "df_pro1"
   ]
  },
  {
   "cell_type": "markdown",
   "metadata": {},
   "source": [
    "Transponemos los prototipos en escala 0 a 1 para graficar"
   ]
  },
  {
   "cell_type": "code",
   "execution_count": 52,
   "metadata": {},
   "outputs": [],
   "source": [
    "df_pro1_t = df_pro1_t.transpose()\n",
    "df_pro1_t.reset_index(inplace=True)\n",
    "df_pro1_t.rename(columns=get_columns_names(df_pro1_t.columns), inplace=True)"
   ]
  },
  {
   "cell_type": "markdown",
   "metadata": {},
   "source": [
    "Graficamos"
   ]
  },
  {
   "cell_type": "code",
   "execution_count": 53,
   "metadata": {
    "scrolled": false
   },
   "outputs": [
    {
     "data": {
      "text/plain": [
       "<AxesSubplot:xlabel='value', ylabel='column'>"
      ]
     },
     "execution_count": 53,
     "metadata": {},
     "output_type": "execute_result"
    },
    {
     "data": {
      "image/png": "[encoded data removed]",
      "text/plain": [
       "<Figure size 576x576 with 1 Axes>"
      ]
     },
     "metadata": {},
     "output_type": "display_data"
    }
   ],
   "source": [
    "resp = []\n",
    "for i in range(1, n_clusters +1):\n",
    "    df1 = df_pro1_t[['column',i]].rename(columns = {i:'value'})\n",
    "    df1['cluster'] = i\n",
    "    resp.append(df1)\n",
    "\n",
    "df_plot = pd.concat(resp, ignore_index = True)\n",
    "\n",
    "\n",
    "fig = plt.figure(figsize=(8,8))\n",
    "sns.barplot(data = df_plot, y = 'column', x = 'value', hue = 'cluster', orient = 'h')"
   ]
  },
  {
   "cell_type": "markdown",
   "metadata": {},
   "source": [
    "Reconstruimos los prototipos con los valores originales"
   ]
  },
  {
   "cell_type": "markdown",
   "metadata": {},
   "source": [
    "## 4.2.3 Análisis"
   ]
  },
  {
   "cell_type": "markdown",
   "metadata": {},
   "source": [
    "No vamos a tener en cuenta en el análisis de clustering las variables \"M\" y \"F\" porque como se ve en el resultado encontramos que no hay diferencia en los patrones de comportamiento bancario entre los 2 generos."
   ]
  },
  {
   "cell_type": "markdown",
   "metadata": {},
   "source": [
    "## 4.3 Modelo con Age & Variables del negocio"
   ]
  },
  {
   "cell_type": "markdown",
   "metadata": {},
   "source": [
    "Separamos un df para este análisis"
   ]
  },
  {
   "cell_type": "code",
   "execution_count": 54,
   "metadata": {},
   "outputs": [],
   "source": [
    "df_particular2 = df_finalt[[\"Age\",\"Limit_bal\",\"Total_Credit_Cards\",\"Total_visits_bank\",\"Total_visits_online\",\"Total_calls_made\"]].copy()"
   ]
  },
  {
   "cell_type": "markdown",
   "metadata": {},
   "source": [
    "## 4.3.1 Hiperparametros"
   ]
  },
  {
   "cell_type": "code",
   "execution_count": 55,
   "metadata": {
    "scrolled": true
   },
   "outputs": [
    {
     "data": {
      "image/png": "[encoded data removed]",
      "text/plain": [
       "<Figure size 432x288 with 1 Axes>"
      ]
     },
     "metadata": {},
     "output_type": "display_data"
    }
   ],
   "source": [
    "# Esta función puede tardar varios minutos\n",
    "n_clusters = 2\n",
    "hac = AgglomerativeClustering(n_clusters=n_clusters)\n",
    "hac.fit(df_particular2)\n",
    "plot_silhouette(data = df_particular2, \n",
    "                labels = hac.labels_, \n",
    "                ylabel = f'Clustering with {n_clusters} clusters')"
   ]
  },
  {
   "cell_type": "code",
   "execution_count": 56,
   "metadata": {
    "scrolled": true
   },
   "outputs": [
    {
     "data": {
      "image/png": "[encoded data removed]",
      "text/plain": [
       "<Figure size 432x288 with 1 Axes>"
      ]
     },
     "metadata": {},
     "output_type": "display_data"
    }
   ],
   "source": [
    "# Esta función puede tardar varios minutos\n",
    "n_clusters = 3\n",
    "hac = AgglomerativeClustering(n_clusters=n_clusters)\n",
    "hac.fit(df_particular2)\n",
    "plot_silhouette(data = df_particular2, \n",
    "                labels = hac.labels_, \n",
    "                ylabel = f'Clustering with {n_clusters} clusters')"
   ]
  },
  {
   "cell_type": "code",
   "execution_count": 57,
   "metadata": {
    "scrolled": true
   },
   "outputs": [
    {
     "data": {
      "image/png": "[encoded data removed]",
      "text/plain": [
       "<Figure size 432x288 with 1 Axes>"
      ]
     },
     "metadata": {},
     "output_type": "display_data"
    }
   ],
   "source": [
    "# Esta función puede tardar varios minutos\n",
    "n_clusters = 4\n",
    "hac = AgglomerativeClustering(n_clusters=n_clusters)\n",
    "hac.fit(df_particular2)\n",
    "plot_silhouette(data = df_particular2, \n",
    "                labels = hac.labels_, \n",
    "                ylabel = f'Clustering with {n_clusters} clusters')"
   ]
  },
  {
   "cell_type": "code",
   "execution_count": 58,
   "metadata": {
    "scrolled": false
   },
   "outputs": [
    {
     "data": {
      "image/png": "[encoded data removed]",
      "text/plain": [
       "<Figure size 432x288 with 1 Axes>"
      ]
     },
     "metadata": {},
     "output_type": "display_data"
    }
   ],
   "source": [
    "# Esta función puede tardar varios minutos\n",
    "n_clusters = 5\n",
    "hac = AgglomerativeClustering(n_clusters=n_clusters)\n",
    "hac.fit(df_particular2)\n",
    "plot_silhouette(data = df_particular2, \n",
    "                labels = hac.labels_, \n",
    "                ylabel = f'Clustering with {n_clusters} clusters')"
   ]
  },
  {
   "cell_type": "markdown",
   "metadata": {},
   "source": [
    "Escogemos el agrupamiento con 3 clusteres porque es el que mayor coeficiente tiene y no tiene valores negativos"
   ]
  },
  {
   "cell_type": "markdown",
   "metadata": {},
   "source": [
    "## 4.3.2 Implementación"
   ]
  },
  {
   "cell_type": "code",
   "execution_count": 59,
   "metadata": {
    "scrolled": false
   },
   "outputs": [
    {
     "data": {
      "text/plain": [
       "AgglomerativeClustering(n_clusters=3)"
      ]
     },
     "execution_count": 59,
     "metadata": {},
     "output_type": "execute_result"
    }
   ],
   "source": [
    "n_clusters = 3\n",
    "hac = AgglomerativeClustering(n_clusters=n_clusters)\n",
    "hac.fit(df_particular2)"
   ]
  },
  {
   "cell_type": "markdown",
   "metadata": {},
   "source": [
    "Creamos dos dataframes nuevos donde se indica a que cluster pertenece cada elemento, uno con los valores normales y otro con los re-escalados."
   ]
  },
  {
   "cell_type": "code",
   "execution_count": 60,
   "metadata": {},
   "outputs": [],
   "source": [
    "df_pro2 = df_final[df_particular2.columns].copy()\n",
    "df_pro2['cluster'] = hac.labels_\n",
    "\n",
    "df_pro2_t = df_finalt[df_particular2.columns].copy()\n",
    "df_pro2_t['cluster'] = hac.labels_"
   ]
  },
  {
   "cell_type": "markdown",
   "metadata": {},
   "source": [
    "Creamos los prototipos para el dataframe con valores normales y para el de los valores re-escalados."
   ]
  },
  {
   "cell_type": "code",
   "execution_count": 61,
   "metadata": {
    "scrolled": true
   },
   "outputs": [
    {
     "data": {
      "text/html": [
       "<div>\n",
       "<style scoped>\n",
       "    .dataframe tbody tr th:only-of-type {\n",
       "        vertical-align: middle;\n",
       "    }\n",
       "\n",
       "    .dataframe tbody tr th {\n",
       "        vertical-align: top;\n",
       "    }\n",
       "\n",
       "    .dataframe thead th {\n",
       "        text-align: right;\n",
       "    }\n",
       "</style>\n",
       "<table border=\"1\" class=\"dataframe\">\n",
       "  <thead>\n",
       "    <tr style=\"text-align: right;\">\n",
       "      <th></th>\n",
       "      <th>Age</th>\n",
       "      <th>Limit_bal</th>\n",
       "      <th>Total_Credit_Cards</th>\n",
       "      <th>Total_visits_bank</th>\n",
       "      <th>Total_visits_online</th>\n",
       "      <th>Total_calls_made</th>\n",
       "    </tr>\n",
       "    <tr>\n",
       "      <th>cluster</th>\n",
       "      <th></th>\n",
       "      <th></th>\n",
       "      <th></th>\n",
       "      <th></th>\n",
       "      <th></th>\n",
       "      <th></th>\n",
       "    </tr>\n",
       "  </thead>\n",
       "  <tbody>\n",
       "    <tr>\n",
       "      <th>0</th>\n",
       "      <td>35.224227</td>\n",
       "      <td>170567.010309</td>\n",
       "      <td>5.515464</td>\n",
       "      <td>3.484536</td>\n",
       "      <td>0.994845</td>\n",
       "      <td>2.015464</td>\n",
       "    </tr>\n",
       "    <tr>\n",
       "      <th>1</th>\n",
       "      <td>34.675676</td>\n",
       "      <td>170990.990991</td>\n",
       "      <td>2.418919</td>\n",
       "      <td>0.941441</td>\n",
       "      <td>3.540541</td>\n",
       "      <td>6.869369</td>\n",
       "    </tr>\n",
       "    <tr>\n",
       "      <th>2</th>\n",
       "      <td>35.600000</td>\n",
       "      <td>160600.000000</td>\n",
       "      <td>8.740000</td>\n",
       "      <td>0.600000</td>\n",
       "      <td>10.900000</td>\n",
       "      <td>1.080000</td>\n",
       "    </tr>\n",
       "  </tbody>\n",
       "</table>\n",
       "</div>"
      ],
      "text/plain": [
       "               Age      Limit_bal  Total_Credit_Cards  Total_visits_bank  \\\n",
       "cluster                                                                    \n",
       "0        35.224227  170567.010309            5.515464           3.484536   \n",
       "1        34.675676  170990.990991            2.418919           0.941441   \n",
       "2        35.600000  160600.000000            8.740000           0.600000   \n",
       "\n",
       "         Total_visits_online  Total_calls_made  \n",
       "cluster                                         \n",
       "0                   0.994845          2.015464  \n",
       "1                   3.540541          6.869369  \n",
       "2                  10.900000          1.080000  "
      ]
     },
     "execution_count": 61,
     "metadata": {},
     "output_type": "execute_result"
    }
   ],
   "source": [
    "df_pro2 = df_pro2.groupby(df_pro2['cluster']).mean()\n",
    "\n",
    "df_pro2_t = df_pro2_t.groupby(df_pro2_t['cluster']).mean()\n",
    "\n",
    "df_pro2"
   ]
  },
  {
   "cell_type": "markdown",
   "metadata": {},
   "source": [
    "Transponemos los prototipos en escala 0 a 1 para graficar"
   ]
  },
  {
   "cell_type": "code",
   "execution_count": 62,
   "metadata": {
    "scrolled": true
   },
   "outputs": [],
   "source": [
    "df_pro2_t = df_pro2_t.transpose()\n",
    "df_pro2_t.reset_index(inplace=True)\n",
    "df_pro2_t.rename(columns=get_columns_names(df_pro2_t.columns), inplace=True)"
   ]
  },
  {
   "cell_type": "markdown",
   "metadata": {},
   "source": [
    "Graficamos"
   ]
  },
  {
   "cell_type": "code",
   "execution_count": 63,
   "metadata": {
    "scrolled": false
   },
   "outputs": [
    {
     "data": {
      "text/plain": [
       "<AxesSubplot:xlabel='value', ylabel='column'>"
      ]
     },
     "execution_count": 63,
     "metadata": {},
     "output_type": "execute_result"
    },
    {
     "data": {
      "image/png": "[encoded data removed]",
      "text/plain": [
       "<Figure size 576x576 with 1 Axes>"
      ]
     },
     "metadata": {},
     "output_type": "display_data"
    }
   ],
   "source": [
    "resp = []\n",
    "for i in range(1, n_clusters +1):\n",
    "    df1 = df_pro2_t[['column',i]].rename(columns = {i:'value'})\n",
    "    df1['cluster'] = i\n",
    "    resp.append(df1)\n",
    "\n",
    "df_plot = pd.concat(resp, ignore_index = True)\n",
    "\n",
    "\n",
    "fig = plt.figure(figsize=(8,8))\n",
    "sns.barplot(data = df_plot, y = 'column', x = 'value', hue = 'cluster', orient = 'h')"
   ]
  },
  {
   "cell_type": "markdown",
   "metadata": {},
   "source": [
    "## 4.3.3 Análisis"
   ]
  },
  {
   "cell_type": "markdown",
   "metadata": {},
   "source": [
    "No vamos a tener en cuenta en el análisis de clustering la variable \"Age\" porque como se ve en el resultado encontramos que no hay diferencia en los patrones de comportamiento bancario entre los 2 generos."
   ]
  },
  {
   "cell_type": "markdown",
   "metadata": {},
   "source": [
    "## 4.4 Modelo con Estados Civiles & Variables del negocio"
   ]
  },
  {
   "cell_type": "markdown",
   "metadata": {},
   "source": [
    "Separamos un df para este análisis"
   ]
  },
  {
   "cell_type": "code",
   "execution_count": 64,
   "metadata": {},
   "outputs": [],
   "source": [
    "df_particular3 = df_finalt[[\"Married\",\"Not_Married_Not_Single\",\"Single\",\"Limit_bal\",\"Total_Credit_Cards\",\"Total_visits_bank\",\"Total_visits_online\",\"Total_calls_made\"]].copy()"
   ]
  },
  {
   "cell_type": "markdown",
   "metadata": {},
   "source": [
    "## 4.4.1 Hiperparametros"
   ]
  },
  {
   "cell_type": "code",
   "execution_count": 65,
   "metadata": {
    "scrolled": true
   },
   "outputs": [
    {
     "data": {
      "image/png": "[encoded data removed]",
      "text/plain": [
       "<Figure size 432x288 with 1 Axes>"
      ]
     },
     "metadata": {},
     "output_type": "display_data"
    }
   ],
   "source": [
    "# Esta función puede tardar varios minutos\n",
    "n_clusters = 2\n",
    "hac = AgglomerativeClustering(n_clusters=n_clusters)\n",
    "hac.fit(df_particular3)\n",
    "plot_silhouette(data = df_particular3, \n",
    "                labels = hac.labels_, \n",
    "                ylabel = f'Clustering with {n_clusters} clusters')"
   ]
  },
  {
   "cell_type": "code",
   "execution_count": 66,
   "metadata": {
    "scrolled": true
   },
   "outputs": [
    {
     "data": {
      "image/png": "[encoded data removed]",
      "text/plain": [
       "<Figure size 432x288 with 1 Axes>"
      ]
     },
     "metadata": {},
     "output_type": "display_data"
    }
   ],
   "source": [
    "# Esta función puede tardar varios minutos\n",
    "n_clusters = 3\n",
    "hac = AgglomerativeClustering(n_clusters=n_clusters)\n",
    "hac.fit(df_particular3)\n",
    "plot_silhouette(data = df_particular3, \n",
    "                labels = hac.labels_, \n",
    "                ylabel = f'Clustering with {n_clusters} clusters')"
   ]
  },
  {
   "cell_type": "code",
   "execution_count": 67,
   "metadata": {
    "scrolled": true
   },
   "outputs": [
    {
     "data": {
      "image/png": "[encoded data removed]",
      "text/plain": [
       "<Figure size 432x288 with 1 Axes>"
      ]
     },
     "metadata": {},
     "output_type": "display_data"
    }
   ],
   "source": [
    "# Esta función puede tardar varios minutos\n",
    "n_clusters = 4\n",
    "hac = AgglomerativeClustering(n_clusters=n_clusters)\n",
    "hac.fit(df_particular3)\n",
    "plot_silhouette(data = df_particular3, \n",
    "                labels = hac.labels_, \n",
    "                ylabel = f'Clustering with {n_clusters} clusters')"
   ]
  },
  {
   "cell_type": "code",
   "execution_count": 68,
   "metadata": {
    "scrolled": false
   },
   "outputs": [
    {
     "data": {
      "image/png": "[encoded data removed]",
      "text/plain": [
       "<Figure size 432x288 with 1 Axes>"
      ]
     },
     "metadata": {},
     "output_type": "display_data"
    }
   ],
   "source": [
    "# Esta función puede tardar varios minutos\n",
    "n_clusters = 5\n",
    "hac = AgglomerativeClustering(n_clusters=n_clusters)\n",
    "hac.fit(df_particular3)\n",
    "plot_silhouette(data = df_particular3, \n",
    "                labels = hac.labels_, \n",
    "                ylabel = f'Clustering with {n_clusters} clusters')"
   ]
  },
  {
   "cell_type": "markdown",
   "metadata": {},
   "source": [
    "Escogemos el agrupamiento con 3 clusteres porque es el que mayor coeficiente tiene y no tiene valores negativos"
   ]
  },
  {
   "cell_type": "markdown",
   "metadata": {},
   "source": [
    "## 4.4.2 Implementación"
   ]
  },
  {
   "cell_type": "code",
   "execution_count": 69,
   "metadata": {
    "scrolled": true
   },
   "outputs": [
    {
     "data": {
      "text/plain": [
       "AgglomerativeClustering()"
      ]
     },
     "execution_count": 69,
     "metadata": {},
     "output_type": "execute_result"
    }
   ],
   "source": [
    "# Esta función puede tardar varios minutos\n",
    "n_clusters = 2\n",
    "hac = AgglomerativeClustering(n_clusters=n_clusters)\n",
    "hac.fit(df_particular3)"
   ]
  },
  {
   "cell_type": "markdown",
   "metadata": {},
   "source": [
    "Creamos dos dataframes nuevos donde se indica a que cluster pertenece cada elemento, uno con los valores normales y otro con los re-escalados."
   ]
  },
  {
   "cell_type": "code",
   "execution_count": 70,
   "metadata": {},
   "outputs": [],
   "source": [
    "df_pro3 = df_final[df_particular3.columns].copy()\n",
    "df_pro3['cluster'] = hac.labels_\n",
    "\n",
    "df_pro3_t = df_finalt[df_particular3.columns].copy()\n",
    "df_pro3_t['cluster'] = hac.labels_"
   ]
  },
  {
   "cell_type": "markdown",
   "metadata": {},
   "source": [
    "Creamos los prototipos para el dataframe con valores normales y para el de los valores re-escalados."
   ]
  },
  {
   "cell_type": "code",
   "execution_count": 71,
   "metadata": {
    "scrolled": true
   },
   "outputs": [
    {
     "data": {
      "text/html": [
       "<div>\n",
       "<style scoped>\n",
       "    .dataframe tbody tr th:only-of-type {\n",
       "        vertical-align: middle;\n",
       "    }\n",
       "\n",
       "    .dataframe tbody tr th {\n",
       "        vertical-align: top;\n",
       "    }\n",
       "\n",
       "    .dataframe thead th {\n",
       "        text-align: right;\n",
       "    }\n",
       "</style>\n",
       "<table border=\"1\" class=\"dataframe\">\n",
       "  <thead>\n",
       "    <tr style=\"text-align: right;\">\n",
       "      <th></th>\n",
       "      <th>Married</th>\n",
       "      <th>Not_Married_Not_Single</th>\n",
       "      <th>Single</th>\n",
       "      <th>Limit_bal</th>\n",
       "      <th>Total_Credit_Cards</th>\n",
       "      <th>Total_visits_bank</th>\n",
       "      <th>Total_visits_online</th>\n",
       "      <th>Total_calls_made</th>\n",
       "    </tr>\n",
       "    <tr>\n",
       "      <th>cluster</th>\n",
       "      <th></th>\n",
       "      <th></th>\n",
       "      <th></th>\n",
       "      <th></th>\n",
       "      <th></th>\n",
       "      <th></th>\n",
       "      <th></th>\n",
       "      <th></th>\n",
       "    </tr>\n",
       "  </thead>\n",
       "  <tbody>\n",
       "    <tr>\n",
       "      <th>0</th>\n",
       "      <td>0.000000</td>\n",
       "      <td>0.000000</td>\n",
       "      <td>1.0</td>\n",
       "      <td>152321.899736</td>\n",
       "      <td>4.707124</td>\n",
       "      <td>2.424802</td>\n",
       "      <td>2.559367</td>\n",
       "      <td>3.693931</td>\n",
       "    </tr>\n",
       "    <tr>\n",
       "      <th>1</th>\n",
       "      <td>0.925267</td>\n",
       "      <td>0.064057</td>\n",
       "      <td>0.0</td>\n",
       "      <td>193736.654804</td>\n",
       "      <td>4.733096</td>\n",
       "      <td>2.391459</td>\n",
       "      <td>2.658363</td>\n",
       "      <td>3.419929</td>\n",
       "    </tr>\n",
       "  </tbody>\n",
       "</table>\n",
       "</div>"
      ],
      "text/plain": [
       "          Married  Not_Married_Not_Single  Single      Limit_bal  \\\n",
       "cluster                                                            \n",
       "0        0.000000                0.000000     1.0  152321.899736   \n",
       "1        0.925267                0.064057     0.0  193736.654804   \n",
       "\n",
       "         Total_Credit_Cards  Total_visits_bank  Total_visits_online  \\\n",
       "cluster                                                               \n",
       "0                  4.707124           2.424802             2.559367   \n",
       "1                  4.733096           2.391459             2.658363   \n",
       "\n",
       "         Total_calls_made  \n",
       "cluster                    \n",
       "0                3.693931  \n",
       "1                3.419929  "
      ]
     },
     "execution_count": 71,
     "metadata": {},
     "output_type": "execute_result"
    }
   ],
   "source": [
    "df_pro3 = df_pro3.groupby(df_pro3['cluster']).mean()\n",
    "\n",
    "df_pro3_t = df_pro3_t.groupby(df_pro3_t['cluster']).mean()\n",
    "\n",
    "df_pro3"
   ]
  },
  {
   "cell_type": "markdown",
   "metadata": {},
   "source": [
    "Transponemos los prototipos en escala 0 a 1 para graficar"
   ]
  },
  {
   "cell_type": "code",
   "execution_count": 72,
   "metadata": {},
   "outputs": [],
   "source": [
    "df_pro3_t = df_pro3_t.transpose()\n",
    "df_pro3_t.reset_index(inplace=True)\n",
    "df_pro3_t.rename(columns=get_columns_names(df_pro3_t.columns), inplace=True)"
   ]
  },
  {
   "cell_type": "markdown",
   "metadata": {},
   "source": [
    "Graficamos"
   ]
  },
  {
   "cell_type": "code",
   "execution_count": 73,
   "metadata": {
    "scrolled": false
   },
   "outputs": [
    {
     "data": {
      "text/plain": [
       "<AxesSubplot:xlabel='value', ylabel='column'>"
      ]
     },
     "execution_count": 73,
     "metadata": {},
     "output_type": "execute_result"
    },
    {
     "data": {
      "image/png": "[encoded data removed]",
      "text/plain": [
       "<Figure size 576x576 with 1 Axes>"
      ]
     },
     "metadata": {},
     "output_type": "display_data"
    }
   ],
   "source": [
    "resp = []\n",
    "for i in range(1, n_clusters +1):\n",
    "    df1 = df_pro3_t[['column',i]].rename(columns = {i:'value'})\n",
    "    df1['cluster'] = i\n",
    "    resp.append(df1)\n",
    "\n",
    "df_plot = pd.concat(resp, ignore_index = True)\n",
    "\n",
    "\n",
    "fig = plt.figure(figsize=(8,8))\n",
    "sns.barplot(data = df_plot, y = 'column', x = 'value', hue = 'cluster', orient = 'h')"
   ]
  },
  {
   "cell_type": "markdown",
   "metadata": {},
   "source": [
    "## 4.4.3 Análisis"
   ]
  },
  {
   "cell_type": "markdown",
   "metadata": {},
   "source": [
    "No vamos a tener en cuenta en el análisis de clustering la variable \"Married\", \"Not_Married_Not_Single\", \"Single\" porque como se ve en el resultado encontramos que no hay diferencia en los patrones de comportamiento bancario entre los 2 generos."
   ]
  },
  {
   "cell_type": "markdown",
   "metadata": {},
   "source": [
    "## 4.5 Modelo con Educación & Variables del negocio"
   ]
  },
  {
   "cell_type": "markdown",
   "metadata": {},
   "source": [
    "Separamos un df para este análisis"
   ]
  },
  {
   "cell_type": "code",
   "execution_count": 74,
   "metadata": {},
   "outputs": [],
   "source": [
    "df_particular4 = df_finalt[[\"graduate school\", \"high school\",\"others\",\"university\",\"unknown\",\"Limit_bal\",\"Total_Credit_Cards\",\"Total_visits_bank\",\"Total_visits_online\",\"Total_calls_made\"]].copy()"
   ]
  },
  {
   "cell_type": "markdown",
   "metadata": {},
   "source": [
    "## 4.5.1 Hiperparametros"
   ]
  },
  {
   "cell_type": "code",
   "execution_count": 75,
   "metadata": {
    "scrolled": true
   },
   "outputs": [
    {
     "data": {
      "image/png": "[encoded data removed]",
      "text/plain": [
       "<Figure size 432x288 with 1 Axes>"
      ]
     },
     "metadata": {},
     "output_type": "display_data"
    }
   ],
   "source": [
    "# Esta función puede tardar varios minutos\n",
    "n_clusters = 2\n",
    "hac = AgglomerativeClustering(n_clusters=n_clusters)\n",
    "hac.fit(df_particular4)\n",
    "plot_silhouette(data = df_particular4, \n",
    "                labels = hac.labels_, \n",
    "                ylabel = f'Clustering with {n_clusters} clusters')"
   ]
  },
  {
   "cell_type": "code",
   "execution_count": 76,
   "metadata": {
    "scrolled": true
   },
   "outputs": [
    {
     "data": {
      "image/png": "[encoded data removed]",
      "text/plain": [
       "<Figure size 432x288 with 1 Axes>"
      ]
     },
     "metadata": {},
     "output_type": "display_data"
    }
   ],
   "source": [
    "# Esta función puede tardar varios minutos\n",
    "n_clusters = 3\n",
    "hac = AgglomerativeClustering(n_clusters=n_clusters)\n",
    "hac.fit(df_particular4)\n",
    "plot_silhouette(data = df_particular4, \n",
    "                labels = hac.labels_, \n",
    "                ylabel = f'Clustering with {n_clusters} clusters')"
   ]
  },
  {
   "cell_type": "code",
   "execution_count": 77,
   "metadata": {
    "scrolled": true
   },
   "outputs": [
    {
     "data": {
      "image/png": "[encoded data removed]",
      "text/plain": [
       "<Figure size 432x288 with 1 Axes>"
      ]
     },
     "metadata": {},
     "output_type": "display_data"
    }
   ],
   "source": [
    "# Esta función puede tardar varios minutos\n",
    "n_clusters = 4\n",
    "hac = AgglomerativeClustering(n_clusters=n_clusters)\n",
    "hac.fit(df_particular4)\n",
    "plot_silhouette(data = df_particular4, \n",
    "                labels = hac.labels_, \n",
    "                ylabel = f'Clustering with {n_clusters} clusters')"
   ]
  },
  {
   "cell_type": "code",
   "execution_count": 78,
   "metadata": {
    "scrolled": false
   },
   "outputs": [
    {
     "data": {
      "image/png": "[encoded data removed]",
      "text/plain": [
       "<Figure size 432x288 with 1 Axes>"
      ]
     },
     "metadata": {},
     "output_type": "display_data"
    }
   ],
   "source": [
    "# Esta función puede tardar varios minutos\n",
    "n_clusters = 5\n",
    "hac = AgglomerativeClustering(n_clusters=n_clusters)\n",
    "hac.fit(df_particular4)\n",
    "plot_silhouette(data = df_particular4, \n",
    "                labels = hac.labels_, \n",
    "                ylabel = f'Clustering with {n_clusters} clusters')"
   ]
  },
  {
   "cell_type": "markdown",
   "metadata": {},
   "source": [
    "Escogemos el agrupamiento con 3 clusteres porque es el que mayor coeficiente tiene y no tiene valores negativos"
   ]
  },
  {
   "cell_type": "markdown",
   "metadata": {},
   "source": [
    "## 4.5.2 Implementación"
   ]
  },
  {
   "cell_type": "code",
   "execution_count": 79,
   "metadata": {
    "scrolled": true
   },
   "outputs": [
    {
     "data": {
      "text/plain": [
       "AgglomerativeClustering(n_clusters=3)"
      ]
     },
     "execution_count": 79,
     "metadata": {},
     "output_type": "execute_result"
    }
   ],
   "source": [
    "n_clusters = 3\n",
    "hac = AgglomerativeClustering(n_clusters=n_clusters)\n",
    "hac.fit(df_particular4)"
   ]
  },
  {
   "cell_type": "markdown",
   "metadata": {},
   "source": [
    "Creamos dos dataframes nuevos donde se indica a que cluster pertenece cada elemento, uno con los valores normales y otro con los re-escalados."
   ]
  },
  {
   "cell_type": "code",
   "execution_count": 80,
   "metadata": {},
   "outputs": [],
   "source": [
    "df_pro4 = df_final[df_particular4.columns].copy()\n",
    "df_pro4['cluster'] = hac.labels_\n",
    "\n",
    "df_pro4_t = df_finalt[df_particular4.columns].copy()\n",
    "df_pro4_t['cluster'] = hac.labels_"
   ]
  },
  {
   "cell_type": "markdown",
   "metadata": {},
   "source": [
    "Creamos los prototipos para el dataframe con valores normales y para el de los valores re-escalados."
   ]
  },
  {
   "cell_type": "code",
   "execution_count": 81,
   "metadata": {
    "scrolled": true
   },
   "outputs": [
    {
     "data": {
      "text/html": [
       "<div>\n",
       "<style scoped>\n",
       "    .dataframe tbody tr th:only-of-type {\n",
       "        vertical-align: middle;\n",
       "    }\n",
       "\n",
       "    .dataframe tbody tr th {\n",
       "        vertical-align: top;\n",
       "    }\n",
       "\n",
       "    .dataframe thead th {\n",
       "        text-align: right;\n",
       "    }\n",
       "</style>\n",
       "<table border=\"1\" class=\"dataframe\">\n",
       "  <thead>\n",
       "    <tr style=\"text-align: right;\">\n",
       "      <th></th>\n",
       "      <th>graduate school</th>\n",
       "      <th>high school</th>\n",
       "      <th>others</th>\n",
       "      <th>university</th>\n",
       "      <th>unknown</th>\n",
       "      <th>Limit_bal</th>\n",
       "      <th>Total_Credit_Cards</th>\n",
       "      <th>Total_visits_bank</th>\n",
       "      <th>Total_visits_online</th>\n",
       "      <th>Total_calls_made</th>\n",
       "    </tr>\n",
       "    <tr>\n",
       "      <th>cluster</th>\n",
       "      <th></th>\n",
       "      <th></th>\n",
       "      <th></th>\n",
       "      <th></th>\n",
       "      <th></th>\n",
       "      <th></th>\n",
       "      <th></th>\n",
       "      <th></th>\n",
       "      <th></th>\n",
       "      <th></th>\n",
       "    </tr>\n",
       "  </thead>\n",
       "  <tbody>\n",
       "    <tr>\n",
       "      <th>0</th>\n",
       "      <td>1.0</td>\n",
       "      <td>0.000000</td>\n",
       "      <td>0.000000</td>\n",
       "      <td>0.0</td>\n",
       "      <td>0.000000</td>\n",
       "      <td>198977.272727</td>\n",
       "      <td>4.628788</td>\n",
       "      <td>2.435606</td>\n",
       "      <td>2.386364</td>\n",
       "      <td>3.738636</td>\n",
       "    </tr>\n",
       "    <tr>\n",
       "      <th>1</th>\n",
       "      <td>0.0</td>\n",
       "      <td>0.000000</td>\n",
       "      <td>0.000000</td>\n",
       "      <td>1.0</td>\n",
       "      <td>0.000000</td>\n",
       "      <td>158125.000000</td>\n",
       "      <td>4.868056</td>\n",
       "      <td>2.461806</td>\n",
       "      <td>2.618056</td>\n",
       "      <td>3.281250</td>\n",
       "    </tr>\n",
       "    <tr>\n",
       "      <th>2</th>\n",
       "      <td>0.0</td>\n",
       "      <td>0.916667</td>\n",
       "      <td>0.018519</td>\n",
       "      <td>0.0</td>\n",
       "      <td>0.064815</td>\n",
       "      <td>130555.555556</td>\n",
       "      <td>4.537037</td>\n",
       "      <td>2.212963</td>\n",
       "      <td>3.083333</td>\n",
       "      <td>3.972222</td>\n",
       "    </tr>\n",
       "  </tbody>\n",
       "</table>\n",
       "</div>"
      ],
      "text/plain": [
       "         graduate school  high school    others  university   unknown  \\\n",
       "cluster                                                                 \n",
       "0                    1.0     0.000000  0.000000         0.0  0.000000   \n",
       "1                    0.0     0.000000  0.000000         1.0  0.000000   \n",
       "2                    0.0     0.916667  0.018519         0.0  0.064815   \n",
       "\n",
       "             Limit_bal  Total_Credit_Cards  Total_visits_bank  \\\n",
       "cluster                                                         \n",
       "0        198977.272727            4.628788           2.435606   \n",
       "1        158125.000000            4.868056           2.461806   \n",
       "2        130555.555556            4.537037           2.212963   \n",
       "\n",
       "         Total_visits_online  Total_calls_made  \n",
       "cluster                                         \n",
       "0                   2.386364          3.738636  \n",
       "1                   2.618056          3.281250  \n",
       "2                   3.083333          3.972222  "
      ]
     },
     "execution_count": 81,
     "metadata": {},
     "output_type": "execute_result"
    }
   ],
   "source": [
    "df_pro4 = df_pro4.groupby(df_pro4['cluster']).mean()\n",
    "\n",
    "df_pro4_t = df_pro4_t.groupby(df_pro4_t['cluster']).mean()\n",
    "\n",
    "df_pro4"
   ]
  },
  {
   "cell_type": "markdown",
   "metadata": {},
   "source": [
    "Transponemos los prototipos en escala 0 a 1 para graficar"
   ]
  },
  {
   "cell_type": "code",
   "execution_count": 82,
   "metadata": {},
   "outputs": [],
   "source": [
    "df_pro4_t = df_pro4_t.transpose()\n",
    "df_pro4_t.reset_index(inplace=True)\n",
    "df_pro4_t.rename(columns=get_columns_names(df_pro4_t.columns), inplace=True)"
   ]
  },
  {
   "cell_type": "markdown",
   "metadata": {},
   "source": [
    "Graficamos"
   ]
  },
  {
   "cell_type": "code",
   "execution_count": 83,
   "metadata": {
    "scrolled": false
   },
   "outputs": [
    {
     "data": {
      "text/plain": [
       "<AxesSubplot:xlabel='value', ylabel='column'>"
      ]
     },
     "execution_count": 83,
     "metadata": {},
     "output_type": "execute_result"
    },
    {
     "data": {
      "image/png": "[encoded data removed]",
      "text/plain": [
       "<Figure size 576x576 with 1 Axes>"
      ]
     },
     "metadata": {},
     "output_type": "display_data"
    }
   ],
   "source": [
    "resp = []\n",
    "for i in range(1, n_clusters +1):\n",
    "    df1 = df_pro4_t[['column',i]].rename(columns = {i:'value'})\n",
    "    df1['cluster'] = i\n",
    "    resp.append(df1)\n",
    "\n",
    "df_plot = pd.concat(resp, ignore_index = True)\n",
    "\n",
    "\n",
    "fig = plt.figure(figsize=(8,8))\n",
    "sns.barplot(data = df_plot, y = 'column', x = 'value', hue = 'cluster', orient = 'h')"
   ]
  },
  {
   "cell_type": "markdown",
   "metadata": {},
   "source": [
    "## 4.5.3 Análisis"
   ]
  },
  {
   "cell_type": "markdown",
   "metadata": {},
   "source": [
    "Se tendrán en cuenta los niveles educativos porque muestran cambios importantes el el comportamiento de negocio."
   ]
  },
  {
   "cell_type": "markdown",
   "metadata": {},
   "source": [
    "## 4.6 Modelo con Variables del negocio"
   ]
  },
  {
   "cell_type": "markdown",
   "metadata": {},
   "source": [
    "Separamos un df para este análisis"
   ]
  },
  {
   "cell_type": "code",
   "execution_count": 84,
   "metadata": {},
   "outputs": [],
   "source": [
    "df_particular5 = df_finalt[[\"Limit_bal\",\"Total_Credit_Cards\",\"Total_visits_bank\",\"Total_visits_online\",\"Total_calls_made\"]].copy()"
   ]
  },
  {
   "cell_type": "markdown",
   "metadata": {},
   "source": [
    "## 4.6.1 Hiperparametros"
   ]
  },
  {
   "cell_type": "code",
   "execution_count": 85,
   "metadata": {
    "scrolled": true
   },
   "outputs": [
    {
     "data": {
      "image/png": "[encoded data removed]",
      "text/plain": [
       "<Figure size 432x288 with 1 Axes>"
      ]
     },
     "metadata": {},
     "output_type": "display_data"
    }
   ],
   "source": [
    "# Esta función puede tardar varios minutos\n",
    "n_clusters = 2\n",
    "hac = AgglomerativeClustering(n_clusters=n_clusters)\n",
    "hac.fit(df_particular5)\n",
    "plot_silhouette(data = df_particular5, \n",
    "                labels = hac.labels_, \n",
    "                ylabel = f'Clustering with {n_clusters} clusters')"
   ]
  },
  {
   "cell_type": "code",
   "execution_count": 86,
   "metadata": {
    "scrolled": false
   },
   "outputs": [
    {
     "data": {
      "image/png": "[encoded data removed]",
      "text/plain": [
       "<Figure size 432x288 with 1 Axes>"
      ]
     },
     "metadata": {},
     "output_type": "display_data"
    }
   ],
   "source": [
    "# Esta función puede tardar varios minutos\n",
    "n_clusters = 3\n",
    "hac = AgglomerativeClustering(n_clusters=n_clusters)\n",
    "hac.fit(df_particular5)\n",
    "plot_silhouette(data = df_particular5, \n",
    "                labels = hac.labels_, \n",
    "                ylabel = f'Clustering with {n_clusters} clusters')"
   ]
  },
  {
   "cell_type": "code",
   "execution_count": 87,
   "metadata": {
    "scrolled": true
   },
   "outputs": [
    {
     "data": {
      "image/png": "[encoded data removed]",
      "text/plain": [
       "<Figure size 432x288 with 1 Axes>"
      ]
     },
     "metadata": {},
     "output_type": "display_data"
    }
   ],
   "source": [
    "# Esta función puede tardar varios minutos\n",
    "n_clusters = 4\n",
    "hac = AgglomerativeClustering(n_clusters=n_clusters)\n",
    "hac.fit(df_particular5)\n",
    "plot_silhouette(data = df_particular5, \n",
    "                labels = hac.labels_, \n",
    "                ylabel = f'Clustering with {n_clusters} clusters')"
   ]
  },
  {
   "cell_type": "code",
   "execution_count": 88,
   "metadata": {
    "scrolled": true
   },
   "outputs": [
    {
     "data": {
      "image/png": "[encoded data removed]",
      "text/plain": [
       "<Figure size 432x288 with 1 Axes>"
      ]
     },
     "metadata": {},
     "output_type": "display_data"
    }
   ],
   "source": [
    "# Esta función puede tardar varios minutos\n",
    "n_clusters = 5\n",
    "hac = AgglomerativeClustering(n_clusters=n_clusters)\n",
    "hac.fit(df_particular5)\n",
    "plot_silhouette(data = df_particular5, \n",
    "                labels = hac.labels_, \n",
    "                ylabel = f'Clustering with {n_clusters} clusters')"
   ]
  },
  {
   "cell_type": "markdown",
   "metadata": {},
   "source": [
    "Escogemos el agrupamiento con 3 clusteres porque es el que mayor coeficiente tiene y no tiene valores negativos"
   ]
  },
  {
   "cell_type": "markdown",
   "metadata": {},
   "source": [
    "## 4.6.2 Implementación"
   ]
  },
  {
   "cell_type": "code",
   "execution_count": 89,
   "metadata": {
    "scrolled": true
   },
   "outputs": [
    {
     "data": {
      "text/plain": [
       "AgglomerativeClustering(n_clusters=3)"
      ]
     },
     "execution_count": 89,
     "metadata": {},
     "output_type": "execute_result"
    }
   ],
   "source": [
    "n_clusters = 3\n",
    "hac = AgglomerativeClustering(n_clusters=n_clusters)\n",
    "hac.fit(df_particular5)"
   ]
  },
  {
   "cell_type": "markdown",
   "metadata": {},
   "source": [
    "Creamos dos dataframes nuevos donde se indica a que cluster pertenece cada elemento, uno con los valores normales y otro con los re-escalados."
   ]
  },
  {
   "cell_type": "code",
   "execution_count": 90,
   "metadata": {},
   "outputs": [],
   "source": [
    "df_pro5 = df_final[df_particular5.columns].copy()\n",
    "df_pro5['cluster'] = hac.labels_\n",
    "\n",
    "df_pro5_t = df_finalt[df_particular5.columns].copy()\n",
    "df_pro5_t['cluster'] = hac.labels_"
   ]
  },
  {
   "cell_type": "markdown",
   "metadata": {},
   "source": [
    "Creamos los prototipos para el dataframe con valores normales y para el de los valores re-escalados."
   ]
  },
  {
   "cell_type": "code",
   "execution_count": 91,
   "metadata": {
    "scrolled": true
   },
   "outputs": [
    {
     "data": {
      "text/html": [
       "<div>\n",
       "<style scoped>\n",
       "    .dataframe tbody tr th:only-of-type {\n",
       "        vertical-align: middle;\n",
       "    }\n",
       "\n",
       "    .dataframe tbody tr th {\n",
       "        vertical-align: top;\n",
       "    }\n",
       "\n",
       "    .dataframe thead th {\n",
       "        text-align: right;\n",
       "    }\n",
       "</style>\n",
       "<table border=\"1\" class=\"dataframe\">\n",
       "  <thead>\n",
       "    <tr style=\"text-align: right;\">\n",
       "      <th></th>\n",
       "      <th>Limit_bal</th>\n",
       "      <th>Total_Credit_Cards</th>\n",
       "      <th>Total_visits_bank</th>\n",
       "      <th>Total_visits_online</th>\n",
       "      <th>Total_calls_made</th>\n",
       "    </tr>\n",
       "    <tr>\n",
       "      <th>cluster</th>\n",
       "      <th></th>\n",
       "      <th></th>\n",
       "      <th></th>\n",
       "      <th></th>\n",
       "      <th></th>\n",
       "    </tr>\n",
       "  </thead>\n",
       "  <tbody>\n",
       "    <tr>\n",
       "      <th>0</th>\n",
       "      <td>170154.241645</td>\n",
       "      <td>5.511568</td>\n",
       "      <td>3.480720</td>\n",
       "      <td>1.000000</td>\n",
       "      <td>2.020566</td>\n",
       "    </tr>\n",
       "    <tr>\n",
       "      <th>1</th>\n",
       "      <td>171719.457014</td>\n",
       "      <td>2.411765</td>\n",
       "      <td>0.936652</td>\n",
       "      <td>3.542986</td>\n",
       "      <td>6.882353</td>\n",
       "    </tr>\n",
       "    <tr>\n",
       "      <th>2</th>\n",
       "      <td>160600.000000</td>\n",
       "      <td>8.740000</td>\n",
       "      <td>0.600000</td>\n",
       "      <td>10.900000</td>\n",
       "      <td>1.080000</td>\n",
       "    </tr>\n",
       "  </tbody>\n",
       "</table>\n",
       "</div>"
      ],
      "text/plain": [
       "             Limit_bal  Total_Credit_Cards  Total_visits_bank  \\\n",
       "cluster                                                         \n",
       "0        170154.241645            5.511568           3.480720   \n",
       "1        171719.457014            2.411765           0.936652   \n",
       "2        160600.000000            8.740000           0.600000   \n",
       "\n",
       "         Total_visits_online  Total_calls_made  \n",
       "cluster                                         \n",
       "0                   1.000000          2.020566  \n",
       "1                   3.542986          6.882353  \n",
       "2                  10.900000          1.080000  "
      ]
     },
     "execution_count": 91,
     "metadata": {},
     "output_type": "execute_result"
    }
   ],
   "source": [
    "df_pro5 = df_pro5.groupby(df_pro5['cluster']).mean()\n",
    "\n",
    "df_pro5_t = df_pro5_t.groupby(df_pro5_t['cluster']).mean()\n",
    "\n",
    "df_pro5"
   ]
  },
  {
   "cell_type": "markdown",
   "metadata": {},
   "source": [
    "Transponemos los prototipos en escala 0 a 1 para graficar"
   ]
  },
  {
   "cell_type": "code",
   "execution_count": 92,
   "metadata": {},
   "outputs": [],
   "source": [
    "df_pro5_t = df_pro5_t.transpose()\n",
    "df_pro5_t.reset_index(inplace=True)\n",
    "df_pro5_t.rename(columns=get_columns_names(df_pro5_t.columns), inplace=True)"
   ]
  },
  {
   "cell_type": "markdown",
   "metadata": {},
   "source": [
    "Graficamos"
   ]
  },
  {
   "cell_type": "code",
   "execution_count": 93,
   "metadata": {
    "scrolled": false
   },
   "outputs": [
    {
     "data": {
      "text/plain": [
       "<AxesSubplot:xlabel='value', ylabel='column'>"
      ]
     },
     "execution_count": 93,
     "metadata": {},
     "output_type": "execute_result"
    },
    {
     "data": {
      "image/png": "[encoded data removed]",
      "text/plain": [
       "<Figure size 576x576 with 1 Axes>"
      ]
     },
     "metadata": {},
     "output_type": "display_data"
    }
   ],
   "source": [
    "resp = []\n",
    "for i in range(1, n_clusters +1):\n",
    "    df1 = df_pro5_t[['column',i]].rename(columns = {i:'value'})\n",
    "    df1['cluster'] = i\n",
    "    resp.append(df1)\n",
    "\n",
    "df_plot = pd.concat(resp, ignore_index = True)\n",
    "\n",
    "\n",
    "fig = plt.figure(figsize=(8,8))\n",
    "sns.barplot(data = df_plot, y = 'column', x = 'value', hue = 'cluster', orient = 'h')"
   ]
  },
  {
   "cell_type": "markdown",
   "metadata": {},
   "source": [
    "## 4.6.3 Análisis"
   ]
  },
  {
   "cell_type": "markdown",
   "metadata": {},
   "source": [
    "Vamos a tener en cuenta esta segmentación porque es representativa de la información del negocio"
   ]
  }
 ],
 "metadata": {
  "kernelspec": {
   "display_name": "Python 3",
   "language": "python",
   "name": "python3"
  },
  "language_info": {
   "codemirror_mode": {
    "name": "ipython",
    "version": 3
   },
   "file_extension": ".py",
   "mimetype": "text/x-python",
   "name": "python",
   "nbconvert_exporter": "python",
   "pygments_lexer": "ipython3",
   "version": "3.8.3"
  },
  "toc": {
   "base_numbering": 1,
   "nav_menu": {},
   "number_sections": true,
   "sideBar": true,
   "skip_h1_title": false,
   "title_cell": "Table of Contents",
   "title_sidebar": "Contents",
   "toc_cell": false,
   "toc_position": {},
   "toc_section_display": true,
   "toc_window_display": true
  }
 },
 "nbformat": 4,
 "nbformat_minor": 5
}
