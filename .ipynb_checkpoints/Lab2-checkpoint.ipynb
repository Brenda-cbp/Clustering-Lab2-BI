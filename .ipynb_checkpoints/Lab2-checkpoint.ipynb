{
 "cells": [
  {
   "cell_type": "markdown",
   "id": "1271c433",
   "metadata": {},
   "source": [
    "### Álvaro Plata (201820098), Brenda Barahona (201812721) , Sofía Álvarez (201729031)"
   ]
  },
  {
   "cell_type": "markdown",
   "id": "7026145f",
   "metadata": {},
   "source": [
    "<h1 align='center'>Laboratorio 2: Inteligencia de Negocios</h1>"
   ]
  },
  {
   "cell_type": "markdown",
   "id": "e1e59a3b",
   "metadata": {},
   "source": [
    "### 1. Análisis exploratorio y perfilamiento de los datos."
   ]
  },
  {
   "cell_type": "markdown",
   "id": "80987005",
   "metadata": {},
   "source": [
    "### 2. Preparación de datos."
   ]
  },
  {
   "cell_type": "markdown",
   "id": "f9a393c1",
   "metadata": {},
   "source": [
    "### 3. Modelamiento."
   ]
  },
  {
   "cell_type": "markdown",
   "id": "60b344b0",
   "metadata": {},
   "source": [
    "### 4. Validación."
   ]
  },
  {
   "cell_type": "markdown",
   "id": "1130db52",
   "metadata": {},
   "source": [
    "### 5. Visualización.\n",
    "Haremos la exportación de los datos para usar la herramienta PowerBi"
   ]
  },
  {
   "cell_type": "code",
   "execution_count": null,
   "id": "6f761e40",
   "metadata": {},
   "outputs": [],
   "source": []
  }
 ],
 "metadata": {
  "kernelspec": {
   "display_name": "Python 3",
   "language": "python",
   "name": "python3"
  },
  "language_info": {
   "codemirror_mode": {
    "name": "ipython",
    "version": 3
   },
   "file_extension": ".py",
   "mimetype": "text/x-python",
   "name": "python",
   "nbconvert_exporter": "python",
   "pygments_lexer": "ipython3",
   "version": "3.8.8"
  }
 },
 "nbformat": 4,
 "nbformat_minor": 5
}
